{
 "cells": [
  {
   "cell_type": "markdown",
   "metadata": {},
   "source": [
    "# <font style=\"color:rgb(50,120,229)\">DATA QUALITY ANALISYS (DQA)</font>\n",
    "![image](..\\images\\data_diagnosis_plot.png)\n",
    "<p style=\"text-align: center;\"><b>Figure 1.</b> Data Score Diagnosis</p>"
   ]
  },
  {
   "cell_type": "markdown",
   "metadata": {
    "ExecuteTime": {
     "end_time": "2020-05-21T18:21:35.990129Z",
     "start_time": "2020-05-21T18:21:35.984591Z"
    }
   },
   "source": [
    "## <font style=\"color:rgb(50,120,229)\">1) Problem definition: What problem are we trying to solve?</font>\n",
    "Bad data quality leads to inaccurate and slow decision-making. This doesn’t happen all at once, as data quality tends to deteriorate over time. We can’t avoid this. But we can create algorithms to identify the problems, process them and improve data quality, and make sure we add value at every stage of the process. "
   ]
  },
  {
   "cell_type": "markdown",
   "metadata": {},
   "source": [
    "## <font style=\"color:rgb(50,120,229)\">2) Evaluation: What define success for us?</font>\n",
    "\n",
    "Seeing that, we have to understand the following criteria of data quality:\n",
    "\n",
    "\n",
    "* **Completeness**: Data is considered complete when it meets the expectations. We may have optional data, but lack of completeness means that we’re missing the information that we do want.\n",
    "\n",
    "* **Consistency**: Data is considered inconsistent if we have contradictory or conflicting information about the same thing in two or more different places.\n",
    "\n",
    "* **Timeliness**: Is the information available when it’s expected? For example, log reports of an error being accessible 5 hours after the error happened is not acceptable.\n",
    "\n",
    "* **Integrity**: This concept speaks about well-designed data and systems. As an example, in a relational database, it means no orphaned records or lack of linkages between semantically linked data.\n",
    "\n",
    "* **Accuracy**: This means that what we store should be accurate enough to reflect real life values. If we store the wrong birthday for a person, there’s an accuracy problem.\n",
    "\n",
    "* **Standardization**: This dimension is still subject to discussion, but decisions taken during database design should be consistent and follow standards (either using common standards or your own variations). In relational models, the different ways of normalization are standards. Often times, you end up consciously denormalizing data (to increase performance, as an example), but that decision should be taken using objective arguments that can be incorporated into your own standard. Other details like date formats are matter here.\n"
   ]
  },
  {
   "cell_type": "markdown",
   "metadata": {},
   "source": [
    "## <font style=\"color:rgb(50,120,229)\">3) Data</font>"
   ]
  },
  {
   "cell_type": "markdown",
   "metadata": {},
   "source": [
    "### <font style=\"color:rgb(50,120,229)\">3.1. Read the Manual </font>"
   ]
  },
  {
   "cell_type": "markdown",
   "metadata": {},
   "source": [
    "For the purpose of this test we are going to use the [Homicidios 2018](https://www.datos.gov.co/Seguridad-y-Defensa/Homicidios-2018/pz7x-mkbs) dataset from the public government data related to security and defense. The data shows the number of homicides that occurred in the Colombian territory from January 1 until December 31 on 2018.\n",
    "\n",
    "Going into this work, the only information available we have is from the dataset manual.\n",
    "\n",
    "\n",
    "**Format**\n",
    "\n",
    "A data frame containing 4,966 observations on 20 variables [The following order correspond to the information show in the dataset].\n",
    "\n",
    "* **Fecha**: date of the homicide ```[datetime]```\n",
    "* **Departamento**: This is the political-administrative internal division of Colombia (like a state from U.S.). This variable represents the name of the *Departmento* where the murder occurred ```[string]```\n",
    "* **Municipio**: Each Department is fractioned in smaller sub-regions called “municipios”. This variable represents the name of the *Municipio* where the murder occurred ```[string]```\n",
    "* **Dia**: Day of the week where the murder occurred```[string]```\n",
    "* **Hora**: Hour of the day where the murder took place```[string]```\n",
    "* **Barrio**: Neighborhood of the *Municipio* where the murder happened ```[string]```\n",
    "* **Zona**: Sector of the territory (rural, urban) where the murder occurred ```[string]```\n",
    "* **Clase de sitio**: Place where the homicide occurred (public road, apartment, etc.) ```[string]```\n",
    "* **Arma empleada**: Weapon used in the homicide ```[string]```\n",
    "* **Móvil del agresor**: Vehicle of the aggressor ```[string]```\n",
    "* **Móvil victima**: Vehicle of the victim ```[string]```\n",
    "* **Edad**: Age of the victim ```[integer]```\n",
    "* **Sexo**: Gender of the victim ```[string]```\n",
    "* **País de nacimiento**: Nationality of the victim  ```[string]```\n",
    "* **Clase de empleado**: Employment condition of the victim ```[string]```\n",
    "* **Profesión**: Profession of the victim ```[string]```\n",
    "* **Escolaridad**: Maximum schooling achieved ```[string]```\n",
    "* **Código DANE**: ID given to the homicide by DANE ```[float]```\n",
    "* **Cantidad**: Number of deaths occurred at the scene ```[integer]```"
   ]
  },
  {
   "cell_type": "markdown",
   "metadata": {
    "ExecuteTime": {
     "end_time": "2020-05-22T02:26:27.656212Z",
     "start_time": "2020-05-22T02:26:27.644336Z"
    }
   },
   "source": [
    "### <font style=\"color:rgb(50,120,229)\">3.2. Review the Data Types </font>\n",
    "\n",
    "Do the data types line up with the manual? Do they make sense for kinds of data we have?"
   ]
  },
  {
   "cell_type": "code",
   "execution_count": 38,
   "metadata": {
    "ExecuteTime": {
     "end_time": "2020-05-25T13:31:33.105869Z",
     "start_time": "2020-05-25T13:31:33.099863Z"
    }
   },
   "outputs": [],
   "source": [
    "import sys\n",
    "import random\n",
    "import pathlib\n",
    "import datetime\n",
    "import numpy as np\n",
    "import pandas as pd\n",
    "import seaborn as sns\n",
    "import matplotlib.pyplot as plt\n",
    "\n",
    "%matplotlib inline"
   ]
  },
  {
   "cell_type": "code",
   "execution_count": 39,
   "metadata": {
    "ExecuteTime": {
     "end_time": "2020-05-25T13:31:34.048106Z",
     "start_time": "2020-05-25T13:31:34.045114Z"
    }
   },
   "outputs": [],
   "source": [
    "import matplotlib\n",
    "matplotlib.rcParams['image.cmap'] = 'gray'"
   ]
  },
  {
   "cell_type": "code",
   "execution_count": 43,
   "metadata": {
    "ExecuteTime": {
     "end_time": "2020-05-25T13:49:35.634380Z",
     "start_time": "2020-05-25T13:49:34.950667Z"
    }
   },
   "outputs": [],
   "source": [
    "# Data loading\n",
    "DATA_PATH = pathlib.Path(r\"..\\data\\homicidios-2018.xls\") # OS agnostic PATH\n",
    "dataset = pd.read_excel(str(DATA_PATH),keep_default_na=True, na_values=[\"-\"])"
   ]
  },
  {
   "cell_type": "code",
   "execution_count": 44,
   "metadata": {
    "ExecuteTime": {
     "end_time": "2020-05-25T13:49:35.653293Z",
     "start_time": "2020-05-25T13:49:35.635339Z"
    }
   },
   "outputs": [
    {
     "name": "stdout",
     "output_type": "stream",
     "text": [
      "<class 'pandas.core.frame.DataFrame'>\n",
      "RangeIndex: 12647 entries, 0 to 12646\n",
      "Data columns (total 20 columns):\n",
      " #   Column              Non-Null Count  Dtype         \n",
      "---  ------              --------------  -----         \n",
      " 0   Fecha               12646 non-null  datetime64[ns]\n",
      " 1   Departamento        12646 non-null  object        \n",
      " 2   Municipio           12646 non-null  object        \n",
      " 3   Día                 12646 non-null  object        \n",
      " 4   Hora                12646 non-null  object        \n",
      " 5   Barrio              12646 non-null  object        \n",
      " 6   Zona                12646 non-null  object        \n",
      " 7   Clase de sitio      12646 non-null  object        \n",
      " 8   Arma empleada       12646 non-null  object        \n",
      " 9   Móvil Agresor       12621 non-null  object        \n",
      " 10  Móvil Victima       12621 non-null  object        \n",
      " 11  Edad                12623 non-null  float64       \n",
      " 12  Sexo                12646 non-null  object        \n",
      " 13  Estado civil        12610 non-null  object        \n",
      " 14  País de nacimiento  12548 non-null  object        \n",
      " 15  Clase de empleado   12646 non-null  object        \n",
      " 16  Profesión           283 non-null    object        \n",
      " 17  Escolaridad         12608 non-null  object        \n",
      " 18  Código DANE         12646 non-null  float64       \n",
      " 19  Cantidad            12647 non-null  int64         \n",
      "dtypes: datetime64[ns](1), float64(2), int64(1), object(16)\n",
      "memory usage: 1.9+ MB\n"
     ]
    }
   ],
   "source": [
    "dataset.info()"
   ]
  },
  {
   "cell_type": "markdown",
   "metadata": {
    "ExecuteTime": {
     "end_time": "2020-05-22T02:46:54.534675Z",
     "start_time": "2020-05-22T02:46:54.531683Z"
    }
   },
   "source": [
    "### <font style=\"color:rgb(50,120,229)\">3.3. Print Sample Rows </font>"
   ]
  },
  {
   "cell_type": "markdown",
   "metadata": {},
   "source": [
    "Print a random slice of rows and review the values. Be sure to preserve the row order in case the data happens to be sorted or has other inter-row structure. Do the orders of magnitude of the data make sense? Are there any nested datatypes that need to be unpacked? Is each column expressed in useful units?"
   ]
  },
  {
   "cell_type": "code",
   "execution_count": 45,
   "metadata": {
    "ExecuteTime": {
     "end_time": "2020-05-25T13:49:41.930047Z",
     "start_time": "2020-05-25T13:49:41.907104Z"
    }
   },
   "outputs": [
    {
     "data": {
      "text/html": [
       "<div>\n",
       "<style scoped>\n",
       "    .dataframe tbody tr th:only-of-type {\n",
       "        vertical-align: middle;\n",
       "    }\n",
       "\n",
       "    .dataframe tbody tr th {\n",
       "        vertical-align: top;\n",
       "    }\n",
       "\n",
       "    .dataframe thead th {\n",
       "        text-align: right;\n",
       "    }\n",
       "</style>\n",
       "<table border=\"1\" class=\"dataframe\">\n",
       "  <thead>\n",
       "    <tr style=\"text-align: right;\">\n",
       "      <th></th>\n",
       "      <th>Fecha</th>\n",
       "      <th>Departamento</th>\n",
       "      <th>Municipio</th>\n",
       "      <th>Día</th>\n",
       "      <th>Hora</th>\n",
       "      <th>Barrio</th>\n",
       "      <th>Zona</th>\n",
       "      <th>Clase de sitio</th>\n",
       "      <th>Arma empleada</th>\n",
       "      <th>Móvil Agresor</th>\n",
       "      <th>Móvil Victima</th>\n",
       "      <th>Edad</th>\n",
       "      <th>Sexo</th>\n",
       "      <th>Estado civil</th>\n",
       "      <th>País de nacimiento</th>\n",
       "      <th>Clase de empleado</th>\n",
       "      <th>Profesión</th>\n",
       "      <th>Escolaridad</th>\n",
       "      <th>Código DANE</th>\n",
       "      <th>Cantidad</th>\n",
       "    </tr>\n",
       "  </thead>\n",
       "  <tbody>\n",
       "    <tr>\n",
       "      <th>10476</th>\n",
       "      <td>2018-11-02</td>\n",
       "      <td>CUNDINAMARCA</td>\n",
       "      <td>BOGOTÁ D.C. (CT)</td>\n",
       "      <td>Viernes</td>\n",
       "      <td>18:15:00</td>\n",
       "      <td>MADELENA I Y II SECTOR E-19</td>\n",
       "      <td>URBANA</td>\n",
       "      <td>VIAS PUBLICAS</td>\n",
       "      <td>ARMA DE FUEGO</td>\n",
       "      <td>A PIE</td>\n",
       "      <td>A PIE</td>\n",
       "      <td>28.0</td>\n",
       "      <td>MASCULINO</td>\n",
       "      <td>SOLTERO</td>\n",
       "      <td>COLOMBIA</td>\n",
       "      <td>INDEPENDIENTE</td>\n",
       "      <td>NaN</td>\n",
       "      <td>SECUNDARIA</td>\n",
       "      <td>11001000.0</td>\n",
       "      <td>1</td>\n",
       "    </tr>\n",
       "    <tr>\n",
       "      <th>10477</th>\n",
       "      <td>2018-11-02</td>\n",
       "      <td>CUNDINAMARCA</td>\n",
       "      <td>VILLETA</td>\n",
       "      <td>Viernes</td>\n",
       "      <td>21:00:00</td>\n",
       "      <td>CARLOS LLERAS</td>\n",
       "      <td>URBANA</td>\n",
       "      <td>CASAS DE HABITACION</td>\n",
       "      <td>ARMA DE FUEGO</td>\n",
       "      <td>A PIE</td>\n",
       "      <td>A PIE</td>\n",
       "      <td>31.0</td>\n",
       "      <td>FEMENINO</td>\n",
       "      <td>UNION LIBRE</td>\n",
       "      <td>COLOMBIA</td>\n",
       "      <td>EMPLEADO PARTICULAR</td>\n",
       "      <td>TECNOLOGO  EN ENFERMERIA</td>\n",
       "      <td>TECNOLOGO</td>\n",
       "      <td>25875000.0</td>\n",
       "      <td>1</td>\n",
       "    </tr>\n",
       "    <tr>\n",
       "      <th>10478</th>\n",
       "      <td>2018-11-02</td>\n",
       "      <td>GUAJIRA</td>\n",
       "      <td>RIOHACHA (CT)</td>\n",
       "      <td>Viernes</td>\n",
       "      <td>06:30:00</td>\n",
       "      <td>EURARE</td>\n",
       "      <td>URBANA</td>\n",
       "      <td>VIAS PUBLICAS</td>\n",
       "      <td>ARMA DE FUEGO</td>\n",
       "      <td>A PIE</td>\n",
       "      <td>A PIE</td>\n",
       "      <td>37.0</td>\n",
       "      <td>MASCULINO</td>\n",
       "      <td>UNION LIBRE</td>\n",
       "      <td>COLOMBIA</td>\n",
       "      <td>EMPLEADO PARTICULAR</td>\n",
       "      <td>NaN</td>\n",
       "      <td>SECUNDARIA</td>\n",
       "      <td>44001000.0</td>\n",
       "      <td>1</td>\n",
       "    </tr>\n",
       "    <tr>\n",
       "      <th>10479</th>\n",
       "      <td>2018-11-02</td>\n",
       "      <td>HUILA</td>\n",
       "      <td>NEIVA (CT)</td>\n",
       "      <td>Viernes</td>\n",
       "      <td>19:00:00</td>\n",
       "      <td>VEREDA EL TRIUNFO</td>\n",
       "      <td>RURAL</td>\n",
       "      <td>PUENTE</td>\n",
       "      <td>ARMA DE FUEGO</td>\n",
       "      <td>A PIE</td>\n",
       "      <td>CONDUCTOR MOTOCICLETA</td>\n",
       "      <td>38.0</td>\n",
       "      <td>MASCULINO</td>\n",
       "      <td>UNION LIBRE</td>\n",
       "      <td>COLOMBIA</td>\n",
       "      <td>EMPLEADO PARTICULAR</td>\n",
       "      <td>NaN</td>\n",
       "      <td>PRIMARIA</td>\n",
       "      <td>41001000.0</td>\n",
       "      <td>1</td>\n",
       "    </tr>\n",
       "    <tr>\n",
       "      <th>10480</th>\n",
       "      <td>2018-11-02</td>\n",
       "      <td>NARIÑO</td>\n",
       "      <td>SAN ANDRES DE TUMACO</td>\n",
       "      <td>Viernes</td>\n",
       "      <td>07:16:00</td>\n",
       "      <td>CIUDAD 2000</td>\n",
       "      <td>URBANA</td>\n",
       "      <td>VIAS PUBLICAS</td>\n",
       "      <td>ARMA DE FUEGO</td>\n",
       "      <td>A PIE</td>\n",
       "      <td>A PIE</td>\n",
       "      <td>32.0</td>\n",
       "      <td>MASCULINO</td>\n",
       "      <td>SOLTERO</td>\n",
       "      <td>COLOMBIA</td>\n",
       "      <td>INDEPENDIENTE</td>\n",
       "      <td>NaN</td>\n",
       "      <td>PRIMARIA</td>\n",
       "      <td>52835000.0</td>\n",
       "      <td>1</td>\n",
       "    </tr>\n",
       "  </tbody>\n",
       "</table>\n",
       "</div>"
      ],
      "text/plain": [
       "           Fecha  Departamento             Municipio      Día      Hora  \\\n",
       "10476 2018-11-02  CUNDINAMARCA      BOGOTÁ D.C. (CT)  Viernes  18:15:00   \n",
       "10477 2018-11-02  CUNDINAMARCA               VILLETA  Viernes  21:00:00   \n",
       "10478 2018-11-02       GUAJIRA         RIOHACHA (CT)  Viernes  06:30:00   \n",
       "10479 2018-11-02         HUILA            NEIVA (CT)  Viernes  19:00:00   \n",
       "10480 2018-11-02        NARIÑO  SAN ANDRES DE TUMACO  Viernes  07:16:00   \n",
       "\n",
       "                            Barrio    Zona       Clase de sitio  \\\n",
       "10476  MADELENA I Y II SECTOR E-19  URBANA        VIAS PUBLICAS   \n",
       "10477                CARLOS LLERAS  URBANA  CASAS DE HABITACION   \n",
       "10478                       EURARE  URBANA        VIAS PUBLICAS   \n",
       "10479            VEREDA EL TRIUNFO   RURAL               PUENTE   \n",
       "10480                  CIUDAD 2000  URBANA        VIAS PUBLICAS   \n",
       "\n",
       "       Arma empleada Móvil Agresor          Móvil Victima  Edad       Sexo  \\\n",
       "10476  ARMA DE FUEGO         A PIE                  A PIE  28.0  MASCULINO   \n",
       "10477  ARMA DE FUEGO         A PIE                  A PIE  31.0   FEMENINO   \n",
       "10478  ARMA DE FUEGO         A PIE                  A PIE  37.0  MASCULINO   \n",
       "10479  ARMA DE FUEGO         A PIE  CONDUCTOR MOTOCICLETA  38.0  MASCULINO   \n",
       "10480  ARMA DE FUEGO         A PIE                  A PIE  32.0  MASCULINO   \n",
       "\n",
       "      Estado civil País de nacimiento    Clase de empleado  \\\n",
       "10476      SOLTERO           COLOMBIA        INDEPENDIENTE   \n",
       "10477  UNION LIBRE           COLOMBIA  EMPLEADO PARTICULAR   \n",
       "10478  UNION LIBRE           COLOMBIA  EMPLEADO PARTICULAR   \n",
       "10479  UNION LIBRE           COLOMBIA  EMPLEADO PARTICULAR   \n",
       "10480      SOLTERO           COLOMBIA        INDEPENDIENTE   \n",
       "\n",
       "                      Profesión Escolaridad  Código DANE  Cantidad  \n",
       "10476                       NaN  SECUNDARIA   11001000.0         1  \n",
       "10477  TECNOLOGO  EN ENFERMERIA   TECNOLOGO   25875000.0         1  \n",
       "10478                       NaN  SECUNDARIA   44001000.0         1  \n",
       "10479                       NaN    PRIMARIA   41001000.0         1  \n",
       "10480                       NaN    PRIMARIA   52835000.0         1  "
      ]
     },
     "execution_count": 45,
     "metadata": {},
     "output_type": "execute_result"
    }
   ],
   "source": [
    "random.seed(42)\n",
    "dataset[random.randint(0, len(dataset)):].head()"
   ]
  },
  {
   "cell_type": "markdown",
   "metadata": {},
   "source": [
    "Potential issues or changes:\n",
    "\n",
    "* If only one homicide is recorded in the column **Cantidad**, is it necessary to use it?\n",
    "\n",
    "* ~~The way the time is represented (**Hora** variable) must be changed~~ [only for questions]\n",
    "\n",
    "* The variable **Código DANE** is a representative ID of each row. Therefore, the database could be indexed with this variable to avoid its use in later operations. But this would limit a future filtering of the database using another variable as index. So we'll leave it that way, knowing that it's not a usable dependent variable.\n",
    "\n",
    "<span style=\"color:red\">All this was solved by changing the way pandas reads data and handles missing values</span>.\n",
    "\n",
    "* ~~The variable **Edad**  is being stored as an object type, that leads us to think that values other than integers~~\n",
    "* ~~Some missing value columns are not being identified because instead of being empty they have the string **\"-\"**.~~\n",
    "* ~~Obvious conflicts with the manual are a bad sign;  We need to using a **sentinel approach**  (the sentinel value could be some data-specific convention, such as indicating a missing integer value with -9999 or some rare bit pattern, or it could be a more global convention, such as indicating a missing floating-point value with NaN (Not a Number), a special value which is part of the IEEE floating-point specification)~~"
   ]
  },
  {
   "cell_type": "markdown",
   "metadata": {},
   "source": [
    "### <font style=\"color:rgb(50,120,229)\">3.4. Summary Statistics</font>\n",
    "This stage allows us to do basic sanity checks about the distribution of the data."
   ]
  },
  {
   "cell_type": "code",
   "execution_count": 51,
   "metadata": {
    "ExecuteTime": {
     "end_time": "2020-05-25T13:55:34.504429Z",
     "start_time": "2020-05-25T13:55:34.484507Z"
    }
   },
   "outputs": [
    {
     "data": {
      "text/html": [
       "<div>\n",
       "<style scoped>\n",
       "    .dataframe tbody tr th:only-of-type {\n",
       "        vertical-align: middle;\n",
       "    }\n",
       "\n",
       "    .dataframe tbody tr th {\n",
       "        vertical-align: top;\n",
       "    }\n",
       "\n",
       "    .dataframe thead th {\n",
       "        text-align: right;\n",
       "    }\n",
       "</style>\n",
       "<table border=\"1\" class=\"dataframe\">\n",
       "  <thead>\n",
       "    <tr style=\"text-align: right;\">\n",
       "      <th></th>\n",
       "      <th>Edad</th>\n",
       "      <th>Cantidad</th>\n",
       "    </tr>\n",
       "  </thead>\n",
       "  <tbody>\n",
       "    <tr>\n",
       "      <th>count</th>\n",
       "      <td>12623.000000</td>\n",
       "      <td>12647.000000</td>\n",
       "    </tr>\n",
       "    <tr>\n",
       "      <th>mean</th>\n",
       "      <td>32.763131</td>\n",
       "      <td>2.003163</td>\n",
       "    </tr>\n",
       "    <tr>\n",
       "      <th>std</th>\n",
       "      <td>12.995391</td>\n",
       "      <td>112.627825</td>\n",
       "    </tr>\n",
       "    <tr>\n",
       "      <th>min</th>\n",
       "      <td>0.000000</td>\n",
       "      <td>1.000000</td>\n",
       "    </tr>\n",
       "    <tr>\n",
       "      <th>25%</th>\n",
       "      <td>23.000000</td>\n",
       "      <td>1.000000</td>\n",
       "    </tr>\n",
       "    <tr>\n",
       "      <th>50%</th>\n",
       "      <td>30.000000</td>\n",
       "      <td>1.000000</td>\n",
       "    </tr>\n",
       "    <tr>\n",
       "      <th>75%</th>\n",
       "      <td>39.000000</td>\n",
       "      <td>1.000000</td>\n",
       "    </tr>\n",
       "    <tr>\n",
       "      <th>max</th>\n",
       "      <td>100.000000</td>\n",
       "      <td>12667.000000</td>\n",
       "    </tr>\n",
       "  </tbody>\n",
       "</table>\n",
       "</div>"
      ],
      "text/plain": [
       "               Edad      Cantidad\n",
       "count  12623.000000  12647.000000\n",
       "mean      32.763131      2.003163\n",
       "std       12.995391    112.627825\n",
       "min        0.000000      1.000000\n",
       "25%       23.000000      1.000000\n",
       "50%       30.000000      1.000000\n",
       "75%       39.000000      1.000000\n",
       "max      100.000000  12667.000000"
      ]
     },
     "execution_count": 51,
     "metadata": {},
     "output_type": "execute_result"
    }
   ],
   "source": [
    "dataset_desc = dataset.drop('Código DANE', 1)\n",
    "dataset_desc.describe()"
   ]
  },
  {
   "cell_type": "code",
   "execution_count": 53,
   "metadata": {
    "ExecuteTime": {
     "end_time": "2020-05-25T13:57:04.170417Z",
     "start_time": "2020-05-25T13:57:04.166428Z"
    }
   },
   "outputs": [
    {
     "data": {
      "text/plain": [
       "array([    1,     2,     3, 12667], dtype=int64)"
      ]
     },
     "execution_count": 53,
     "metadata": {},
     "output_type": "execute_result"
    }
   ],
   "source": [
    "# See the unique values in the column \"Edad\" \n",
    "dataset[\"Cantidad\"].unique()"
   ]
  },
  {
   "cell_type": "markdown",
   "metadata": {},
   "source": [
    "Potential issues:\n",
    "\n",
    "* The minimum age is unusually low \n",
    "* The number of murders in some cases is extremely high"
   ]
  },
  {
   "cell_type": "markdown",
   "metadata": {},
   "source": [
    "### <font style=\"color:rgb(50,120,229)\">3.4. Solve the issues and make the neccesary changes</font>\n",
    "\n",
    "#### <font style=\"color:rgb(50,120,229)\">3.4.1. Delete the variable Cantidad outlier</font>"
   ]
  },
  {
   "cell_type": "code",
   "execution_count": 54,
   "metadata": {
    "ExecuteTime": {
     "end_time": "2020-05-25T14:10:49.518934Z",
     "start_time": "2020-05-25T14:10:49.403243Z"
    }
   },
   "outputs": [
    {
     "data": {
      "image/png": "[encoded data removed]",
      "text/plain": [
       "<Figure size 432x288 with 1 Axes>"
      ]
     },
     "metadata": {
      "needs_background": "light"
     },
     "output_type": "display_data"
    }
   ],
   "source": [
    "# boxplot to show the outliers\n",
    "boxplot = dataset.boxplot(column=\"Cantidad\")"
   ]
  },
  {
   "cell_type": "code",
   "execution_count": 55,
   "metadata": {
    "ExecuteTime": {
     "end_time": "2020-05-25T14:12:43.588873Z",
     "start_time": "2020-05-25T14:12:43.567972Z"
    }
   },
   "outputs": [
    {
     "data": {
      "text/html": [
       "<div>\n",
       "<style scoped>\n",
       "    .dataframe tbody tr th:only-of-type {\n",
       "        vertical-align: middle;\n",
       "    }\n",
       "\n",
       "    .dataframe tbody tr th {\n",
       "        vertical-align: top;\n",
       "    }\n",
       "\n",
       "    .dataframe thead th {\n",
       "        text-align: right;\n",
       "    }\n",
       "</style>\n",
       "<table border=\"1\" class=\"dataframe\">\n",
       "  <thead>\n",
       "    <tr style=\"text-align: right;\">\n",
       "      <th></th>\n",
       "      <th>Fecha</th>\n",
       "      <th>Departamento</th>\n",
       "      <th>Municipio</th>\n",
       "      <th>Día</th>\n",
       "      <th>Hora</th>\n",
       "      <th>Barrio</th>\n",
       "      <th>Zona</th>\n",
       "      <th>Clase de sitio</th>\n",
       "      <th>Arma empleada</th>\n",
       "      <th>Móvil Agresor</th>\n",
       "      <th>Móvil Victima</th>\n",
       "      <th>Edad</th>\n",
       "      <th>Sexo</th>\n",
       "      <th>Estado civil</th>\n",
       "      <th>País de nacimiento</th>\n",
       "      <th>Clase de empleado</th>\n",
       "      <th>Profesión</th>\n",
       "      <th>Escolaridad</th>\n",
       "      <th>Código DANE</th>\n",
       "      <th>Cantidad</th>\n",
       "    </tr>\n",
       "  </thead>\n",
       "  <tbody>\n",
       "    <tr>\n",
       "      <th>12646</th>\n",
       "      <td>NaT</td>\n",
       "      <td>NaN</td>\n",
       "      <td>NaN</td>\n",
       "      <td>NaN</td>\n",
       "      <td>NaN</td>\n",
       "      <td>NaN</td>\n",
       "      <td>NaN</td>\n",
       "      <td>NaN</td>\n",
       "      <td>NaN</td>\n",
       "      <td>NaN</td>\n",
       "      <td>NaN</td>\n",
       "      <td>NaN</td>\n",
       "      <td>NaN</td>\n",
       "      <td>NaN</td>\n",
       "      <td>NaN</td>\n",
       "      <td>NaN</td>\n",
       "      <td>NaN</td>\n",
       "      <td>NaN</td>\n",
       "      <td>NaN</td>\n",
       "      <td>12667</td>\n",
       "    </tr>\n",
       "  </tbody>\n",
       "</table>\n",
       "</div>"
      ],
      "text/plain": [
       "      Fecha Departamento Municipio  Día Hora Barrio Zona Clase de sitio  \\\n",
       "12646   NaT          NaN       NaN  NaN  NaN    NaN  NaN            NaN   \n",
       "\n",
       "      Arma empleada Móvil Agresor Móvil Victima  Edad Sexo Estado civil  \\\n",
       "12646           NaN           NaN           NaN   NaN  NaN          NaN   \n",
       "\n",
       "      País de nacimiento Clase de empleado Profesión Escolaridad  Código DANE  \\\n",
       "12646                NaN               NaN       NaN         NaN          NaN   \n",
       "\n",
       "       Cantidad  \n",
       "12646     12667  "
      ]
     },
     "execution_count": 55,
     "metadata": {},
     "output_type": "execute_result"
    }
   ],
   "source": [
    "# Which row contains the outlier?\n",
    "outlier_row = dataset.query('Cantidad == 12667')\n",
    "outlier_row"
   ]
  },
  {
   "cell_type": "code",
   "execution_count": 56,
   "metadata": {
    "ExecuteTime": {
     "end_time": "2020-05-25T14:12:45.264760Z",
     "start_time": "2020-05-25T14:12:45.258782Z"
    }
   },
   "outputs": [],
   "source": [
    "# Delete the 12646 row\n",
    "dataset = dataset.drop([12646], axis=0)"
   ]
  },
  {
   "cell_type": "code",
   "execution_count": 58,
   "metadata": {
    "ExecuteTime": {
     "end_time": "2020-05-25T14:13:28.861747Z",
     "start_time": "2020-05-25T14:13:28.840778Z"
    }
   },
   "outputs": [
    {
     "data": {
      "text/html": [
       "<div>\n",
       "<style scoped>\n",
       "    .dataframe tbody tr th:only-of-type {\n",
       "        vertical-align: middle;\n",
       "    }\n",
       "\n",
       "    .dataframe tbody tr th {\n",
       "        vertical-align: top;\n",
       "    }\n",
       "\n",
       "    .dataframe thead th {\n",
       "        text-align: right;\n",
       "    }\n",
       "</style>\n",
       "<table border=\"1\" class=\"dataframe\">\n",
       "  <thead>\n",
       "    <tr style=\"text-align: right;\">\n",
       "      <th></th>\n",
       "      <th>Edad</th>\n",
       "      <th>Cantidad</th>\n",
       "    </tr>\n",
       "  </thead>\n",
       "  <tbody>\n",
       "    <tr>\n",
       "      <th>count</th>\n",
       "      <td>12623.000000</td>\n",
       "      <td>12646.000000</td>\n",
       "    </tr>\n",
       "    <tr>\n",
       "      <th>mean</th>\n",
       "      <td>32.763131</td>\n",
       "      <td>1.001661</td>\n",
       "    </tr>\n",
       "    <tr>\n",
       "      <th>std</th>\n",
       "      <td>12.995391</td>\n",
       "      <td>0.042616</td>\n",
       "    </tr>\n",
       "    <tr>\n",
       "      <th>min</th>\n",
       "      <td>0.000000</td>\n",
       "      <td>1.000000</td>\n",
       "    </tr>\n",
       "    <tr>\n",
       "      <th>25%</th>\n",
       "      <td>23.000000</td>\n",
       "      <td>1.000000</td>\n",
       "    </tr>\n",
       "    <tr>\n",
       "      <th>50%</th>\n",
       "      <td>30.000000</td>\n",
       "      <td>1.000000</td>\n",
       "    </tr>\n",
       "    <tr>\n",
       "      <th>75%</th>\n",
       "      <td>39.000000</td>\n",
       "      <td>1.000000</td>\n",
       "    </tr>\n",
       "    <tr>\n",
       "      <th>max</th>\n",
       "      <td>100.000000</td>\n",
       "      <td>3.000000</td>\n",
       "    </tr>\n",
       "  </tbody>\n",
       "</table>\n",
       "</div>"
      ],
      "text/plain": [
       "               Edad      Cantidad\n",
       "count  12623.000000  12646.000000\n",
       "mean      32.763131      1.001661\n",
       "std       12.995391      0.042616\n",
       "min        0.000000      1.000000\n",
       "25%       23.000000      1.000000\n",
       "50%       30.000000      1.000000\n",
       "75%       39.000000      1.000000\n",
       "max      100.000000      3.000000"
      ]
     },
     "execution_count": 58,
     "metadata": {},
     "output_type": "execute_result"
    }
   ],
   "source": [
    "# The outiler was removed?\n",
    "dataset_desc2 = dataset.drop('Código DANE', 1)\n",
    "dataset_desc2.describe()"
   ]
  },
  {
   "cell_type": "markdown",
   "metadata": {
    "ExecuteTime": {
     "end_time": "2020-05-22T20:39:50.154223Z",
     "start_time": "2020-05-22T20:39:50.151230Z"
    }
   },
   "source": [
    "#### <font style=\"color:rgb(50,120,229)\">3.4.2. Analize the low values in variable \"Edad\"</font>"
   ]
  },
  {
   "cell_type": "code",
   "execution_count": 13,
   "metadata": {
    "ExecuteTime": {
     "end_time": "2020-05-25T13:08:37.065620Z",
     "start_time": "2020-05-25T13:08:37.036662Z"
    }
   },
   "outputs": [
    {
     "data": {
      "text/html": [
       "<div>\n",
       "<style scoped>\n",
       "    .dataframe tbody tr th:only-of-type {\n",
       "        vertical-align: middle;\n",
       "    }\n",
       "\n",
       "    .dataframe tbody tr th {\n",
       "        vertical-align: top;\n",
       "    }\n",
       "\n",
       "    .dataframe thead th {\n",
       "        text-align: right;\n",
       "    }\n",
       "</style>\n",
       "<table border=\"1\" class=\"dataframe\">\n",
       "  <thead>\n",
       "    <tr style=\"text-align: right;\">\n",
       "      <th></th>\n",
       "      <th>Fecha</th>\n",
       "      <th>Departamento</th>\n",
       "      <th>Municipio</th>\n",
       "      <th>Día</th>\n",
       "      <th>Hora</th>\n",
       "      <th>Barrio</th>\n",
       "      <th>Zona</th>\n",
       "      <th>Clase de sitio</th>\n",
       "      <th>Arma empleada</th>\n",
       "      <th>Móvil Agresor</th>\n",
       "      <th>Móvil Victima</th>\n",
       "      <th>Edad</th>\n",
       "      <th>Sexo</th>\n",
       "      <th>Estado civil</th>\n",
       "      <th>País de nacimiento</th>\n",
       "      <th>Clase de empleado</th>\n",
       "      <th>Profesión</th>\n",
       "      <th>Escolaridad</th>\n",
       "      <th>Código DANE</th>\n",
       "      <th>Cantidad</th>\n",
       "    </tr>\n",
       "  </thead>\n",
       "  <tbody>\n",
       "    <tr>\n",
       "      <th>549</th>\n",
       "      <td>2018-01-17</td>\n",
       "      <td>ATLÁNTICO</td>\n",
       "      <td>BARRANQUILLA (CT)</td>\n",
       "      <td>Miércoles</td>\n",
       "      <td>06:30:00</td>\n",
       "      <td>SANTO DOMINGO DE GUZMAN</td>\n",
       "      <td>URBANA</td>\n",
       "      <td>DENTRO DE LA VIVIENDA</td>\n",
       "      <td>CONTUNDENTES</td>\n",
       "      <td>A PIE</td>\n",
       "      <td>A PIE</td>\n",
       "      <td>0.0</td>\n",
       "      <td>MASCULINO</td>\n",
       "      <td>SOLTERO</td>\n",
       "      <td>COLOMBIA</td>\n",
       "      <td>DESEMPLEADO</td>\n",
       "      <td>NaN</td>\n",
       "      <td>NO REPORTADO</td>\n",
       "      <td>8001000.0</td>\n",
       "      <td>1</td>\n",
       "    </tr>\n",
       "    <tr>\n",
       "      <th>967</th>\n",
       "      <td>2018-01-28</td>\n",
       "      <td>ANTIOQUIA</td>\n",
       "      <td>SEGOVIA</td>\n",
       "      <td>Domingo</td>\n",
       "      <td>19:00:00</td>\n",
       "      <td>GALAN</td>\n",
       "      <td>URBANA</td>\n",
       "      <td>LOTE BALDIO</td>\n",
       "      <td>CONTUNDENTES</td>\n",
       "      <td>A PIE</td>\n",
       "      <td>A PIE</td>\n",
       "      <td>0.0</td>\n",
       "      <td>MASCULINO</td>\n",
       "      <td>SOLTERO</td>\n",
       "      <td>COLOMBIA</td>\n",
       "      <td>DESEMPLEADO</td>\n",
       "      <td>NaN</td>\n",
       "      <td>ANALFABETA</td>\n",
       "      <td>5736000.0</td>\n",
       "      <td>1</td>\n",
       "    </tr>\n",
       "    <tr>\n",
       "      <th>5251</th>\n",
       "      <td>2018-05-31</td>\n",
       "      <td>ATLÁNTICO</td>\n",
       "      <td>BARRANQUILLA (CT)</td>\n",
       "      <td>Jueves</td>\n",
       "      <td>05:00:00</td>\n",
       "      <td>REBOLO</td>\n",
       "      <td>URBANA</td>\n",
       "      <td>CASAS DE HABITACION</td>\n",
       "      <td>CONTUNDENTES</td>\n",
       "      <td>A PIE</td>\n",
       "      <td>A PIE</td>\n",
       "      <td>0.0</td>\n",
       "      <td>MASCULINO</td>\n",
       "      <td>SOLTERO</td>\n",
       "      <td>COLOMBIA</td>\n",
       "      <td>DESEMPLEADO</td>\n",
       "      <td>NaN</td>\n",
       "      <td>ANALFABETA</td>\n",
       "      <td>8001000.0</td>\n",
       "      <td>1</td>\n",
       "    </tr>\n",
       "    <tr>\n",
       "      <th>10179</th>\n",
       "      <td>2018-10-24</td>\n",
       "      <td>ANTIOQUIA</td>\n",
       "      <td>VIGÍA DEL FUERTE</td>\n",
       "      <td>Miércoles</td>\n",
       "      <td>00:00:00</td>\n",
       "      <td>LOS MANGUITOS</td>\n",
       "      <td>RURAL</td>\n",
       "      <td>FINCAS Y SIMILARES</td>\n",
       "      <td>ARMA BLANCA / CORTOPUNZANTE</td>\n",
       "      <td>A PIE</td>\n",
       "      <td>A PIE</td>\n",
       "      <td>0.0</td>\n",
       "      <td>MASCULINO</td>\n",
       "      <td>SOLTERO</td>\n",
       "      <td>COLOMBIA</td>\n",
       "      <td>EMPLEADO PARTICULAR</td>\n",
       "      <td>NaN</td>\n",
       "      <td>ANALFABETA</td>\n",
       "      <td>5873000.0</td>\n",
       "      <td>1</td>\n",
       "    </tr>\n",
       "  </tbody>\n",
       "</table>\n",
       "</div>"
      ],
      "text/plain": [
       "           Fecha Departamento          Municipio        Día      Hora  \\\n",
       "549   2018-01-17    ATLÁNTICO  BARRANQUILLA (CT)  Miércoles  06:30:00   \n",
       "967   2018-01-28    ANTIOQUIA            SEGOVIA    Domingo  19:00:00   \n",
       "5251  2018-05-31    ATLÁNTICO  BARRANQUILLA (CT)     Jueves  05:00:00   \n",
       "10179 2018-10-24    ANTIOQUIA   VIGÍA DEL FUERTE  Miércoles  00:00:00   \n",
       "\n",
       "                        Barrio    Zona         Clase de sitio  \\\n",
       "549    SANTO DOMINGO DE GUZMAN  URBANA  DENTRO DE LA VIVIENDA   \n",
       "967                      GALAN  URBANA            LOTE BALDIO   \n",
       "5251                    REBOLO  URBANA    CASAS DE HABITACION   \n",
       "10179            LOS MANGUITOS   RURAL     FINCAS Y SIMILARES   \n",
       "\n",
       "                     Arma empleada Móvil Agresor Móvil Victima  Edad  \\\n",
       "549                   CONTUNDENTES         A PIE         A PIE   0.0   \n",
       "967                   CONTUNDENTES         A PIE         A PIE   0.0   \n",
       "5251                  CONTUNDENTES         A PIE         A PIE   0.0   \n",
       "10179  ARMA BLANCA / CORTOPUNZANTE         A PIE         A PIE   0.0   \n",
       "\n",
       "            Sexo Estado civil País de nacimiento    Clase de empleado  \\\n",
       "549    MASCULINO      SOLTERO           COLOMBIA          DESEMPLEADO   \n",
       "967    MASCULINO      SOLTERO           COLOMBIA          DESEMPLEADO   \n",
       "5251   MASCULINO      SOLTERO           COLOMBIA          DESEMPLEADO   \n",
       "10179  MASCULINO      SOLTERO           COLOMBIA  EMPLEADO PARTICULAR   \n",
       "\n",
       "      Profesión   Escolaridad  Código DANE  Cantidad  \n",
       "549         NaN  NO REPORTADO    8001000.0         1  \n",
       "967         NaN    ANALFABETA    5736000.0         1  \n",
       "5251        NaN    ANALFABETA    8001000.0         1  \n",
       "10179       NaN    ANALFABETA    5873000.0         1  "
      ]
     },
     "execution_count": 13,
     "metadata": {},
     "output_type": "execute_result"
    }
   ],
   "source": [
    "# Rows contains 0 age\n",
    "row0s = dataset.query('Edad == 0')\n",
    "row0s"
   ]
  },
  {
   "cell_type": "markdown",
   "metadata": {},
   "source": [
    "**The victim age column contains some 0 values: this could either mean that the victim age is unknown or a mistake or that the victim is actually a baby (under 1 yo). We will assume here that the victim is a baby.**"
   ]
  },
  {
   "cell_type": "markdown",
   "metadata": {},
   "source": [
    "#### <font style=\"color:rgb(50,120,229)\">3.4.3. Combine \"Fecha\" and \"Hora\" columns into a new one called \"Fecha-Hora\" which datatype is datetime</font>"
   ]
  },
  {
   "cell_type": "code",
   "execution_count": 60,
   "metadata": {
    "ExecuteTime": {
     "end_time": "2020-05-25T14:24:55.086768Z",
     "start_time": "2020-05-25T14:24:54.723604Z"
    }
   },
   "outputs": [
    {
     "name": "stderr",
     "output_type": "stream",
     "text": [
      "C:\\Users\\USER\\AppData\\Roaming\\Python\\Python37\\site-packages\\ipykernel_launcher.py:1: FutureWarning: The pandas.datetime class is deprecated and will be removed from pandas in a future version. Import from datetime module instead.\n",
      "  \"\"\"Entry point for launching an IPython kernel.\n"
     ]
    }
   ],
   "source": [
    "dataset['Fecha-Hora'] = dataset.apply(lambda r : pd.datetime.combine(r['Fecha'],r['Hora']),1)"
   ]
  },
  {
   "cell_type": "markdown",
   "metadata": {
    "ExecuteTime": {
     "end_time": "2020-05-25T05:05:41.530908Z",
     "start_time": "2020-05-25T05:05:41.528911Z"
    }
   },
   "source": [
    "#### <font style=\"color:rgb(50,120,229)\">3.4.4. See the unique values in each of the remaining categorical variables</font>"
   ]
  },
  {
   "cell_type": "code",
   "execution_count": 61,
   "metadata": {
    "ExecuteTime": {
     "end_time": "2020-05-25T14:26:01.025716Z",
     "start_time": "2020-05-25T14:26:01.016740Z"
    }
   },
   "outputs": [
    {
     "name": "stdout",
     "output_type": "stream",
     "text": [
      "['AMAZONAS' 'ANTIOQUIA' 'ATLÁNTICO' 'BOLÍVAR' 'BOYACÁ' 'CALDAS' 'CASANARE'\n",
      " 'CAUCA' 'CHOCÓ' 'CÓRDOBA' 'CUNDINAMARCA' 'GUAJIRA' 'HUILA' 'MAGDALENA'\n",
      " 'NARIÑO' 'NORTE DE SANTANDER' 'QUINDÍO' 'SANTANDER' 'SUCRE' 'VALLE'\n",
      " 'CAQUETÁ' 'CESAR' 'META' 'RISARALDA' 'TOLIMA' 'PUTUMAYO' 'VICHADA'\n",
      " 'ARAUCA' 'SAN ANDRÉS' 'GUAVIARE' 'VAUPÉS' 'GUAINÍA']\n",
      "This variable has a total of 32 unique values.\n"
     ]
    }
   ],
   "source": [
    "# Departamento\n",
    "print(dataset[\"Departamento\"].unique())\n",
    "\n",
    "print(f'This variable has a total of {len(dataset[\"Departamento\"].unique())} unique values.')"
   ]
  },
  {
   "cell_type": "code",
   "execution_count": 62,
   "metadata": {
    "ExecuteTime": {
     "end_time": "2020-05-25T14:26:23.281063Z",
     "start_time": "2020-05-25T14:26:23.269081Z"
    }
   },
   "outputs": [
    {
     "name": "stdout",
     "output_type": "stream",
     "text": [
      "['LETICIA (CT)' 'ANDES' 'ANORÍ' 'CAUCASIA' 'HISPANIA' 'ITAGUI'\n",
      " 'MEDELLÍN (CT)' 'TURBO' 'VEGACHÍ' 'CANDELARIA' 'SOLEDAD' 'CARTAGENA (CT)'\n",
      " 'EL CARMEN DE BOLÍVAR' 'SOGAMOSO' 'MANIZALES (CT)' 'SAN LUIS DE PALENQUE'\n",
      " 'EL TAMBO' 'PAEZ' 'POPAYÁN (CT)' 'PUERTO TEJADA' 'EL CARMEN DE ATRATO'\n",
      " 'MONTERÍA (CT)' 'SAHAGÚN' 'BOGOTÁ D.C. (CT)' 'FACATATIVÁ' 'RIOHACHA (CT)'\n",
      " 'ISNOS' 'PLATO' 'SANTA MARTA (CT)' 'EL TABLÓN DE GÓMEZ' 'PASTO (CT)'\n",
      " 'SAN ANDRES DE TUMACO' 'PAMPLONA' 'MONTENEGRO' 'BUCARAMANGA (CT)'\n",
      " 'FLORIDABLANCA' 'PIEDECUESTA' 'SANTIAGO DE TOLÚ' 'SINCELEJO (CT)'\n",
      " 'BUENAVENTURA' 'CALI (CT)' 'LA UNIÓN' 'LA VICTORIA' 'BARBOSA' 'SALGAR'\n",
      " 'YARUMAL' 'SANTA ROSA' 'TIQUISIO' 'AGUADAS' 'CARTAGENA DEL CHAIRÁ'\n",
      " 'VALLEDUPAR (CT)' 'SAN JOSÉ DEL PALMAR' 'SOACHA' 'VERGARA' 'PALERMO'\n",
      " 'ZONA BANANERA' 'PUERTO CONCORDIA' 'BARBACOAS' 'ARMENIA (CT)' 'CALARCA'\n",
      " 'PEREIRA (CT)' 'RIOFRÍO' 'YUMBO' 'CHIGORODÓ' 'BARRANQUILLA (CT)' 'CALOTO'\n",
      " 'SAN ALBERTO' 'MEDIO ATRATO' 'NÓVITA' 'VILLAVICENCIO (CT)' 'CÚCUTA (CT)'\n",
      " 'DOSQUEBRADAS' 'SANTA ROSA DE CABAL' 'PUERTO PARRA' 'IBAGUÉ (CT)'\n",
      " 'PALMIRA' 'DABEIBA' 'GIRALDO' 'JERICÓ' 'SEGOVIA' 'EL COCUY' 'BOLÍVAR'\n",
      " 'PATÍA' 'CURUMANÍ' 'PLANETA RICA' 'CHÍA' 'PAICOL' 'LA MACARENA'\n",
      " 'MARIQUITA' 'CARTAGO' 'CAÑASGORDAS' 'CAREPA' 'RETIRO' 'RIONEGRO'\n",
      " 'LA DORADA' 'FLORENCIA (CT)' 'EL BANCO' 'LA VIRGINIA' 'SAN GIL'\n",
      " 'EL CERRITO' 'CÁCERES' 'SANTA BÁRBARA' 'ALMAGUER'\n",
      " 'SANTANDER DE QUILICHAO' 'TOTORÓ' 'QUIBDÓ (CT)' 'BUENAVISTA'\n",
      " 'CAMPOALEGRE' 'SAMANIEGO' 'TEORAMA' 'JAMUNDÍ' 'SANTO DOMINGO' 'YALÍ'\n",
      " 'MARÍA LA BAJA' 'BELALCÁZAR' 'VILLA RICA' 'TIERRALTA' 'SAN AGUSTÍN'\n",
      " 'PUERTO LEGUÍZAMO' 'OIBA' 'FLANDES' 'PUERTO CARREÑO (CT)' 'TOLEDO'\n",
      " 'NEIRA' 'SAN JOSÉ DEL FRAGUA' 'BUENOS AIRES' 'UNGUÍA' 'APULO' 'MAICAO'\n",
      " 'GARZÓN' 'POLICARPA' 'VILLA DEL ROSARIO' 'PUERTO ASÍS' 'CISNEROS'\n",
      " 'TARAZÁ' 'URRAO' 'PUERTO LIBERTADOR' 'COVEÑAS' 'BELLO' 'ARAUCA (CT)'\n",
      " 'CHINCHINÁ' 'AGUAZUL' 'BALBOA' 'ROVIRA' 'BUGALAGRANDE' 'CIUDAD BOLÍVAR'\n",
      " 'LA MONTAÑITA' 'AGUSTÍN CODAZZI' 'SAN ANTONIO DEL TEQUENDAMA' 'TIBÚ'\n",
      " 'QUIMBAYA' 'ESPINAL' 'PIENDAMÓ' 'NEIVA (CT)' 'RESTREPO' 'VISTAHERMOSA'\n",
      " 'MOSQUERA' 'PUERTO SANTANDER' 'PUERTO GUZMÁN' 'PUERTO BERRÍO'\n",
      " 'PUERTO TRIUNFO' 'SAN JERÓNIMO' 'CAJIBÍO' 'MERCADERES' 'TORIBIO' 'AYAPEL'\n",
      " 'CIÉNAGA DE ORO' 'LEJANÍAS' 'ORITO' 'BARRANCABERMEJA' 'ANSERMANUEVO'\n",
      " 'GUADALAJARA DE BUGA' 'APARTADÓ' 'GIRARDOTA' 'MILÁN' 'ARGELIA'\n",
      " 'SAN ANTERO' 'ZIPAQUIRÁ' 'SAN JUAN DEL CESAR' 'ALGARROBO' 'LA CRUZ'\n",
      " 'SAN LORENZO' 'ABREGO' 'PUERTO CAICEDO' 'FRESNO' 'ANDALUCÍA' 'SEVILLA'\n",
      " 'ITUANGO' 'TÁMESIS' 'SABANALARGA' 'GUACHENÉ' 'GONZÁLEZ' 'ACANDÍ'\n",
      " 'SAN JUAN DE RÍO SECO' 'PUERTO LÓPEZ' 'MALLAMA' 'OLAYA HERRERA'\n",
      " 'BELÉN DE UMBRÍA' 'COROZAL' 'GUACARÍ' 'BURITICÁ' 'PEQUE' 'VENECIA'\n",
      " 'YOLOMBÓ' 'FORTUL' 'SARAVENA' 'CANTAGALLO' 'ANSERMA' 'SAN PELAYO'\n",
      " 'CIMITARRA' 'PUENTE NACIONAL' 'RIOBLANCO' 'ENVIGADO'\n",
      " 'SANTAFÉ DE ANTIOQUIA' 'YONDÓ' 'CERINZA' 'PAILITAS' 'MELGAR'\n",
      " 'VILLAHERMOSA' 'ARAUQUITA' 'SAN JOSÉ DE URÉ' 'COYAIMA' 'OBANDO'\n",
      " 'VALPARAÍSO' 'SAN ESTANISLAO' 'TUNJA (CT)' 'TIMBÍO' 'EL COLEGIO' 'RIVERA'\n",
      " 'SARDINATA' 'DON MATÍAS' 'MARINILLA' 'NARIÑO' 'SAN LUIS' 'TUTAZÁ'\n",
      " 'CONDOTO' 'CHIPAQUE' 'LA CALERA' 'CUMBAL' 'CHINÁCOTA' 'ICONONZO'\n",
      " 'SAN PEDRO' 'ANGELÓPOLIS' 'VALDIVIA' 'ZARAGOZA' 'SOLANO' 'MIRANDA'\n",
      " 'COTORRA' 'MONTELÍBANO' 'PUERTO SALGAR' 'MISTRATÓ' 'CALIMA' 'ZARZAL'\n",
      " 'EL CARMEN DE VIBORAL' 'FRONTINO' 'ARJONA' 'UMBITA' 'SUPÍA' 'TIMBIQUÍ'\n",
      " 'BOSCONIA' 'IPIALES' 'BUCARASICA' 'NECHÍ' 'TAME' 'VILLAPINZÓN' 'PITALITO'\n",
      " 'VALLE DEL GUAMUEZ' 'REMEDIOS' 'ARENAL' 'DUITAMA' 'LA VEGA' 'EL ZULIA'\n",
      " 'ANZOÁTEGUI' 'GÓMEZ PLATA' 'SANTA ROSA DE OSOS' 'GIRARDOT' 'SANTACRUZ'\n",
      " 'LA TEBAIDA' 'APÍA' 'SAN MARCOS' 'SUCRE' 'FLORIDA' 'COPACABANA' 'MALAMBO'\n",
      " 'CORINTO' 'SAN CARLOS' 'DIBULLA' 'SANTA ROSA DEL SUR' 'LÓPEZ'\n",
      " 'VILLA DE SAN DIEGO DE UBATE' 'ALBANIA' 'ACACÍAS' 'BRICEÑO' 'BARANOA'\n",
      " 'RAMIRIQUÍ' 'GAMARRA' 'CÉRTEGUI' 'ARACATACA' 'VILLAGARZÓN'\n",
      " 'SAN ANDRÉS (CT)' 'BELÉN DE LOS ANDAQUIES' 'EL PASO' 'COTA' 'OCAÑA'\n",
      " 'GUAMO' 'CALDAS' 'MUTATÁ' 'MANAURE' 'PUERTO RICO' 'LA FLORIDA'\n",
      " 'SAN CALIXTO' 'SANTUARIO' 'SAN JUAN NEPOMUCENO' 'FONSECA' 'PIVIJAY'\n",
      " 'MORROA' 'BETANIA' 'MANZANARES' 'CURILLO' 'LA MESA' 'PUEBLO RICO'\n",
      " 'MAJAGUAL' 'LA CUMBRE' 'NECOCLÍ' 'CHOACHÍ' 'MOCOA (CT)' 'CAMPAMENTO'\n",
      " 'SAN VICENTE DEL CAGUÁN' 'GUADUAS' 'LA CEJA' 'LA ESTRELLA' 'MACEO'\n",
      " 'SANTO TOMÁS' 'CALDONO' 'INZÁ' 'LORICA' 'MESETAS' 'TÚQUERRES' 'PRADERA'\n",
      " 'SAN PABLO' 'URIBIA' 'TULUÁ' 'EL BAGRE' 'MONTECRISTO' 'SITIONUEVO'\n",
      " 'VILLANUEVA' 'GALAPA' 'TORO' 'HELICONIA' 'TOCA' 'VILLAMARÍA' 'CIÉNAGA'\n",
      " 'FRANCISCO PIZARRO' 'AMALFI' 'COCORNÁ' 'SANTA MARÍA' 'GUAPI' 'MADRID'\n",
      " 'SAN ONOFRE' 'SABANETA' 'SABANAGRANDE' 'PUERTO BOYACÁ' 'MARULANDA'\n",
      " 'EL PAUJIL' 'YOPAL (CT)' 'BECERRIL' 'ANAPOIMA' 'EL ROSAL' 'SAN FRANCISCO'\n",
      " 'SAN JOSÉ DEL GUAVIARE (CT)' 'ACEVEDO' 'YAGUARÁ' 'GUAMAL' 'EL CHARCO'\n",
      " 'YACUANQUER' 'EL TARRA' 'OLAYA' 'AGUACHICA' 'ABEJORRAL' 'SONSON'\n",
      " 'LURUACO' 'SAN MARTÍN' 'CHINÚ' 'PAIME' 'GIRÓN' 'LA PAZ' 'CLEMENCIA'\n",
      " 'GUACA' 'CHAPARRAL' 'MAGANGUÉ' 'EL ROSARIO' 'LEIVA' 'CUCUTILLA'\n",
      " 'EL CARMEN' 'SUÁREZ' 'PUEBLO BELLO' 'SAMPUÉS' 'CAICEDONIA' 'SOPETRÁN'\n",
      " 'CERETÉ' 'SAN MIGUEL' 'ROLDANILLO' 'PEÑOL' 'CHIMICHAGUA'\n",
      " 'EL LITORAL DEL SAN JUAN' 'HACARÍ' 'BARRANCO DE LOBA' 'SIMITÍ' 'GRANADA'\n",
      " 'DOLORES' 'CAICEDO' 'TURBACO' 'MUZO' 'LEBRIJA' 'PURIFICACIÓN' 'JARDÍN'\n",
      " 'CALAMAR' 'EL PEÑOL' 'MOMPÓS' 'MORALES' 'CONCORDIA' 'PUERTO NARE'\n",
      " 'BAHÍA SOLANO' 'CONVENCIÓN' 'SAN ANTONIO' 'CHIQUINQUIRÁ' 'LOS PATIOS'\n",
      " 'GUARANDA' 'SALADOBLANCO' 'LOS PALMITOS' 'SAN ROQUE' 'ALGECIRAS'\n",
      " 'FILANDIA' 'NOROSÍ' 'ATRATO' 'SANTA ANA' 'SAN BERNARDO' 'YOTOCO'\n",
      " 'RIOSUCIO' 'SAN BENITO ABAD' 'HONDA' 'SIBUNDOY' 'BETULIA'\n",
      " 'SAN CARLOS DE GUAROA' 'ALCALÁ' 'MARMATO' 'PALESTINA' 'EL ÁGUILA'\n",
      " 'BAJO BAUDÓ' 'LÍBANO' 'CUMARIBO' 'TUCHÍN' 'CAJICÁ' 'VITERBO' 'SOPÓ'\n",
      " 'LA JAGUA DE IBIRICO' 'ISTMINA' 'NILO' 'CRAVO NORTE' 'PUERTO COLOMBIA'\n",
      " 'VILLETA' 'MIRAFLORES' 'GIGANTE' 'PROVIDENCIA' 'GRAMALOTE' 'ARMERO'\n",
      " 'TAURAMENA' 'LOS CÓRDOBAS' 'GUADALUPE' 'BOCHALEMA' 'VILLA DE LEYVA'\n",
      " 'PENSILVANIA' 'CHIRIGUANÁ' 'BARRANCAS' 'GÉNOVA' 'CHITARAQUE' 'BARAYA'\n",
      " 'RICAURTE' 'SAN VICENTE' 'AIPE' 'CASABIANCA' 'EL CAIRO' 'AMAGÁ'\n",
      " 'LA APARTADA' 'PUERTO RONDÓN' 'LA PRIMAVERA' 'FUSAGASUGÁ' 'FUNDACIÓN'\n",
      " 'DAGUA' 'ROSAS' 'PELAYA' 'MAPIRIPÁN' 'SANTIAGO' 'PISBA' 'EL PIÑON'\n",
      " 'CIRCASIA' 'RONCESVALLES' 'PIAMONTE' 'JUNÍN' 'NEMOCÓN' 'AMBALEMA'\n",
      " 'CHALÁN' 'URAMITA' 'PUERTO ESCONDIDO' 'SIBATÉ' 'ILES' 'PLANADAS'\n",
      " 'MITÚ (CT)' 'BAGADÓ' 'PUEBLO NUEVO' 'SAN PEDRO DE URABÁ' 'FUNES'\n",
      " 'JESÚS MARÍA' 'FREDONIA' 'MAGÜI' 'FUNZA' 'URUMITA' 'SALDAÑA' 'LA PINTADA'\n",
      " 'IQUIRA' 'URIBE' 'EL DONCELLO' 'CACHIPAY' 'SAMACÁ' 'LA PLATA' 'SAN ZENÓN'\n",
      " 'PUERTO WILCHES' 'VENADILLO' 'CHOCONTÁ' 'CICUCO' 'ANCUYÁ' 'ANGOSTURA'\n",
      " 'RECETOR' 'LA ESPERANZA' 'TRUJILLO' 'ARMENIA' 'SIPÍ' 'ATACO' 'EL COPEY'\n",
      " 'SAN SEBASTIÁN DE BUENAVISTA' 'ARIGUANÍ' 'PUPIALES' 'GUACHETÁ'\n",
      " 'MONTEBELLO' 'TIMANÁ' 'ALTOS DEL ROSARIO' 'SUBACHOQUE'\n",
      " 'VALLE DE SAN JUAN' 'MARQUETALIA' 'LA PEÑA' 'GUARNE' 'BOJAYÁ' 'LINARES'\n",
      " 'TAMINANGO' 'CHITAGÁ' 'TADÓ' 'MURILLO' 'QUINCHÍA' 'FUENTE DE ORO'\n",
      " 'MARSELLA' 'SOCORRO' 'TARQUI' 'CABRERA' 'LA ARGENTINA' 'PALOCABILDO'\n",
      " 'EL DOVIO' 'PUEBLORRICO' 'GUAYABAL DE SIQUIMA' 'UBALÁ' 'HATONUEVO'\n",
      " 'PUERRES' 'ARBOLETES' 'SAN FERNANDO' 'SANTA BÁRBARA DE PINTO' 'CURITÍ'\n",
      " 'SAMANÁ' 'ARBOLEDA' 'AGUA DE DIOS' 'CUBARÁ' 'SABOYÁ' 'INÍRIDA (CT)'\n",
      " 'JUAN DE ACOSTA' 'NUNCHÍA' 'SOCOTÁ' 'CARMEN DEL DARIEN' 'LENGUAZAQUE'\n",
      " 'SABANA DE TORRES' 'COELLO' 'CHITA' 'QUÍPAMA' 'MOÑITOS' 'CAJAMARCA'\n",
      " 'FALAN' 'CAMPO DE LA CRUZ' 'SANTA ROSALÍA' 'VALENCIA' 'CANALETE'\n",
      " 'ANOLAIMA' 'PUERTO GAITÁN' 'LA PLAYA' 'EL SANTUARIO' 'GUAYATÁ'\n",
      " 'SAN SEBASTIÁN' 'SAN BERNARDO DEL VIENTO' 'EL CARMEN DE CHUCURÍ'\n",
      " 'PIJIÑO DEL CARMEN' 'TENERIFE' 'SAN ANDRÉS' 'HOBO' 'TANGUA'\n",
      " 'PALMAR DE VARELA' 'GUÁTICA' 'EL RETÉN' 'AQUITANIA' 'SAN DIEGO'\n",
      " 'RÍO QUITO' 'PEDRAZA' 'ROBERTO PAYÁN' 'FLORENCIA' 'LA GLORIA'\n",
      " 'VILLAVIEJA' 'LA TOLA' 'CARMEN DE APICALÁ' 'PINILLOS' 'OTANCHE'\n",
      " 'EL RETORNO' 'ULLOA' 'MAHATES' 'TITIRIBÍ' 'GALERAS' 'SAN JUAN DE BETULIA'\n",
      " 'PORE' 'SOTARA' 'GACHANCIPÁ' 'PULÍ' 'SASAIMA' 'SAN JOAQUÍN' 'LÉRIDA'\n",
      " 'TUTA' 'GÜICÁN' 'CARACOLÍ' 'LA SIERRA' 'PADILLA' 'BUESACO' 'MURINDÓ'\n",
      " 'EBÉJICO' 'PURÍSIMA' 'EL PEÑÓN' 'PONEDERA' 'PITAL' 'SAN CAYETANO'\n",
      " 'TERUEL' 'DURANIA' 'PUERTO LLERAS' 'RAGONVALIA' 'SANTA CATALINA'\n",
      " 'LOS ANDES' 'JURADÓ' 'MANÍ' 'REPELÓN' 'ASTREA' 'GUATEQUE' 'FILADELFIA'\n",
      " 'SOLITA' 'SUESCA' 'ANZA' 'TELLO' 'TARSO' 'SIMACOTA' 'CÓRDOBA' 'VIJES'\n",
      " 'LIBORINA' 'RÁQUIRA' 'SAN EDUARDO' 'QUIPILE' 'UNIÓN PANAMERICANA'\n",
      " 'ARBELÁEZ' 'MEDIO BAUDÓ' 'GAMBITA' 'JAMBALÓ' 'ACHÍ' 'VIGÍA DEL FUERTE'\n",
      " 'CAPARRAPÍ' 'SAN MARTÍN DE LOBA' 'SAN ANDRÉS SOTAVENTO' 'CUASPUD' 'PIJAO'\n",
      " 'SUTATAUSA' 'ORTEGA' 'LLORÓ' 'SANTA LUCÍA' 'VIOTÁ' 'RÍO DE ORO'\n",
      " 'POLONUEVO' 'SUAZA' 'SAN LUIS DE GACENO' 'CUCUNUBÁ' 'PUERTO NARIÑO'\n",
      " 'BITUIMA' 'GUACHUCAL' 'POTOSÍ' 'HATO COROZAL' 'TENJO' 'CÓMBITA'\n",
      " 'MONTERREY' 'ALPUJARRA' 'ALDANA' 'VERSALLES' 'TÁMARA' 'PASCA' 'LA CELIA'\n",
      " 'CHIMÁ' 'SAN VICENTE DE CHUCURÍ' 'PAZ DE ARIPORO' 'COPER' 'GACHETÁ'\n",
      " 'OPORAPA' 'LABRANZAGRANDE' 'MONIQUIRÁ' 'CUMBITARA' 'ENTRERRIOS' 'ALBÁN'\n",
      " 'HERVEO' 'VILLA CARO' 'SAN ANDRÉS DE CUERQUÍA' 'SÁCHICA' 'MACHETA'\n",
      " 'SAN JUAN DE URABÁ' 'TOPAIPÍ' 'EL CASTILLO' 'CUMARAL' 'TASCO' 'SALAMINA'\n",
      " 'GUAITARILLA' 'PAJARITO' 'LA MERCED' 'EL CANTÓN DEL SAN PABLO' 'NOCAIMA'\n",
      " 'ARROYOHONDO' 'YACOPÍ' 'SALENTO' 'TOCAIMA' 'SIMIJACA' 'UNE' 'PÁRAMO'\n",
      " 'PRADO' 'TURBANÁ' 'USIACURÍ' 'CERRITO' 'VICTORIA' 'COLOMBIA' 'SUTATENZA'\n",
      " 'SANDONÁ' 'CABUYARO' 'SAN LUIS DE SINCÉ']\n",
      "This variable has a total of 755 unique values.\n"
     ]
    }
   ],
   "source": [
    "# Municipio\n",
    "print(dataset[\"Municipio\"].unique())\n",
    "print(f'This variable has a total of {len(dataset[\"Municipio\"].unique())} unique values.')"
   ]
  },
  {
   "cell_type": "code",
   "execution_count": 63,
   "metadata": {
    "ExecuteTime": {
     "end_time": "2020-05-25T14:26:47.805089Z",
     "start_time": "2020-05-25T14:26:47.797115Z"
    }
   },
   "outputs": [
    {
     "name": "stdout",
     "output_type": "stream",
     "text": [
      "['Lunes' 'Martes' 'Miércoles' 'Jueves' 'Viernes' 'Sábado' 'Domingo']\n",
      "This variable has a total of 7 unique values.\n"
     ]
    }
   ],
   "source": [
    "# Dia\n",
    "print(dataset[\"Día\"].unique())\n",
    "print(f'This variable has a total of {len(dataset[\"Día\"].unique())} unique values.')"
   ]
  },
  {
   "cell_type": "code",
   "execution_count": 64,
   "metadata": {
    "ExecuteTime": {
     "end_time": "2020-05-25T14:27:03.801340Z",
     "start_time": "2020-05-25T14:27:03.794328Z"
    }
   },
   "outputs": [
    {
     "name": "stdout",
     "output_type": "stream",
     "text": [
      "['ESPERANZA' 'ALTO DEL CEDRON' 'PARQUE PRINCIPAL' ... 'LA CEIBA (SALADO)'\n",
      " 'CGTO.SABALETAS' 'INVASION LA PLAYITA E24']\n",
      "This variable has a total of 5672 unique values.\n"
     ]
    }
   ],
   "source": [
    "# Barrio\n",
    "print(dataset[\"Barrio\"].unique())\n",
    "print(f'This variable has a total of {len(dataset[\"Barrio\"].unique())} unique values.')"
   ]
  },
  {
   "cell_type": "code",
   "execution_count": 65,
   "metadata": {
    "ExecuteTime": {
     "end_time": "2020-05-25T14:27:26.189367Z",
     "start_time": "2020-05-25T14:27:26.184381Z"
    }
   },
   "outputs": [
    {
     "name": "stdout",
     "output_type": "stream",
     "text": [
      "['URBANA' 'RURAL']\n",
      "This variable has a total of 2 unique values.\n"
     ]
    }
   ],
   "source": [
    "# Zona \n",
    "print(dataset[\"Zona\"].unique())\n",
    "print(f'This variable has a total of {len(dataset[\"Zona\"].unique())} unique values.')"
   ]
  },
  {
   "cell_type": "code",
   "execution_count": 66,
   "metadata": {
    "ExecuteTime": {
     "end_time": "2020-05-25T14:27:39.393644Z",
     "start_time": "2020-05-25T14:27:39.387658Z"
    },
    "scrolled": true
   },
   "outputs": [
    {
     "name": "stdout",
     "output_type": "stream",
     "text": [
      "['VIAS PUBLICAS' 'PARQUES' 'BARES, CANTINAS Y SIMILARES' 'TRAMO DE VIA'\n",
      " 'ESTABLECIMIENTO PUBLICO' 'FRENTE A RESIDENCIAS - VIA PUBLICA'\n",
      " 'FINCAS Y SIMILARES' 'CARRETERA' 'CASAS DE HABITACION' 'CAÑOS'\n",
      " 'FRENTE A ALMACEN - VIA PUBLICA' 'FRENTE A DISCOTECAS' 'CANCHA DE FUTBOL'\n",
      " 'TIENDA' 'GALLERA' 'BOSQUES' 'CEMENTERIO' 'DENTRO DE LA VIVIENDA'\n",
      " 'HOSPITALES' 'PARQUEADERO' 'INTERIOR VEHICULO PARTICULAR' 'RIVERAS'\n",
      " 'TALLERES MECANICA' 'RIOS' 'CULTIVOS' 'SALON COMUNAL' 'MONTALLANTAS'\n",
      " 'INSTALACIONES DE LA POLICIA' 'TROCHA' 'LOTE BALDIO'\n",
      " 'INTERIOR VEHICULO SERVICIO PUBLICO' 'BODEGAS Y SIMILARES'\n",
      " 'SOBRE ANDEN - VIA PUBLICA' 'INSTALACIONES DEL EJERCITO' 'PANADERIAS'\n",
      " 'PELUQUERIA Y SIMILARES' 'HOTELES, RESIDENCIAS, Y SIMILARES.' 'TALLERES'\n",
      " 'LOCAL COMERCIAL' 'QUEBRADA' 'LAGUNAS' 'LICORERA/ESTANCO 24 HORAS'\n",
      " 'DISCOTECAS' 'POTREROS' 'APARTAMENTO' 'RESTAURANTES' 'CARCELES'\n",
      " 'CALLEJÓN' 'CABAÑA' 'FRENTE IGLESIA - VIA PUBLICA' 'ESTADERO'\n",
      " 'FRENTE CENTRO COMERCIAL' 'HACIENDA' 'BILLARES' 'CASINOS' 'MAR'\n",
      " 'CANALIZACION' 'RANCHERIA' 'RESGUARDO INDÍGENA' 'MINA'\n",
      " 'ESTACIONES DE SERVICIO' 'LAVA-AUTOS' 'CANCHAS DE TEJO' 'PUENTE PEATONAL'\n",
      " 'SENDERO PEATONAL' 'PUENTE' 'MUELLE TURISTICO' 'SECTOR COMERCIO'\n",
      " 'GRANEROS' 'CASETA COMUNAL' 'COLEGIOS, ESCUELAS'\n",
      " 'CASETA VIGILANCIA EMPRESAS' 'ESTABLECIMIENTO DE COMERCIO'\n",
      " 'DROGUERIAS, FARMACIAS' 'BANCOS' 'ZONA SELVÁTICA' 'SELVA'\n",
      " 'FRENTE A COLEGIO - VIA PUBLICA' 'CASA DE LENOCINIO' 'REPRESAS'\n",
      " 'SEMÁFORO' 'ESCENARIOS DEPORTIVOS' 'CONJUNTO RESIDENCIAL'\n",
      " 'FRENTE CONJUNTO - VIA PUBLICA' 'ALCALDIA' 'PARADERO DE BUSES'\n",
      " 'VEHICULO TAXI' 'CAÑADUZAL' 'FRONTERA' 'HUMEALES' 'PLAYA'\n",
      " 'ESTACION TRANSMILENIO LAS FERIAS' 'TERMINAL DE TRANSPORTES' 'IGLESIA'\n",
      " 'CONSTRUCCION' 'CLINICAS Y SIMILARES' 'FRENTE A EDIFICIO - VIA PUBLICA'\n",
      " 'ISLA' 'APARTAMENTO EN CONJUNTO CERRADO' 'CAFETERIAS' 'ALMACENES'\n",
      " 'FRENTE RESTAURANTE' 'HELADERIA' 'CENTRO RECREACIONAL' 'VEHICULO'\n",
      " 'FRENTE CLINICA U HOSPITAL - VIA PUBLICA' 'PLAZAS DE MERCADO'\n",
      " 'MATADEROS, CARNICERIA Y SIMILARES' 'EMPRESA' 'BOMBA DE GASOLINA'\n",
      " 'LINEA FERREA' 'ALIMENTADOR BUS M.I.O.' 'FRENTE EMPRESA - VIA PUBLICA'\n",
      " 'BUS METROPLUS' 'MUELLE' 'GLORIETA' 'HOGAR DE PASO' 'PISCINA' 'OTRO'\n",
      " 'ESTABLECIMIENTOS REVISADOS' 'CENTRO COMERCIAL'\n",
      " 'ESTACION TRANSMILENIO MOLINOS' 'POZO' 'FUNERARIA' 'GOBERNACION'\n",
      " 'FOSA COMUN' 'SUPERMERCADOS' 'ZONAS AZULES - VIA PUBLICA'\n",
      " 'FERRERERAS, MARRANERAS Y CABALLERIZAS' 'OFICINAS'\n",
      " 'TRANSPORTE INTERMUNICIPAL' 'COMPRAVENTA' 'FOSA INDIVIDUAL'\n",
      " 'CONSULTORIOS  ODONTOLOGICOS' 'INSTALACIONES GUBERNAMENTALES'\n",
      " 'TALLERES LATONERIA']\n",
      "This variable has a total of 136 unique values.\n"
     ]
    }
   ],
   "source": [
    "# Clase de sitio\n",
    "print(dataset[\"Clase de sitio\"].unique())\n",
    "print(f'This variable has a total of {len(dataset[\"Clase de sitio\"].unique())} unique values.')"
   ]
  },
  {
   "cell_type": "code",
   "execution_count": 67,
   "metadata": {
    "ExecuteTime": {
     "end_time": "2020-05-25T14:27:54.407999Z",
     "start_time": "2020-05-25T14:27:54.398026Z"
    }
   },
   "outputs": [
    {
     "name": "stdout",
     "output_type": "stream",
     "text": [
      "['ARMA BLANCA / CORTOPUNZANTE' 'ARMA DE FUEGO' 'CONTUNDENTES'\n",
      " 'CUERDA/SOGA/CADENA' 'BOLSA PLASTICA' 'CINTAS/CINTURON'\n",
      " 'ARTEFACTO EXPLOSIVO/CARGA DINAMITA' 'GRANADA DE MANO'\n",
      " 'SIN EMPLEO DE ARMAS' 'COMBUSTIBLE' 'ALMOHADA' 'NO REPORTADO'\n",
      " 'ARTEFACTO INCENDIARIO' 'MINA ANTIPERSONA' 'PRENDAS DE VESTIR'\n",
      " 'MOTO BOMBA' 'QUIMICOS']\n",
      "This variable has a total of 17 unique values.\n"
     ]
    }
   ],
   "source": [
    "# Arma empleada\n",
    "print(dataset[\"Arma empleada\"].unique())\n",
    "print(f'This variable has a total of {len(dataset[\"Arma empleada\"].unique())} unique values.')"
   ]
  },
  {
   "cell_type": "code",
   "execution_count": 68,
   "metadata": {
    "ExecuteTime": {
     "end_time": "2020-05-25T14:27:58.679535Z",
     "start_time": "2020-05-25T14:27:58.674547Z"
    }
   },
   "outputs": [
    {
     "name": "stdout",
     "output_type": "stream",
     "text": [
      "['A PIE' 'PASAJERO MOTOCICLETA' 'CONDUCTOR MOTOCICLETA' 'BICICLETA'\n",
      " 'CONDUCTOR VEHICULO' 'PASAJERO VEHICULO' 'PASAJERO TAXI' 'PASAJERO BUS'\n",
      " nan 'PASAJERO BARCO' 'CONDUCTOR TAXI' 'PASAJERO AERONAVE']\n",
      "This variable has a total of 12 unique values.\n"
     ]
    }
   ],
   "source": [
    "# Móvil agresor\n",
    "print(dataset[\"Móvil Agresor\"].unique())\n",
    "print(f'This variable has a total of {len(dataset[\"Móvil Agresor\"].unique())} unique values.')"
   ]
  },
  {
   "cell_type": "code",
   "execution_count": 70,
   "metadata": {
    "ExecuteTime": {
     "end_time": "2020-05-25T14:28:10.086714Z",
     "start_time": "2020-05-25T14:28:10.080735Z"
    }
   },
   "outputs": [
    {
     "name": "stdout",
     "output_type": "stream",
     "text": [
      "['A PIE' 'CONDUCTOR MOTOCICLETA' nan 'CONDUCTOR VEHICULO'\n",
      " 'PASAJERO VEHICULO' 'CONDUCTOR TAXI' 'BICICLETA' 'PASAJERO MOTOCICLETA'\n",
      " 'CONDUCTOR BUS' 'PASAJERO BARCO' 'PASAJERO TAXI' 'PASAJERO BUS']\n",
      "This variable has a total of 12 unique values.\n"
     ]
    }
   ],
   "source": [
    "# Móvil agresor\n",
    "print(dataset[\"Móvil Victima\"].unique())\n",
    "print(f'This variable has a total of {len(dataset[\"Móvil Victima\"].unique())} unique values.')"
   ]
  },
  {
   "cell_type": "code",
   "execution_count": 71,
   "metadata": {
    "ExecuteTime": {
     "end_time": "2020-05-25T14:28:35.107273Z",
     "start_time": "2020-05-25T14:28:35.098465Z"
    }
   },
   "outputs": [
    {
     "name": "stdout",
     "output_type": "stream",
     "text": [
      "['MASCULINO' 'FEMENINO']\n",
      "This variable has a total of 2 unique values.\n"
     ]
    }
   ],
   "source": [
    "# Sexo\n",
    "print(dataset[\"Sexo\"].unique())\n",
    "print(f'This variable has a total of {len(dataset[\"Sexo\"].unique())} unique values.')"
   ]
  },
  {
   "cell_type": "code",
   "execution_count": 72,
   "metadata": {
    "ExecuteTime": {
     "end_time": "2020-05-25T14:28:37.292750Z",
     "start_time": "2020-05-25T14:28:37.287764Z"
    }
   },
   "outputs": [
    {
     "name": "stdout",
     "output_type": "stream",
     "text": [
      "['SOLTERO' 'UNION LIBRE' 'CASADO' 'SEPARADO' 'DIVORCIADO' 'VIUDO' nan]\n",
      "This variable has a total of 7 unique values.\n"
     ]
    }
   ],
   "source": [
    "# Estado civil\n",
    "print(dataset[\"Estado civil\"].unique())\n",
    "print(f'This variable has a total of {len(dataset[\"Estado civil\"].unique())} unique values.')"
   ]
  },
  {
   "cell_type": "code",
   "execution_count": 73,
   "metadata": {
    "ExecuteTime": {
     "end_time": "2020-05-25T14:28:54.072738Z",
     "start_time": "2020-05-25T14:28:54.067750Z"
    }
   },
   "outputs": [
    {
     "name": "stdout",
     "output_type": "stream",
     "text": [
      "['BRASIL' 'COLOMBIA' nan 'VENEZUELA' 'ITALIA' 'MEXICO' 'ECUADOR' 'SUECIA'\n",
      " 'ARGENTINA' 'NORUEGA' 'FRANCIA' 'ESPAÑA' 'ALEMANIA' 'CHILE' 'JAPON'\n",
      " 'PERU']\n",
      "This variable has a total of 16 unique values.\n"
     ]
    }
   ],
   "source": [
    "# País de nacimiento\n",
    "print(dataset[\"País de nacimiento\"].unique())\n",
    "print(f'This variable has a total of {len(dataset[\"País de nacimiento\"].unique())} unique values.')"
   ]
  },
  {
   "cell_type": "code",
   "execution_count": 74,
   "metadata": {
    "ExecuteTime": {
     "end_time": "2020-05-25T14:29:18.510928Z",
     "start_time": "2020-05-25T14:29:18.504944Z"
    }
   },
   "outputs": [
    {
     "name": "stdout",
     "output_type": "stream",
     "text": [
      "['EMPLEADO PARTICULAR' 'INDEPENDIENTE' 'AGRICULTOR' 'DESEMPLEADO'\n",
      " 'AMA DE CASA' 'ESTUDIANTE' 'COMERCIANTE' 'EMPLEADO PUBLICO'\n",
      " 'GRUPOS ILEGALES' 'EMPLEADO EJERCITO' 'EMPLEADO SALUD'\n",
      " 'EMPLEADO POLICIAL' 'PENSIONADO' 'EDUCADOR' 'EMPLEADO ARMADA/MARINA'\n",
      " 'DELINCUENCIA' 'AFRODESCENDIENTE' 'ETNIA INDIGENA' 'GANADERO'\n",
      " 'LIDER CIVICO' 'DEPORTISTA' 'POLITICO' 'NO REPORTA' 'EMPLEADO CTI'\n",
      " 'EMPLEADO INPEC']\n",
      "This variable has a total of 25 unique values.\n"
     ]
    }
   ],
   "source": [
    "# Clase de empleado\n",
    "print(dataset[\"Clase de empleado\"].unique())\n",
    "print(f'This variable has a total of {len(dataset[\"Clase de empleado\"].unique())} unique values.')"
   ]
  },
  {
   "cell_type": "code",
   "execution_count": 75,
   "metadata": {
    "ExecuteTime": {
     "end_time": "2020-05-25T14:29:27.618350Z",
     "start_time": "2020-05-25T14:29:27.613364Z"
    }
   },
   "outputs": [
    {
     "name": "stdout",
     "output_type": "stream",
     "text": [
      "['SECUNDARIA' 'PRIMARIA' 'TECNOLOGO' 'TECNICO' 'SUPERIOR' 'ANALFABETA'\n",
      " 'NO REPORTADO' nan]\n",
      "This variable has a total of 8 unique values.\n"
     ]
    }
   ],
   "source": [
    "# Escolaridad\n",
    "print(dataset[\"Escolaridad\"].unique())\n",
    "print(f'This variable has a total of {len(dataset[\"Escolaridad\"].unique())} unique values.')"
   ]
  },
  {
   "cell_type": "markdown",
   "metadata": {},
   "source": [
    "**Completeness, Consistency, Integrity, and Accuracy have improved significantly after this data cleaning. There is only one thing left to do, prepare the data to serve as input to machine learning models**"
   ]
  },
  {
   "cell_type": "markdown",
   "metadata": {
    "ExecuteTime": {
     "end_time": "2020-05-25T04:23:17.875109Z",
     "start_time": "2020-05-25T04:23:17.871121Z"
    }
   },
   "source": [
    "#### <font style=\"color:rgb(50,120,229)\">3.4.5. Preparing data for machine learning</font>\n",
    "It is necessary to prepare a different database than the one used in the questions of points 3 and 4 to be used in the machine learning model we want to implement."
   ]
  },
  {
   "cell_type": "markdown",
   "metadata": {},
   "source": [
    "#### <font style=\"color:rgb(50,120,229)\">3.4.5.1 Initial data preparation</font>\n",
    "Some columns that I consider initially \"unnecessary\" to my analysis will be dropped (\"Código DANE\", \"Barrio\", \"Fecha\", \"Departamento\", \"Cantidad\", \"Profesión\"). The latter due to a huge amount of **missing data**."
   ]
  },
  {
   "cell_type": "code",
   "execution_count": 76,
   "metadata": {
    "ExecuteTime": {
     "end_time": "2020-05-25T14:35:54.783287Z",
     "start_time": "2020-05-25T14:35:54.773315Z"
    }
   },
   "outputs": [],
   "source": [
    "dataset_ml = dataset.drop(columns=['Código DANE', 'Profesión', 'Barrio', 'Fecha', 'Fecha-Hora', 'Departamento', 'Cantidad'])"
   ]
  },
  {
   "cell_type": "markdown",
   "metadata": {},
   "source": [
    "#### <font style=\"color:rgb(50,120,229)\">3.4.5.2 Handling missing values</font>\n",
    "The options that can be used depending on the data analysis are: Delete rows, replace missing data with mean/mode/median of the column values, use a prediction system to fill in the missing data, KNN Imputation, etc. "
   ]
  },
  {
   "cell_type": "code",
   "execution_count": 77,
   "metadata": {
    "ExecuteTime": {
     "end_time": "2020-05-25T14:39:03.603342Z",
     "start_time": "2020-05-25T14:39:03.348455Z"
    }
   },
   "outputs": [
    {
     "data": {
      "text/html": [
       "<div>\n",
       "<style scoped>\n",
       "    .dataframe tbody tr th:only-of-type {\n",
       "        vertical-align: middle;\n",
       "    }\n",
       "\n",
       "    .dataframe tbody tr th {\n",
       "        vertical-align: top;\n",
       "    }\n",
       "\n",
       "    .dataframe thead th {\n",
       "        text-align: right;\n",
       "    }\n",
       "</style>\n",
       "<table border=\"1\" class=\"dataframe\">\n",
       "  <thead>\n",
       "    <tr style=\"text-align: right;\">\n",
       "      <th></th>\n",
       "      <th>Total</th>\n",
       "      <th>%</th>\n",
       "    </tr>\n",
       "  </thead>\n",
       "  <tbody>\n",
       "    <tr>\n",
       "      <th>País de nacimiento</th>\n",
       "      <td>98</td>\n",
       "      <td>0.774949</td>\n",
       "    </tr>\n",
       "    <tr>\n",
       "      <th>Escolaridad</th>\n",
       "      <td>38</td>\n",
       "      <td>0.300490</td>\n",
       "    </tr>\n",
       "    <tr>\n",
       "      <th>Estado civil</th>\n",
       "      <td>36</td>\n",
       "      <td>0.284675</td>\n",
       "    </tr>\n",
       "    <tr>\n",
       "      <th>Móvil Victima</th>\n",
       "      <td>25</td>\n",
       "      <td>0.197691</td>\n",
       "    </tr>\n",
       "    <tr>\n",
       "      <th>Móvil Agresor</th>\n",
       "      <td>25</td>\n",
       "      <td>0.197691</td>\n",
       "    </tr>\n",
       "  </tbody>\n",
       "</table>\n",
       "</div>"
      ],
      "text/plain": [
       "                    Total         %\n",
       "País de nacimiento     98  0.774949\n",
       "Escolaridad            38  0.300490\n",
       "Estado civil           36  0.284675\n",
       "Móvil Victima          25  0.197691\n",
       "Móvil Agresor          25  0.197691"
      ]
     },
     "execution_count": 77,
     "metadata": {},
     "output_type": "execute_result"
    },
    {
     "data": {
      "image/png": "[encoded data removed]",
      "text/plain": [
       "<Figure size 1080x432 with 1 Axes>"
      ]
     },
     "metadata": {
      "needs_background": "light"
     },
     "output_type": "display_data"
    }
   ],
   "source": [
    "# Print on a bar chart the number of missing data for each column\n",
    "# with their respective percentages\n",
    "\n",
    "total = dataset_ml.isnull().sum().sort_values(ascending=False)\n",
    "percent = 100 * (dataset_ml.isnull().sum()/dataset_ml.isnull().count()).sort_values(ascending=False)\n",
    "missing_data = pd.concat([total, percent], axis=1, keys=['Total', '%'])\n",
    "f, ax = plt.subplots(figsize=(15, 6))\n",
    "plt.xticks(rotation='45')\n",
    "sns.barplot(x=missing_data.index, y=missing_data['%'])\n",
    "plt.xlabel('Variables', fontsize=15)\n",
    "plt.ylabel('% Missing Values', fontsize=15)\n",
    "plt.title('% Missing Values by Column', fontsize=30)\n",
    "missing_data.head()"
   ]
  },
  {
   "cell_type": "markdown",
   "metadata": {},
   "source": [
    "Due to the insignificance of the missing data, in the biggest case it is 0.77%, the best thing to do is to simply eliminate those data, it is the worst approach, because the lost of data. It is simply to eliminate a complete observation just because one of the characteristics had a missing value, even if the rest of the characteristics are **perfectly full and informative!** but in this case, the percentage is minimal. After deleting the rows with missing values, the result is a database which contains the exact same amount of values for all its columns."
   ]
  },
  {
   "cell_type": "code",
   "execution_count": 79,
   "metadata": {
    "ExecuteTime": {
     "end_time": "2020-05-25T14:56:50.675867Z",
     "start_time": "2020-05-25T14:56:50.645948Z"
    }
   },
   "outputs": [
    {
     "name": "stdout",
     "output_type": "stream",
     "text": [
      "<class 'pandas.core.frame.DataFrame'>\n",
      "Int64Index: 12498 entries, 0 to 12645\n",
      "Data columns (total 14 columns):\n",
      " #   Column              Non-Null Count  Dtype  \n",
      "---  ------              --------------  -----  \n",
      " 0   Municipio           12498 non-null  object \n",
      " 1   Día                 12498 non-null  object \n",
      " 2   Hora                12498 non-null  object \n",
      " 3   Zona                12498 non-null  object \n",
      " 4   Clase de sitio      12498 non-null  object \n",
      " 5   Arma empleada       12498 non-null  object \n",
      " 6   Móvil Agresor       12498 non-null  object \n",
      " 7   Móvil Victima       12498 non-null  object \n",
      " 8   Edad                12498 non-null  float64\n",
      " 9   Sexo                12498 non-null  object \n",
      " 10  Estado civil        12498 non-null  object \n",
      " 11  País de nacimiento  12498 non-null  object \n",
      " 12  Clase de empleado   12498 non-null  object \n",
      " 13  Escolaridad         12498 non-null  object \n",
      "dtypes: float64(1), object(13)\n",
      "memory usage: 1.4+ MB\n"
     ]
    }
   ],
   "source": [
    "dataset_ml.dropna(inplace=True)\n",
    "dataset_ml.info()"
   ]
  },
  {
   "cell_type": "markdown",
   "metadata": {},
   "source": [
    "#### <font style=\"color:rgb(50,120,229)\">3.4.5.3 Convert the column **Hora** to a numerical value</font>\n",
    "The **Hora** column can be represented by numerical values in a 24-hour format. For simplicity, minutes will not be taken into account."
   ]
  },
  {
   "cell_type": "code",
   "execution_count": 81,
   "metadata": {
    "ExecuteTime": {
     "end_time": "2020-05-25T14:58:42.809056Z",
     "start_time": "2020-05-25T14:58:42.783125Z"
    }
   },
   "outputs": [
    {
     "name": "stdout",
     "output_type": "stream",
     "text": [
      "<class 'pandas.core.frame.DataFrame'>\n",
      "Int64Index: 12498 entries, 0 to 12645\n",
      "Data columns (total 14 columns):\n",
      " #   Column              Non-Null Count  Dtype \n",
      "---  ------              --------------  ----- \n",
      " 0   Municipio           12498 non-null  object\n",
      " 1   Día                 12498 non-null  object\n",
      " 2   Hora                12498 non-null  int64 \n",
      " 3   Zona                12498 non-null  object\n",
      " 4   Clase de sitio      12498 non-null  object\n",
      " 5   Arma empleada       12498 non-null  object\n",
      " 6   Móvil Agresor       12498 non-null  object\n",
      " 7   Móvil Victima       12498 non-null  object\n",
      " 8   Edad                12498 non-null  int64 \n",
      " 9   Sexo                12498 non-null  object\n",
      " 10  Estado civil        12498 non-null  object\n",
      " 11  País de nacimiento  12498 non-null  object\n",
      " 12  Clase de empleado   12498 non-null  object\n",
      " 13  Escolaridad         12498 non-null  object\n",
      "dtypes: int64(2), object(12)\n",
      "memory usage: 1.4+ MB\n"
     ]
    }
   ],
   "source": [
    "dataset_ml[\"Hora\"] =  pd.to_datetime(dataset_ml['Hora'], format =  '%H:%M:%S').dt.hour\n",
    "dataset_ml.info()"
   ]
  },
  {
   "cell_type": "markdown",
   "metadata": {},
   "source": [
    "The column **Edad** really is an integer type of data"
   ]
  },
  {
   "cell_type": "code",
   "execution_count": 82,
   "metadata": {
    "ExecuteTime": {
     "end_time": "2020-05-25T14:58:44.288214Z",
     "start_time": "2020-05-25T14:58:44.271228Z"
    }
   },
   "outputs": [
    {
     "name": "stdout",
     "output_type": "stream",
     "text": [
      "<class 'pandas.core.frame.DataFrame'>\n",
      "Int64Index: 12498 entries, 0 to 12645\n",
      "Data columns (total 14 columns):\n",
      " #   Column              Non-Null Count  Dtype \n",
      "---  ------              --------------  ----- \n",
      " 0   Municipio           12498 non-null  object\n",
      " 1   Día                 12498 non-null  object\n",
      " 2   Hora                12498 non-null  int64 \n",
      " 3   Zona                12498 non-null  object\n",
      " 4   Clase de sitio      12498 non-null  object\n",
      " 5   Arma empleada       12498 non-null  object\n",
      " 6   Móvil Agresor       12498 non-null  object\n",
      " 7   Móvil Victima       12498 non-null  object\n",
      " 8   Edad                12498 non-null  int64 \n",
      " 9   Sexo                12498 non-null  object\n",
      " 10  Estado civil        12498 non-null  object\n",
      " 11  País de nacimiento  12498 non-null  object\n",
      " 12  Clase de empleado   12498 non-null  object\n",
      " 13  Escolaridad         12498 non-null  object\n",
      "dtypes: int64(2), object(12)\n",
      "memory usage: 1.4+ MB\n"
     ]
    }
   ],
   "source": [
    "dataset_ml[\"Edad\"] = dataset_ml[\"Edad\"].astype(np.int64) \n",
    "dataset_ml.info()"
   ]
  },
  {
   "cell_type": "markdown",
   "metadata": {},
   "source": [
    "#### <font style=\"color:rgb(50,120,229)\">3.4.5.4 Save the database to apply Machine Learning</font>\n"
   ]
  },
  {
   "cell_type": "code",
   "execution_count": 83,
   "metadata": {
    "ExecuteTime": {
     "end_time": "2020-05-25T14:59:19.473378Z",
     "start_time": "2020-05-25T14:59:19.411925Z"
    }
   },
   "outputs": [],
   "source": [
    "OUTPUT_PATH1 = pathlib.Path(r\"..\\data\\homicidios2018_ml.csv\")\n",
    "dataset_ml.to_csv(str(OUTPUT_PATH1), index=False, header=True)"
   ]
  },
  {
   "cell_type": "markdown",
   "metadata": {},
   "source": [
    "#### <font style=\"color:rgb(50,120,229)\">3.4.6. Save the data for questions</font>"
   ]
  },
  {
   "cell_type": "markdown",
   "metadata": {},
   "source": [
    "Now that we have performed some data cleaning, we can start to visualize it to get the bigger picture of crime in Colombia. To be able to pick up from where we left off, I stored the new data in a CSV form which is a way in Python of saving an object to file for later retrieval. "
   ]
  },
  {
   "cell_type": "code",
   "execution_count": 84,
   "metadata": {
    "ExecuteTime": {
     "end_time": "2020-05-25T15:01:27.818472Z",
     "start_time": "2020-05-25T15:01:27.661863Z"
    }
   },
   "outputs": [],
   "source": [
    "OUTPUT_PATH2 = pathlib.Path(r\"..\\data\\homicidios2018_questions.csv\")\n",
    "dataset.to_csv(str(OUTPUT_PATH2), index=False, header=True)"
   ]
  }
 ],
 "metadata": {
  "kernelspec": {
   "display_name": "Python 3",
   "language": "python",
   "name": "python3"
  },
  "language_info": {
   "codemirror_mode": {
    "name": "ipython",
    "version": 3
   },
   "file_extension": ".py",
   "mimetype": "text/x-python",
   "name": "python",
   "nbconvert_exporter": "python",
   "pygments_lexer": "ipython3",
   "version": "3.7.7"
  }
 },
 "nbformat": 4,
 "nbformat_minor": 4
}
