{
 "cells": [
  {
   "cell_type": "markdown",
   "metadata": {},
   "source": [
    "# <font style=\"color:rgb(50,120,229)\">ANSWERS FOR 3 AND 4 QUESTIONS</font>"
   ]
  },
  {
   "cell_type": "markdown",
   "metadata": {
    "ExecuteTime": {
     "end_time": "2020-05-21T18:21:35.990129Z",
     "start_time": "2020-05-21T18:21:35.984591Z"
    }
   },
   "source": [
    "## <font style=\"color:rgb(50,120,229)\">3) Explore the data and answer these questions:</font>"
   ]
  },
  {
   "cell_type": "markdown",
   "metadata": {},
   "source": [
    "### <font style=\"color:rgb(50,120,229)\">3.1. What were the top municipalities with highest quantity of murders by month? </font>"
   ]
  },
  {
   "cell_type": "code",
   "execution_count": 16,
   "metadata": {
    "ExecuteTime": {
     "end_time": "2020-05-25T07:50:02.087427Z",
     "start_time": "2020-05-25T07:50:02.081464Z"
    }
   },
   "outputs": [],
   "source": [
    "import sys\n",
    "import random\n",
    "import pathlib\n",
    "import numpy as np\n",
    "import pandas as pd\n",
    "import seaborn as sns\n",
    "import plotly.express as px         \n",
    "import matplotlib.pyplot as plt\n",
    "import plotly.graph_objects as go\n",
    "\n",
    "%matplotlib inline"
   ]
  },
  {
   "cell_type": "code",
   "execution_count": 17,
   "metadata": {
    "ExecuteTime": {
     "end_time": "2020-05-25T07:50:03.331555Z",
     "start_time": "2020-05-25T07:50:03.281611Z"
    }
   },
   "outputs": [],
   "source": [
    "# load the data\n",
    "DATA_PATH = pathlib.Path(r\"..\\data\\homicidios2018_questions.csv\") # OS agnostic PATH\n",
    "dataset = pd.read_csv(str(DATA_PATH))"
   ]
  },
  {
   "cell_type": "code",
   "execution_count": 18,
   "metadata": {
    "ExecuteTime": {
     "end_time": "2020-05-25T07:50:03.801612Z",
     "start_time": "2020-05-25T07:50:03.784626Z"
    }
   },
   "outputs": [
    {
     "name": "stdout",
     "output_type": "stream",
     "text": [
      "<class 'pandas.core.frame.DataFrame'>\n",
      "RangeIndex: 12646 entries, 0 to 12645\n",
      "Data columns (total 21 columns):\n",
      " #   Column              Non-Null Count  Dtype  \n",
      "---  ------              --------------  -----  \n",
      " 0   Fecha               12646 non-null  object \n",
      " 1   Departamento        12646 non-null  object \n",
      " 2   Municipio           12646 non-null  object \n",
      " 3   Día                 12646 non-null  object \n",
      " 4   Hora                12646 non-null  object \n",
      " 5   Barrio              12646 non-null  object \n",
      " 6   Zona                12646 non-null  object \n",
      " 7   Clase de sitio      12646 non-null  object \n",
      " 8   Arma empleada       12646 non-null  object \n",
      " 9   Móvil Agresor       12621 non-null  object \n",
      " 10  Móvil Victima       12621 non-null  object \n",
      " 11  Edad                12623 non-null  float64\n",
      " 12  Sexo                12646 non-null  object \n",
      " 13  Estado civil        12610 non-null  object \n",
      " 14  País de nacimiento  12548 non-null  object \n",
      " 15  Clase de empleado   12646 non-null  object \n",
      " 16  Profesión           283 non-null    object \n",
      " 17  Escolaridad         12608 non-null  object \n",
      " 18  Código DANE         12646 non-null  float64\n",
      " 19  Cantidad            12646 non-null  int64  \n",
      " 20  Fecha-Hora          12646 non-null  object \n",
      "dtypes: float64(2), int64(1), object(18)\n",
      "memory usage: 2.0+ MB\n"
     ]
    }
   ],
   "source": [
    "dataset.info()"
   ]
  },
  {
   "cell_type": "code",
   "execution_count": 19,
   "metadata": {
    "ExecuteTime": {
     "end_time": "2020-05-25T07:50:26.547381Z",
     "start_time": "2020-05-25T07:50:26.488431Z"
    },
    "scrolled": true
   },
   "outputs": [],
   "source": [
    "# Upddate the data type of Fecha variable\n",
    "dataset['Fecha'] = pd.to_datetime(dataset['Fecha'],  infer_datetime_format=True)\n",
    "dataset['Fecha-Hora'] = pd.to_datetime(dataset['Fecha-Hora'],  infer_datetime_format=True)\n",
    "\n",
    "# the municipailities murders per month\n",
    "group_table = dataset.groupby([dataset[\"Fecha\"].dt.month, 'Municipio']).Cantidad.sum() \n",
    "\n",
    "# multiIndex level names\n",
    "group_table.index.names = ['Month', 'Municipalities']\n",
    "\n",
    "# The top10 municipalities with the highest number of murders per month\n",
    "top10_mun = group_table.groupby(level='Month').nlargest(10).reset_index(level=0, drop=True)\n",
    "top5_mun = group_table.groupby(level='Month').nlargest(5).reset_index(level=0, drop=True)\n",
    "\n",
    "top10_mun = top10_mun.reset_index()\n",
    "top5_mun =  top5_mun.reset_index()\n"
   ]
  },
  {
   "cell_type": "code",
   "execution_count": 20,
   "metadata": {
    "ExecuteTime": {
     "end_time": "2020-05-25T07:50:29.033529Z",
     "start_time": "2020-05-25T07:50:29.011589Z"
    }
   },
   "outputs": [
    {
     "data": {
      "application/vnd.plotly.v1+json": {
       "config": {
        "plotlyServerURL": "https://plot.ly"
       },
       "data": [
        {
         "marker": {
          "color": [
           106,
           83,
           56,
           34,
           24,
           21,
           18,
           16,
           16,
           15,
           87,
           85,
           40,
           36,
           26,
           13,
           13,
           11,
           11,
           11,
           127,
           93,
           42,
           36,
           21,
           21,
           19,
           19,
           18,
           18,
           118,
           89,
           57,
           32,
           20,
           20,
           18,
           17,
           17,
           16,
           91,
           84,
           64,
           27,
           24,
           22,
           17,
           17,
           16,
           14,
           78,
           70,
           66,
           25,
           23,
           21,
           13,
           13,
           13,
           13,
           95,
           93,
           54,
           24,
           16,
           16,
           16,
           14,
           13,
           12,
           100,
           85,
           52,
           22,
           19,
           17,
           16,
           14,
           13,
           13,
           100,
           76,
           42,
           35,
           20,
           15,
           15,
           12,
           12,
           12,
           79,
           78,
           51,
           28,
           23,
           19,
           13,
           12,
           12,
           12,
           93,
           86,
           46,
           23,
           21,
           18,
           13,
           13,
           11,
           11,
           115,
           112,
           56,
           24,
           23,
           20,
           18,
           18,
           17,
           15
          ],
          "colorscale": [
           [
            0,
            "#440154"
           ],
           [
            0.1111111111111111,
            "#482878"
           ],
           [
            0.2222222222222222,
            "#3e4989"
           ],
           [
            0.3333333333333333,
            "#31688e"
           ],
           [
            0.4444444444444444,
            "#26828e"
           ],
           [
            0.5555555555555556,
            "#1f9e89"
           ],
           [
            0.6666666666666666,
            "#35b779"
           ],
           [
            0.7777777777777778,
            "#6ece58"
           ],
           [
            0.8888888888888888,
            "#b5de2b"
           ],
           [
            1,
            "#fde725"
           ]
          ],
          "showscale": true,
          "size": [
           53,
           41.5,
           28,
           17,
           12,
           10.5,
           9,
           8,
           8,
           7.5,
           43.5,
           42.5,
           20,
           18,
           13,
           6.5,
           6.5,
           5.5,
           5.5,
           5.5,
           63.5,
           46.5,
           21,
           18,
           10.5,
           10.5,
           9.5,
           9.5,
           9,
           9,
           59,
           44.5,
           28.5,
           16,
           10,
           10,
           9,
           8.5,
           8.5,
           8,
           45.5,
           42,
           32,
           13.5,
           12,
           11,
           8.5,
           8.5,
           8,
           7,
           39,
           35,
           33,
           12.5,
           11.5,
           10.5,
           6.5,
           6.5,
           6.5,
           6.5,
           47.5,
           46.5,
           27,
           12,
           8,
           8,
           8,
           7,
           6.5,
           6,
           50,
           42.5,
           26,
           11,
           9.5,
           8.5,
           8,
           7,
           6.5,
           6.5,
           50,
           38,
           21,
           17.5,
           10,
           7.5,
           7.5,
           6,
           6,
           6,
           39.5,
           39,
           25.5,
           14,
           11.5,
           9.5,
           6.5,
           6,
           6,
           6,
           46.5,
           43,
           23,
           11.5,
           10.5,
           9,
           6.5,
           6.5,
           5.5,
           5.5,
           57.5,
           56,
           28,
           12,
           11.5,
           10,
           9,
           9,
           8.5,
           7.5
          ]
         },
         "mode": "markers",
         "text": [
          "CALI (CT)",
          "BOGOTÁ D.C. (CT)",
          "MEDELLÍN (CT)",
          "BARRANQUILLA (CT)",
          "CÚCUTA (CT)",
          "CARTAGENA (CT)",
          "SOACHA",
          "SAN ANDRES DE TUMACO",
          "VILLAVICENCIO (CT)",
          "YARUMAL",
          "BOGOTÁ D.C. (CT)",
          "CALI (CT)",
          "MEDELLÍN (CT)",
          "BARRANQUILLA (CT)",
          "SAN ANDRES DE TUMACO",
          "SOLEDAD",
          "TURBO",
          "CARTAGENA (CT)",
          "CAUCASIA",
          "MONTERÍA (CT)",
          "CALI (CT)",
          "BOGOTÁ D.C. (CT)",
          "MEDELLÍN (CT)",
          "SAN ANDRES DE TUMACO",
          "CARTAGENA (CT)",
          "CÚCUTA (CT)",
          "CAUCASIA",
          "SOACHA",
          "BARRANQUILLA (CT)",
          "TARAZÁ",
          "CALI (CT)",
          "BOGOTÁ D.C. (CT)",
          "MEDELLÍN (CT)",
          "BARRANQUILLA (CT)",
          "CÚCUTA (CT)",
          "TARAZÁ",
          "CARTAGENA (CT)",
          "JAMUNDÍ",
          "SAN ANDRES DE TUMACO",
          "SOLEDAD",
          "CALI (CT)",
          "BOGOTÁ D.C. (CT)",
          "MEDELLÍN (CT)",
          "SAN ANDRES DE TUMACO",
          "CARTAGENA (CT)",
          "BARRANQUILLA (CT)",
          "CAUCASIA",
          "SOLEDAD",
          "PALMIRA",
          "CÚCUTA (CT)",
          "CALI (CT)",
          "BOGOTÁ D.C. (CT)",
          "MEDELLÍN (CT)",
          "SAN ANDRES DE TUMACO",
          "BARRANQUILLA (CT)",
          "PALMIRA",
          "CARTAGENA (CT)",
          "CAUCASIA",
          "SOACHA",
          "TURBO",
          "CALI (CT)",
          "BOGOTÁ D.C. (CT)",
          "MEDELLÍN (CT)",
          "BARRANQUILLA (CT)",
          "CÚCUTA (CT)",
          "PALMIRA",
          "SAN ANDRES DE TUMACO",
          "SOACHA",
          "VALLEDUPAR (CT)",
          "NEIVA (CT)",
          "CALI (CT)",
          "BOGOTÁ D.C. (CT)",
          "MEDELLÍN (CT)",
          "CÚCUTA (CT)",
          "BARRANQUILLA (CT)",
          "SAN ANDRES DE TUMACO",
          "CAUCASIA",
          "BUCARAMANGA (CT)",
          "PEREIRA (CT)",
          "SOACHA",
          "BOGOTÁ D.C. (CT)",
          "CALI (CT)",
          "MEDELLÍN (CT)",
          "BARRANQUILLA (CT)",
          "CARTAGENA (CT)",
          "CÚCUTA (CT)",
          "SAN ANDRES DE TUMACO",
          "CAUCASIA",
          "JAMUNDÍ",
          "PEREIRA (CT)",
          "BOGOTÁ D.C. (CT)",
          "CALI (CT)",
          "MEDELLÍN (CT)",
          "BARRANQUILLA (CT)",
          "SAN ANDRES DE TUMACO",
          "CARTAGENA (CT)",
          "SOLEDAD",
          "BUENAVENTURA",
          "PALMIRA",
          "TULUÁ",
          "CALI (CT)",
          "BOGOTÁ D.C. (CT)",
          "MEDELLÍN (CT)",
          "CARTAGENA (CT)",
          "BARRANQUILLA (CT)",
          "SAN ANDRES DE TUMACO",
          "CÚCUTA (CT)",
          "SOLEDAD",
          "BUENAVENTURA",
          "CIUDAD BOLÍVAR",
          "BOGOTÁ D.C. (CT)",
          "CALI (CT)",
          "MEDELLÍN (CT)",
          "CARTAGENA (CT)",
          "BARRANQUILLA (CT)",
          "SOACHA",
          "BUENAVENTURA",
          "PALMIRA",
          "CÚCUTA (CT)",
          "CAUCASIA"
         ],
         "type": "scatter",
         "x": [
          1,
          1,
          1,
          1,
          1,
          1,
          1,
          1,
          1,
          1,
          2,
          2,
          2,
          2,
          2,
          2,
          2,
          2,
          2,
          2,
          3,
          3,
          3,
          3,
          3,
          3,
          3,
          3,
          3,
          3,
          4,
          4,
          4,
          4,
          4,
          4,
          4,
          4,
          4,
          4,
          5,
          5,
          5,
          5,
          5,
          5,
          5,
          5,
          5,
          5,
          6,
          6,
          6,
          6,
          6,
          6,
          6,
          6,
          6,
          6,
          7,
          7,
          7,
          7,
          7,
          7,
          7,
          7,
          7,
          7,
          8,
          8,
          8,
          8,
          8,
          8,
          8,
          8,
          8,
          8,
          9,
          9,
          9,
          9,
          9,
          9,
          9,
          9,
          9,
          9,
          10,
          10,
          10,
          10,
          10,
          10,
          10,
          10,
          10,
          10,
          11,
          11,
          11,
          11,
          11,
          11,
          11,
          11,
          11,
          11,
          12,
          12,
          12,
          12,
          12,
          12,
          12,
          12,
          12,
          12
         ],
         "y": [
          106,
          83,
          56,
          34,
          24,
          21,
          18,
          16,
          16,
          15,
          87,
          85,
          40,
          36,
          26,
          13,
          13,
          11,
          11,
          11,
          127,
          93,
          42,
          36,
          21,
          21,
          19,
          19,
          18,
          18,
          118,
          89,
          57,
          32,
          20,
          20,
          18,
          17,
          17,
          16,
          91,
          84,
          64,
          27,
          24,
          22,
          17,
          17,
          16,
          14,
          78,
          70,
          66,
          25,
          23,
          21,
          13,
          13,
          13,
          13,
          95,
          93,
          54,
          24,
          16,
          16,
          16,
          14,
          13,
          12,
          100,
          85,
          52,
          22,
          19,
          17,
          16,
          14,
          13,
          13,
          100,
          76,
          42,
          35,
          20,
          15,
          15,
          12,
          12,
          12,
          79,
          78,
          51,
          28,
          23,
          19,
          13,
          12,
          12,
          12,
          93,
          86,
          46,
          23,
          21,
          18,
          13,
          13,
          11,
          11,
          115,
          112,
          56,
          24,
          23,
          20,
          18,
          18,
          17,
          15
         ]
        }
       ],
       "layout": {
        "template": {
         "data": {
          "bar": [
           {
            "error_x": {
             "color": "#2a3f5f"
            },
            "error_y": {
             "color": "#2a3f5f"
            },
            "marker": {
             "line": {
              "color": "#E5ECF6",
              "width": 0.5
             }
            },
            "type": "bar"
           }
          ],
          "barpolar": [
           {
            "marker": {
             "line": {
              "color": "#E5ECF6",
              "width": 0.5
             }
            },
            "type": "barpolar"
           }
          ],
          "carpet": [
           {
            "aaxis": {
             "endlinecolor": "#2a3f5f",
             "gridcolor": "white",
             "linecolor": "white",
             "minorgridcolor": "white",
             "startlinecolor": "#2a3f5f"
            },
            "baxis": {
             "endlinecolor": "#2a3f5f",
             "gridcolor": "white",
             "linecolor": "white",
             "minorgridcolor": "white",
             "startlinecolor": "#2a3f5f"
            },
            "type": "carpet"
           }
          ],
          "choropleth": [
           {
            "colorbar": {
             "outlinewidth": 0,
             "ticks": ""
            },
            "type": "choropleth"
           }
          ],
          "contour": [
           {
            "colorbar": {
             "outlinewidth": 0,
             "ticks": ""
            },
            "colorscale": [
             [
              0,
              "#0d0887"
             ],
             [
              0.1111111111111111,
              "#46039f"
             ],
             [
              0.2222222222222222,
              "#7201a8"
             ],
             [
              0.3333333333333333,
              "#9c179e"
             ],
             [
              0.4444444444444444,
              "#bd3786"
             ],
             [
              0.5555555555555556,
              "#d8576b"
             ],
             [
              0.6666666666666666,
              "#ed7953"
             ],
             [
              0.7777777777777778,
              "#fb9f3a"
             ],
             [
              0.8888888888888888,
              "#fdca26"
             ],
             [
              1,
              "#f0f921"
             ]
            ],
            "type": "contour"
           }
          ],
          "contourcarpet": [
           {
            "colorbar": {
             "outlinewidth": 0,
             "ticks": ""
            },
            "type": "contourcarpet"
           }
          ],
          "heatmap": [
           {
            "colorbar": {
             "outlinewidth": 0,
             "ticks": ""
            },
            "colorscale": [
             [
              0,
              "#0d0887"
             ],
             [
              0.1111111111111111,
              "#46039f"
             ],
             [
              0.2222222222222222,
              "#7201a8"
             ],
             [
              0.3333333333333333,
              "#9c179e"
             ],
             [
              0.4444444444444444,
              "#bd3786"
             ],
             [
              0.5555555555555556,
              "#d8576b"
             ],
             [
              0.6666666666666666,
              "#ed7953"
             ],
             [
              0.7777777777777778,
              "#fb9f3a"
             ],
             [
              0.8888888888888888,
              "#fdca26"
             ],
             [
              1,
              "#f0f921"
             ]
            ],
            "type": "heatmap"
           }
          ],
          "heatmapgl": [
           {
            "colorbar": {
             "outlinewidth": 0,
             "ticks": ""
            },
            "colorscale": [
             [
              0,
              "#0d0887"
             ],
             [
              0.1111111111111111,
              "#46039f"
             ],
             [
              0.2222222222222222,
              "#7201a8"
             ],
             [
              0.3333333333333333,
              "#9c179e"
             ],
             [
              0.4444444444444444,
              "#bd3786"
             ],
             [
              0.5555555555555556,
              "#d8576b"
             ],
             [
              0.6666666666666666,
              "#ed7953"
             ],
             [
              0.7777777777777778,
              "#fb9f3a"
             ],
             [
              0.8888888888888888,
              "#fdca26"
             ],
             [
              1,
              "#f0f921"
             ]
            ],
            "type": "heatmapgl"
           }
          ],
          "histogram": [
           {
            "marker": {
             "colorbar": {
              "outlinewidth": 0,
              "ticks": ""
             }
            },
            "type": "histogram"
           }
          ],
          "histogram2d": [
           {
            "colorbar": {
             "outlinewidth": 0,
             "ticks": ""
            },
            "colorscale": [
             [
              0,
              "#0d0887"
             ],
             [
              0.1111111111111111,
              "#46039f"
             ],
             [
              0.2222222222222222,
              "#7201a8"
             ],
             [
              0.3333333333333333,
              "#9c179e"
             ],
             [
              0.4444444444444444,
              "#bd3786"
             ],
             [
              0.5555555555555556,
              "#d8576b"
             ],
             [
              0.6666666666666666,
              "#ed7953"
             ],
             [
              0.7777777777777778,
              "#fb9f3a"
             ],
             [
              0.8888888888888888,
              "#fdca26"
             ],
             [
              1,
              "#f0f921"
             ]
            ],
            "type": "histogram2d"
           }
          ],
          "histogram2dcontour": [
           {
            "colorbar": {
             "outlinewidth": 0,
             "ticks": ""
            },
            "colorscale": [
             [
              0,
              "#0d0887"
             ],
             [
              0.1111111111111111,
              "#46039f"
             ],
             [
              0.2222222222222222,
              "#7201a8"
             ],
             [
              0.3333333333333333,
              "#9c179e"
             ],
             [
              0.4444444444444444,
              "#bd3786"
             ],
             [
              0.5555555555555556,
              "#d8576b"
             ],
             [
              0.6666666666666666,
              "#ed7953"
             ],
             [
              0.7777777777777778,
              "#fb9f3a"
             ],
             [
              0.8888888888888888,
              "#fdca26"
             ],
             [
              1,
              "#f0f921"
             ]
            ],
            "type": "histogram2dcontour"
           }
          ],
          "mesh3d": [
           {
            "colorbar": {
             "outlinewidth": 0,
             "ticks": ""
            },
            "type": "mesh3d"
           }
          ],
          "parcoords": [
           {
            "line": {
             "colorbar": {
              "outlinewidth": 0,
              "ticks": ""
             }
            },
            "type": "parcoords"
           }
          ],
          "pie": [
           {
            "automargin": true,
            "type": "pie"
           }
          ],
          "scatter": [
           {
            "marker": {
             "colorbar": {
              "outlinewidth": 0,
              "ticks": ""
             }
            },
            "type": "scatter"
           }
          ],
          "scatter3d": [
           {
            "line": {
             "colorbar": {
              "outlinewidth": 0,
              "ticks": ""
             }
            },
            "marker": {
             "colorbar": {
              "outlinewidth": 0,
              "ticks": ""
             }
            },
            "type": "scatter3d"
           }
          ],
          "scattercarpet": [
           {
            "marker": {
             "colorbar": {
              "outlinewidth": 0,
              "ticks": ""
             }
            },
            "type": "scattercarpet"
           }
          ],
          "scattergeo": [
           {
            "marker": {
             "colorbar": {
              "outlinewidth": 0,
              "ticks": ""
             }
            },
            "type": "scattergeo"
           }
          ],
          "scattergl": [
           {
            "marker": {
             "colorbar": {
              "outlinewidth": 0,
              "ticks": ""
             }
            },
            "type": "scattergl"
           }
          ],
          "scattermapbox": [
           {
            "marker": {
             "colorbar": {
              "outlinewidth": 0,
              "ticks": ""
             }
            },
            "type": "scattermapbox"
           }
          ],
          "scatterpolar": [
           {
            "marker": {
             "colorbar": {
              "outlinewidth": 0,
              "ticks": ""
             }
            },
            "type": "scatterpolar"
           }
          ],
          "scatterpolargl": [
           {
            "marker": {
             "colorbar": {
              "outlinewidth": 0,
              "ticks": ""
             }
            },
            "type": "scatterpolargl"
           }
          ],
          "scatterternary": [
           {
            "marker": {
             "colorbar": {
              "outlinewidth": 0,
              "ticks": ""
             }
            },
            "type": "scatterternary"
           }
          ],
          "surface": [
           {
            "colorbar": {
             "outlinewidth": 0,
             "ticks": ""
            },
            "colorscale": [
             [
              0,
              "#0d0887"
             ],
             [
              0.1111111111111111,
              "#46039f"
             ],
             [
              0.2222222222222222,
              "#7201a8"
             ],
             [
              0.3333333333333333,
              "#9c179e"
             ],
             [
              0.4444444444444444,
              "#bd3786"
             ],
             [
              0.5555555555555556,
              "#d8576b"
             ],
             [
              0.6666666666666666,
              "#ed7953"
             ],
             [
              0.7777777777777778,
              "#fb9f3a"
             ],
             [
              0.8888888888888888,
              "#fdca26"
             ],
             [
              1,
              "#f0f921"
             ]
            ],
            "type": "surface"
           }
          ],
          "table": [
           {
            "cells": {
             "fill": {
              "color": "#EBF0F8"
             },
             "line": {
              "color": "white"
             }
            },
            "header": {
             "fill": {
              "color": "#C8D4E3"
             },
             "line": {
              "color": "white"
             }
            },
            "type": "table"
           }
          ]
         },
         "layout": {
          "annotationdefaults": {
           "arrowcolor": "#2a3f5f",
           "arrowhead": 0,
           "arrowwidth": 1
          },
          "coloraxis": {
           "colorbar": {
            "outlinewidth": 0,
            "ticks": ""
           }
          },
          "colorscale": {
           "diverging": [
            [
             0,
             "#8e0152"
            ],
            [
             0.1,
             "#c51b7d"
            ],
            [
             0.2,
             "#de77ae"
            ],
            [
             0.3,
             "#f1b6da"
            ],
            [
             0.4,
             "#fde0ef"
            ],
            [
             0.5,
             "#f7f7f7"
            ],
            [
             0.6,
             "#e6f5d0"
            ],
            [
             0.7,
             "#b8e186"
            ],
            [
             0.8,
             "#7fbc41"
            ],
            [
             0.9,
             "#4d9221"
            ],
            [
             1,
             "#276419"
            ]
           ],
           "sequential": [
            [
             0,
             "#0d0887"
            ],
            [
             0.1111111111111111,
             "#46039f"
            ],
            [
             0.2222222222222222,
             "#7201a8"
            ],
            [
             0.3333333333333333,
             "#9c179e"
            ],
            [
             0.4444444444444444,
             "#bd3786"
            ],
            [
             0.5555555555555556,
             "#d8576b"
            ],
            [
             0.6666666666666666,
             "#ed7953"
            ],
            [
             0.7777777777777778,
             "#fb9f3a"
            ],
            [
             0.8888888888888888,
             "#fdca26"
            ],
            [
             1,
             "#f0f921"
            ]
           ],
           "sequentialminus": [
            [
             0,
             "#0d0887"
            ],
            [
             0.1111111111111111,
             "#46039f"
            ],
            [
             0.2222222222222222,
             "#7201a8"
            ],
            [
             0.3333333333333333,
             "#9c179e"
            ],
            [
             0.4444444444444444,
             "#bd3786"
            ],
            [
             0.5555555555555556,
             "#d8576b"
            ],
            [
             0.6666666666666666,
             "#ed7953"
            ],
            [
             0.7777777777777778,
             "#fb9f3a"
            ],
            [
             0.8888888888888888,
             "#fdca26"
            ],
            [
             1,
             "#f0f921"
            ]
           ]
          },
          "colorway": [
           "#636efa",
           "#EF553B",
           "#00cc96",
           "#ab63fa",
           "#FFA15A",
           "#19d3f3",
           "#FF6692",
           "#B6E880",
           "#FF97FF",
           "#FECB52"
          ],
          "font": {
           "color": "#2a3f5f"
          },
          "geo": {
           "bgcolor": "white",
           "lakecolor": "white",
           "landcolor": "#E5ECF6",
           "showlakes": true,
           "showland": true,
           "subunitcolor": "white"
          },
          "hoverlabel": {
           "align": "left"
          },
          "hovermode": "closest",
          "mapbox": {
           "style": "light"
          },
          "paper_bgcolor": "white",
          "plot_bgcolor": "#E5ECF6",
          "polar": {
           "angularaxis": {
            "gridcolor": "white",
            "linecolor": "white",
            "ticks": ""
           },
           "bgcolor": "#E5ECF6",
           "radialaxis": {
            "gridcolor": "white",
            "linecolor": "white",
            "ticks": ""
           }
          },
          "scene": {
           "xaxis": {
            "backgroundcolor": "#E5ECF6",
            "gridcolor": "white",
            "gridwidth": 2,
            "linecolor": "white",
            "showbackground": true,
            "ticks": "",
            "zerolinecolor": "white"
           },
           "yaxis": {
            "backgroundcolor": "#E5ECF6",
            "gridcolor": "white",
            "gridwidth": 2,
            "linecolor": "white",
            "showbackground": true,
            "ticks": "",
            "zerolinecolor": "white"
           },
           "zaxis": {
            "backgroundcolor": "#E5ECF6",
            "gridcolor": "white",
            "gridwidth": 2,
            "linecolor": "white",
            "showbackground": true,
            "ticks": "",
            "zerolinecolor": "white"
           }
          },
          "shapedefaults": {
           "line": {
            "color": "#2a3f5f"
           }
          },
          "ternary": {
           "aaxis": {
            "gridcolor": "white",
            "linecolor": "white",
            "ticks": ""
           },
           "baxis": {
            "gridcolor": "white",
            "linecolor": "white",
            "ticks": ""
           },
           "bgcolor": "#E5ECF6",
           "caxis": {
            "gridcolor": "white",
            "linecolor": "white",
            "ticks": ""
           }
          },
          "title": {
           "x": 0.05
          },
          "xaxis": {
           "automargin": true,
           "gridcolor": "white",
           "linecolor": "white",
           "ticks": "",
           "title": {
            "standoff": 15
           },
           "zerolinecolor": "white",
           "zerolinewidth": 2
          },
          "yaxis": {
           "automargin": true,
           "gridcolor": "white",
           "linecolor": "white",
           "ticks": "",
           "title": {
            "standoff": 15
           },
           "zerolinecolor": "white",
           "zerolinewidth": 2
          }
         }
        },
        "title": {
         "text": "Top10 municipalities with the highest number of murders per month"
        },
        "xaxis": {
         "tickmode": "array",
         "ticktext": [
          "Jan",
          "Feb",
          "Mar",
          "Apr",
          "May",
          "Jun",
          "Jul",
          "Aug",
          "Sep",
          "Oct",
          "Nov",
          "Dec"
         ],
         "tickvals": [
          1,
          2,
          3,
          4,
          5,
          6,
          7,
          8,
          9,
          10,
          11,
          12
         ]
        }
       }
      },
      "text/html": [
       "<div>\n",
       "        \n",
       "        \n",
       "            <div id=\"387e981e-e694-4059-b10f-c7bb3f72ee5e\" class=\"plotly-graph-div\" style=\"height:525px; width:100%;\"></div>\n",
       "            <script type=\"text/javascript\">\n",
       "                require([\"plotly\"], function(Plotly) {\n",
       "                    window.PLOTLYENV=window.PLOTLYENV || {};\n",
       "                    \n",
       "                if (document.getElementById(\"387e981e-e694-4059-b10f-c7bb3f72ee5e\")) {\n",
       "                    Plotly.newPlot(\n",
       "                        '387e981e-e694-4059-b10f-c7bb3f72ee5e',\n",
       "                        [{\"marker\": {\"color\": [106, 83, 56, 34, 24, 21, 18, 16, 16, 15, 87, 85, 40, 36, 26, 13, 13, 11, 11, 11, 127, 93, 42, 36, 21, 21, 19, 19, 18, 18, 118, 89, 57, 32, 20, 20, 18, 17, 17, 16, 91, 84, 64, 27, 24, 22, 17, 17, 16, 14, 78, 70, 66, 25, 23, 21, 13, 13, 13, 13, 95, 93, 54, 24, 16, 16, 16, 14, 13, 12, 100, 85, 52, 22, 19, 17, 16, 14, 13, 13, 100, 76, 42, 35, 20, 15, 15, 12, 12, 12, 79, 78, 51, 28, 23, 19, 13, 12, 12, 12, 93, 86, 46, 23, 21, 18, 13, 13, 11, 11, 115, 112, 56, 24, 23, 20, 18, 18, 17, 15], \"colorscale\": [[0.0, \"#440154\"], [0.1111111111111111, \"#482878\"], [0.2222222222222222, \"#3e4989\"], [0.3333333333333333, \"#31688e\"], [0.4444444444444444, \"#26828e\"], [0.5555555555555556, \"#1f9e89\"], [0.6666666666666666, \"#35b779\"], [0.7777777777777778, \"#6ece58\"], [0.8888888888888888, \"#b5de2b\"], [1.0, \"#fde725\"]], \"showscale\": true, \"size\": [53.0, 41.5, 28.0, 17.0, 12.0, 10.5, 9.0, 8.0, 8.0, 7.5, 43.5, 42.5, 20.0, 18.0, 13.0, 6.5, 6.5, 5.5, 5.5, 5.5, 63.5, 46.5, 21.0, 18.0, 10.5, 10.5, 9.5, 9.5, 9.0, 9.0, 59.0, 44.5, 28.5, 16.0, 10.0, 10.0, 9.0, 8.5, 8.5, 8.0, 45.5, 42.0, 32.0, 13.5, 12.0, 11.0, 8.5, 8.5, 8.0, 7.0, 39.0, 35.0, 33.0, 12.5, 11.5, 10.5, 6.5, 6.5, 6.5, 6.5, 47.5, 46.5, 27.0, 12.0, 8.0, 8.0, 8.0, 7.0, 6.5, 6.0, 50.0, 42.5, 26.0, 11.0, 9.5, 8.5, 8.0, 7.0, 6.5, 6.5, 50.0, 38.0, 21.0, 17.5, 10.0, 7.5, 7.5, 6.0, 6.0, 6.0, 39.5, 39.0, 25.5, 14.0, 11.5, 9.5, 6.5, 6.0, 6.0, 6.0, 46.5, 43.0, 23.0, 11.5, 10.5, 9.0, 6.5, 6.5, 5.5, 5.5, 57.5, 56.0, 28.0, 12.0, 11.5, 10.0, 9.0, 9.0, 8.5, 7.5]}, \"mode\": \"markers\", \"text\": [\"CALI (CT)\", \"BOGOT\\u00c1 D.C. (CT)\", \"MEDELL\\u00cdN (CT)\", \"BARRANQUILLA (CT)\", \"C\\u00daCUTA (CT)\", \"CARTAGENA (CT)\", \"SOACHA\", \"SAN ANDRES DE TUMACO\", \"VILLAVICENCIO (CT)\", \"YARUMAL\", \"BOGOT\\u00c1 D.C. (CT)\", \"CALI (CT)\", \"MEDELL\\u00cdN (CT)\", \"BARRANQUILLA (CT)\", \"SAN ANDRES DE TUMACO\", \"SOLEDAD\", \"TURBO\", \"CARTAGENA (CT)\", \"CAUCASIA\", \"MONTER\\u00cdA (CT)\", \"CALI (CT)\", \"BOGOT\\u00c1 D.C. (CT)\", \"MEDELL\\u00cdN (CT)\", \"SAN ANDRES DE TUMACO\", \"CARTAGENA (CT)\", \"C\\u00daCUTA (CT)\", \"CAUCASIA\", \"SOACHA\", \"BARRANQUILLA (CT)\", \"TARAZ\\u00c1\", \"CALI (CT)\", \"BOGOT\\u00c1 D.C. (CT)\", \"MEDELL\\u00cdN (CT)\", \"BARRANQUILLA (CT)\", \"C\\u00daCUTA (CT)\", \"TARAZ\\u00c1\", \"CARTAGENA (CT)\", \"JAMUND\\u00cd\", \"SAN ANDRES DE TUMACO\", \"SOLEDAD\", \"CALI (CT)\", \"BOGOT\\u00c1 D.C. (CT)\", \"MEDELL\\u00cdN (CT)\", \"SAN ANDRES DE TUMACO\", \"CARTAGENA (CT)\", \"BARRANQUILLA (CT)\", \"CAUCASIA\", \"SOLEDAD\", \"PALMIRA\", \"C\\u00daCUTA (CT)\", \"CALI (CT)\", \"BOGOT\\u00c1 D.C. (CT)\", \"MEDELL\\u00cdN (CT)\", \"SAN ANDRES DE TUMACO\", \"BARRANQUILLA (CT)\", \"PALMIRA\", \"CARTAGENA (CT)\", \"CAUCASIA\", \"SOACHA\", \"TURBO\", \"CALI (CT)\", \"BOGOT\\u00c1 D.C. (CT)\", \"MEDELL\\u00cdN (CT)\", \"BARRANQUILLA (CT)\", \"C\\u00daCUTA (CT)\", \"PALMIRA\", \"SAN ANDRES DE TUMACO\", \"SOACHA\", \"VALLEDUPAR (CT)\", \"NEIVA (CT)\", \"CALI (CT)\", \"BOGOT\\u00c1 D.C. (CT)\", \"MEDELL\\u00cdN (CT)\", \"C\\u00daCUTA (CT)\", \"BARRANQUILLA (CT)\", \"SAN ANDRES DE TUMACO\", \"CAUCASIA\", \"BUCARAMANGA (CT)\", \"PEREIRA (CT)\", \"SOACHA\", \"BOGOT\\u00c1 D.C. (CT)\", \"CALI (CT)\", \"MEDELL\\u00cdN (CT)\", \"BARRANQUILLA (CT)\", \"CARTAGENA (CT)\", \"C\\u00daCUTA (CT)\", \"SAN ANDRES DE TUMACO\", \"CAUCASIA\", \"JAMUND\\u00cd\", \"PEREIRA (CT)\", \"BOGOT\\u00c1 D.C. (CT)\", \"CALI (CT)\", \"MEDELL\\u00cdN (CT)\", \"BARRANQUILLA (CT)\", \"SAN ANDRES DE TUMACO\", \"CARTAGENA (CT)\", \"SOLEDAD\", \"BUENAVENTURA\", \"PALMIRA\", \"TULU\\u00c1\", \"CALI (CT)\", \"BOGOT\\u00c1 D.C. (CT)\", \"MEDELL\\u00cdN (CT)\", \"CARTAGENA (CT)\", \"BARRANQUILLA (CT)\", \"SAN ANDRES DE TUMACO\", \"C\\u00daCUTA (CT)\", \"SOLEDAD\", \"BUENAVENTURA\", \"CIUDAD BOL\\u00cdVAR\", \"BOGOT\\u00c1 D.C. (CT)\", \"CALI (CT)\", \"MEDELL\\u00cdN (CT)\", \"CARTAGENA (CT)\", \"BARRANQUILLA (CT)\", \"SOACHA\", \"BUENAVENTURA\", \"PALMIRA\", \"C\\u00daCUTA (CT)\", \"CAUCASIA\"], \"type\": \"scatter\", \"x\": [1, 1, 1, 1, 1, 1, 1, 1, 1, 1, 2, 2, 2, 2, 2, 2, 2, 2, 2, 2, 3, 3, 3, 3, 3, 3, 3, 3, 3, 3, 4, 4, 4, 4, 4, 4, 4, 4, 4, 4, 5, 5, 5, 5, 5, 5, 5, 5, 5, 5, 6, 6, 6, 6, 6, 6, 6, 6, 6, 6, 7, 7, 7, 7, 7, 7, 7, 7, 7, 7, 8, 8, 8, 8, 8, 8, 8, 8, 8, 8, 9, 9, 9, 9, 9, 9, 9, 9, 9, 9, 10, 10, 10, 10, 10, 10, 10, 10, 10, 10, 11, 11, 11, 11, 11, 11, 11, 11, 11, 11, 12, 12, 12, 12, 12, 12, 12, 12, 12, 12], \"y\": [106, 83, 56, 34, 24, 21, 18, 16, 16, 15, 87, 85, 40, 36, 26, 13, 13, 11, 11, 11, 127, 93, 42, 36, 21, 21, 19, 19, 18, 18, 118, 89, 57, 32, 20, 20, 18, 17, 17, 16, 91, 84, 64, 27, 24, 22, 17, 17, 16, 14, 78, 70, 66, 25, 23, 21, 13, 13, 13, 13, 95, 93, 54, 24, 16, 16, 16, 14, 13, 12, 100, 85, 52, 22, 19, 17, 16, 14, 13, 13, 100, 76, 42, 35, 20, 15, 15, 12, 12, 12, 79, 78, 51, 28, 23, 19, 13, 12, 12, 12, 93, 86, 46, 23, 21, 18, 13, 13, 11, 11, 115, 112, 56, 24, 23, 20, 18, 18, 17, 15]}],\n",
       "                        {\"template\": {\"data\": {\"bar\": [{\"error_x\": {\"color\": \"#2a3f5f\"}, \"error_y\": {\"color\": \"#2a3f5f\"}, \"marker\": {\"line\": {\"color\": \"#E5ECF6\", \"width\": 0.5}}, \"type\": \"bar\"}], \"barpolar\": [{\"marker\": {\"line\": {\"color\": \"#E5ECF6\", \"width\": 0.5}}, \"type\": \"barpolar\"}], \"carpet\": [{\"aaxis\": {\"endlinecolor\": \"#2a3f5f\", \"gridcolor\": \"white\", \"linecolor\": \"white\", \"minorgridcolor\": \"white\", \"startlinecolor\": \"#2a3f5f\"}, \"baxis\": {\"endlinecolor\": \"#2a3f5f\", \"gridcolor\": \"white\", \"linecolor\": \"white\", \"minorgridcolor\": \"white\", \"startlinecolor\": \"#2a3f5f\"}, \"type\": \"carpet\"}], \"choropleth\": [{\"colorbar\": {\"outlinewidth\": 0, \"ticks\": \"\"}, \"type\": \"choropleth\"}], \"contour\": [{\"colorbar\": {\"outlinewidth\": 0, \"ticks\": \"\"}, \"colorscale\": [[0.0, \"#0d0887\"], [0.1111111111111111, \"#46039f\"], [0.2222222222222222, \"#7201a8\"], [0.3333333333333333, \"#9c179e\"], [0.4444444444444444, \"#bd3786\"], [0.5555555555555556, \"#d8576b\"], [0.6666666666666666, \"#ed7953\"], [0.7777777777777778, \"#fb9f3a\"], [0.8888888888888888, \"#fdca26\"], [1.0, \"#f0f921\"]], \"type\": \"contour\"}], \"contourcarpet\": [{\"colorbar\": {\"outlinewidth\": 0, \"ticks\": \"\"}, \"type\": \"contourcarpet\"}], \"heatmap\": [{\"colorbar\": {\"outlinewidth\": 0, \"ticks\": \"\"}, \"colorscale\": [[0.0, \"#0d0887\"], [0.1111111111111111, \"#46039f\"], [0.2222222222222222, \"#7201a8\"], [0.3333333333333333, \"#9c179e\"], [0.4444444444444444, \"#bd3786\"], [0.5555555555555556, \"#d8576b\"], [0.6666666666666666, \"#ed7953\"], [0.7777777777777778, \"#fb9f3a\"], [0.8888888888888888, \"#fdca26\"], [1.0, \"#f0f921\"]], \"type\": \"heatmap\"}], \"heatmapgl\": [{\"colorbar\": {\"outlinewidth\": 0, \"ticks\": \"\"}, \"colorscale\": [[0.0, \"#0d0887\"], [0.1111111111111111, \"#46039f\"], [0.2222222222222222, \"#7201a8\"], [0.3333333333333333, \"#9c179e\"], [0.4444444444444444, \"#bd3786\"], [0.5555555555555556, \"#d8576b\"], [0.6666666666666666, \"#ed7953\"], [0.7777777777777778, \"#fb9f3a\"], [0.8888888888888888, \"#fdca26\"], [1.0, \"#f0f921\"]], \"type\": \"heatmapgl\"}], \"histogram\": [{\"marker\": {\"colorbar\": {\"outlinewidth\": 0, \"ticks\": \"\"}}, \"type\": \"histogram\"}], \"histogram2d\": [{\"colorbar\": {\"outlinewidth\": 0, \"ticks\": \"\"}, \"colorscale\": [[0.0, \"#0d0887\"], [0.1111111111111111, \"#46039f\"], [0.2222222222222222, \"#7201a8\"], [0.3333333333333333, \"#9c179e\"], [0.4444444444444444, \"#bd3786\"], [0.5555555555555556, \"#d8576b\"], [0.6666666666666666, \"#ed7953\"], [0.7777777777777778, \"#fb9f3a\"], [0.8888888888888888, \"#fdca26\"], [1.0, \"#f0f921\"]], \"type\": \"histogram2d\"}], \"histogram2dcontour\": [{\"colorbar\": {\"outlinewidth\": 0, \"ticks\": \"\"}, \"colorscale\": [[0.0, \"#0d0887\"], [0.1111111111111111, \"#46039f\"], [0.2222222222222222, \"#7201a8\"], [0.3333333333333333, \"#9c179e\"], [0.4444444444444444, \"#bd3786\"], [0.5555555555555556, \"#d8576b\"], [0.6666666666666666, \"#ed7953\"], [0.7777777777777778, \"#fb9f3a\"], [0.8888888888888888, \"#fdca26\"], [1.0, \"#f0f921\"]], \"type\": \"histogram2dcontour\"}], \"mesh3d\": [{\"colorbar\": {\"outlinewidth\": 0, \"ticks\": \"\"}, \"type\": \"mesh3d\"}], \"parcoords\": [{\"line\": {\"colorbar\": {\"outlinewidth\": 0, \"ticks\": \"\"}}, \"type\": \"parcoords\"}], \"pie\": [{\"automargin\": true, \"type\": \"pie\"}], \"scatter\": [{\"marker\": {\"colorbar\": {\"outlinewidth\": 0, \"ticks\": \"\"}}, \"type\": \"scatter\"}], \"scatter3d\": [{\"line\": {\"colorbar\": {\"outlinewidth\": 0, \"ticks\": \"\"}}, \"marker\": {\"colorbar\": {\"outlinewidth\": 0, \"ticks\": \"\"}}, \"type\": \"scatter3d\"}], \"scattercarpet\": [{\"marker\": {\"colorbar\": {\"outlinewidth\": 0, \"ticks\": \"\"}}, \"type\": \"scattercarpet\"}], \"scattergeo\": [{\"marker\": {\"colorbar\": {\"outlinewidth\": 0, \"ticks\": \"\"}}, \"type\": \"scattergeo\"}], \"scattergl\": [{\"marker\": {\"colorbar\": {\"outlinewidth\": 0, \"ticks\": \"\"}}, \"type\": \"scattergl\"}], \"scattermapbox\": [{\"marker\": {\"colorbar\": {\"outlinewidth\": 0, \"ticks\": \"\"}}, \"type\": \"scattermapbox\"}], \"scatterpolar\": [{\"marker\": {\"colorbar\": {\"outlinewidth\": 0, \"ticks\": \"\"}}, \"type\": \"scatterpolar\"}], \"scatterpolargl\": [{\"marker\": {\"colorbar\": {\"outlinewidth\": 0, \"ticks\": \"\"}}, \"type\": \"scatterpolargl\"}], \"scatterternary\": [{\"marker\": {\"colorbar\": {\"outlinewidth\": 0, \"ticks\": \"\"}}, \"type\": \"scatterternary\"}], \"surface\": [{\"colorbar\": {\"outlinewidth\": 0, \"ticks\": \"\"}, \"colorscale\": [[0.0, \"#0d0887\"], [0.1111111111111111, \"#46039f\"], [0.2222222222222222, \"#7201a8\"], [0.3333333333333333, \"#9c179e\"], [0.4444444444444444, \"#bd3786\"], [0.5555555555555556, \"#d8576b\"], [0.6666666666666666, \"#ed7953\"], [0.7777777777777778, \"#fb9f3a\"], [0.8888888888888888, \"#fdca26\"], [1.0, \"#f0f921\"]], \"type\": \"surface\"}], \"table\": [{\"cells\": {\"fill\": {\"color\": \"#EBF0F8\"}, \"line\": {\"color\": \"white\"}}, \"header\": {\"fill\": {\"color\": \"#C8D4E3\"}, \"line\": {\"color\": \"white\"}}, \"type\": \"table\"}]}, \"layout\": {\"annotationdefaults\": {\"arrowcolor\": \"#2a3f5f\", \"arrowhead\": 0, \"arrowwidth\": 1}, \"coloraxis\": {\"colorbar\": {\"outlinewidth\": 0, \"ticks\": \"\"}}, \"colorscale\": {\"diverging\": [[0, \"#8e0152\"], [0.1, \"#c51b7d\"], [0.2, \"#de77ae\"], [0.3, \"#f1b6da\"], [0.4, \"#fde0ef\"], [0.5, \"#f7f7f7\"], [0.6, \"#e6f5d0\"], [0.7, \"#b8e186\"], [0.8, \"#7fbc41\"], [0.9, \"#4d9221\"], [1, \"#276419\"]], \"sequential\": [[0.0, \"#0d0887\"], [0.1111111111111111, \"#46039f\"], [0.2222222222222222, \"#7201a8\"], [0.3333333333333333, \"#9c179e\"], [0.4444444444444444, \"#bd3786\"], [0.5555555555555556, \"#d8576b\"], [0.6666666666666666, \"#ed7953\"], [0.7777777777777778, \"#fb9f3a\"], [0.8888888888888888, \"#fdca26\"], [1.0, \"#f0f921\"]], \"sequentialminus\": [[0.0, \"#0d0887\"], [0.1111111111111111, \"#46039f\"], [0.2222222222222222, \"#7201a8\"], [0.3333333333333333, \"#9c179e\"], [0.4444444444444444, \"#bd3786\"], [0.5555555555555556, \"#d8576b\"], [0.6666666666666666, \"#ed7953\"], [0.7777777777777778, \"#fb9f3a\"], [0.8888888888888888, \"#fdca26\"], [1.0, \"#f0f921\"]]}, \"colorway\": [\"#636efa\", \"#EF553B\", \"#00cc96\", \"#ab63fa\", \"#FFA15A\", \"#19d3f3\", \"#FF6692\", \"#B6E880\", \"#FF97FF\", \"#FECB52\"], \"font\": {\"color\": \"#2a3f5f\"}, \"geo\": {\"bgcolor\": \"white\", \"lakecolor\": \"white\", \"landcolor\": \"#E5ECF6\", \"showlakes\": true, \"showland\": true, \"subunitcolor\": \"white\"}, \"hoverlabel\": {\"align\": \"left\"}, \"hovermode\": \"closest\", \"mapbox\": {\"style\": \"light\"}, \"paper_bgcolor\": \"white\", \"plot_bgcolor\": \"#E5ECF6\", \"polar\": {\"angularaxis\": {\"gridcolor\": \"white\", \"linecolor\": \"white\", \"ticks\": \"\"}, \"bgcolor\": \"#E5ECF6\", \"radialaxis\": {\"gridcolor\": \"white\", \"linecolor\": \"white\", \"ticks\": \"\"}}, \"scene\": {\"xaxis\": {\"backgroundcolor\": \"#E5ECF6\", \"gridcolor\": \"white\", \"gridwidth\": 2, \"linecolor\": \"white\", \"showbackground\": true, \"ticks\": \"\", \"zerolinecolor\": \"white\"}, \"yaxis\": {\"backgroundcolor\": \"#E5ECF6\", \"gridcolor\": \"white\", \"gridwidth\": 2, \"linecolor\": \"white\", \"showbackground\": true, \"ticks\": \"\", \"zerolinecolor\": \"white\"}, \"zaxis\": {\"backgroundcolor\": \"#E5ECF6\", \"gridcolor\": \"white\", \"gridwidth\": 2, \"linecolor\": \"white\", \"showbackground\": true, \"ticks\": \"\", \"zerolinecolor\": \"white\"}}, \"shapedefaults\": {\"line\": {\"color\": \"#2a3f5f\"}}, \"ternary\": {\"aaxis\": {\"gridcolor\": \"white\", \"linecolor\": \"white\", \"ticks\": \"\"}, \"baxis\": {\"gridcolor\": \"white\", \"linecolor\": \"white\", \"ticks\": \"\"}, \"bgcolor\": \"#E5ECF6\", \"caxis\": {\"gridcolor\": \"white\", \"linecolor\": \"white\", \"ticks\": \"\"}}, \"title\": {\"x\": 0.05}, \"xaxis\": {\"automargin\": true, \"gridcolor\": \"white\", \"linecolor\": \"white\", \"ticks\": \"\", \"title\": {\"standoff\": 15}, \"zerolinecolor\": \"white\", \"zerolinewidth\": 2}, \"yaxis\": {\"automargin\": true, \"gridcolor\": \"white\", \"linecolor\": \"white\", \"ticks\": \"\", \"title\": {\"standoff\": 15}, \"zerolinecolor\": \"white\", \"zerolinewidth\": 2}}}, \"title\": {\"text\": \"Top10 municipalities with the highest number of murders per month\"}, \"xaxis\": {\"tickmode\": \"array\", \"ticktext\": [\"Jan\", \"Feb\", \"Mar\", \"Apr\", \"May\", \"Jun\", \"Jul\", \"Aug\", \"Sep\", \"Oct\", \"Nov\", \"Dec\"], \"tickvals\": [1, 2, 3, 4, 5, 6, 7, 8, 9, 10, 11, 12]}},\n",
       "                        {\"responsive\": true}\n",
       "                    ).then(function(){\n",
       "                            \n",
       "var gd = document.getElementById('387e981e-e694-4059-b10f-c7bb3f72ee5e');\n",
       "var x = new MutationObserver(function (mutations, observer) {{\n",
       "        var display = window.getComputedStyle(gd).display;\n",
       "        if (!display || display === 'none') {{\n",
       "            console.log([gd, 'removed!']);\n",
       "            Plotly.purge(gd);\n",
       "            observer.disconnect();\n",
       "        }}\n",
       "}});\n",
       "\n",
       "// Listen for the removal of the full notebook cells\n",
       "var notebookContainer = gd.closest('#notebook-container');\n",
       "if (notebookContainer) {{\n",
       "    x.observe(notebookContainer, {childList: true});\n",
       "}}\n",
       "\n",
       "// Listen for the clearing of the current output cell\n",
       "var outputEl = gd.closest('.output');\n",
       "if (outputEl) {{\n",
       "    x.observe(outputEl, {childList: true});\n",
       "}}\n",
       "\n",
       "                        })\n",
       "                };\n",
       "                });\n",
       "            </script>\n",
       "        </div>"
      ]
     },
     "metadata": {},
     "output_type": "display_data"
    }
   ],
   "source": [
    "fig = go.Figure(data=go.Scatter(x = top10_mun[\"Month\"],\n",
    "                                y = top10_mun[\"Cantidad\"],\n",
    "                                mode='markers',\n",
    "                                marker=dict(\n",
    "                                    size=top10_mun[\"Cantidad\"]/2,\n",
    "                                    color=top10_mun[\"Cantidad\"], #set color equal to a variable\n",
    "                                    colorscale='Viridis', # one of plotly colorscales\n",
    "                                    showscale=True\n",
    "                                ),\n",
    "                                \n",
    "                                text=top10_mun[\"Municipalities\"])) # hover text goes here\n",
    "fig.update_layout(title='Top10 municipalities with the highest number of murders per month')\n",
    "fig.update_layout(\n",
    "    xaxis = dict(\n",
    "        tickmode = 'array',\n",
    "        tickvals = [1, 2, 3, 4, 5, 6, 7, 8, 9, 10, 11, 12],\n",
    "        ticktext = ['Jan', 'Feb', 'Mar', 'Apr', 'May', 'Jun', 'Jul', 'Aug', 'Sep', 'Oct', 'Nov', 'Dec']\n",
    "    )\n",
    ")\n",
    "\n",
    "fig.show()"
   ]
  },
  {
   "cell_type": "markdown",
   "metadata": {
    "ExecuteTime": {
     "end_time": "2020-05-23T13:17:15.134878Z",
     "start_time": "2020-05-23T13:17:15.130865Z"
    }
   },
   "source": [
    "### <font style=\"color:rgb(50,120,229)\">3.2. For Bogota, what neighborhoods reported greater amount of murders between 6 at night and 12 midnight? </font>"
   ]
  },
  {
   "cell_type": "code",
   "execution_count": 21,
   "metadata": {
    "ExecuteTime": {
     "end_time": "2020-05-25T07:50:35.040858Z",
     "start_time": "2020-05-25T07:50:35.004900Z"
    }
   },
   "outputs": [],
   "source": [
    "# the homicides registered in Bogota\n",
    "hom_bogota = dataset[dataset['Municipio'] == 'BOGOTÁ D.C. (CT)']\n",
    "\n",
    "# limit the range the time\n",
    "filter1 = hom_bogota[\"Fecha-Hora\"].dt.strftime('%H:%M:%S').between('18:00:00','23:59:00')\n",
    "filter2 = hom_bogota[\"Fecha-Hora\"].dt.strftime('%H:%M:%S') == '00:00:00'\n",
    "hom_bogota_hour = hom_bogota[filter1 | filter2]\n",
    "\n",
    "# the neighborhoods with the greater amount of murders\n",
    "group_table = hom_bogota_hour.groupby([dataset[\"Fecha-Hora\"].dt.hour, 'Barrio']).Cantidad.sum() \n",
    "\n",
    "# multiIndex level names\n",
    "group_table.index.names = ['Hour', 'neighborhood']\n",
    "\n",
    "# The top10 municipalities with the highest number of murders per month\n",
    "top10_neigh = group_table.groupby(level='Hour').nlargest(10).reset_index(level=0, drop=True)\n",
    "top10_neigh = top10_neigh.reset_index()"
   ]
  },
  {
   "cell_type": "code",
   "execution_count": 22,
   "metadata": {
    "ExecuteTime": {
     "end_time": "2020-05-25T07:50:35.939504Z",
     "start_time": "2020-05-25T07:50:35.927534Z"
    }
   },
   "outputs": [
    {
     "data": {
      "text/html": [
       "<div>\n",
       "<style scoped>\n",
       "    .dataframe tbody tr th:only-of-type {\n",
       "        vertical-align: middle;\n",
       "    }\n",
       "\n",
       "    .dataframe tbody tr th {\n",
       "        vertical-align: top;\n",
       "    }\n",
       "\n",
       "    .dataframe thead th {\n",
       "        text-align: right;\n",
       "    }\n",
       "</style>\n",
       "<table border=\"1\" class=\"dataframe\">\n",
       "  <thead>\n",
       "    <tr style=\"text-align: right;\">\n",
       "      <th></th>\n",
       "      <th>Hour</th>\n",
       "      <th>neighborhood</th>\n",
       "      <th>Cantidad</th>\n",
       "    </tr>\n",
       "  </thead>\n",
       "  <tbody>\n",
       "    <tr>\n",
       "      <th>0</th>\n",
       "      <td>24</td>\n",
       "      <td>ANDALUCIA E-8</td>\n",
       "      <td>1</td>\n",
       "    </tr>\n",
       "    <tr>\n",
       "      <th>1</th>\n",
       "      <td>24</td>\n",
       "      <td>LOS TRES REYES - I ETAPA E-19</td>\n",
       "      <td>1</td>\n",
       "    </tr>\n",
       "    <tr>\n",
       "      <th>2</th>\n",
       "      <td>18</td>\n",
       "      <td>CENTENARIO E-9</td>\n",
       "      <td>2</td>\n",
       "    </tr>\n",
       "    <tr>\n",
       "      <th>3</th>\n",
       "      <td>18</td>\n",
       "      <td>TIERRA COLORADA E-19</td>\n",
       "      <td>2</td>\n",
       "    </tr>\n",
       "    <tr>\n",
       "      <th>4</th>\n",
       "      <td>18</td>\n",
       "      <td>ALBANIA E-3</td>\n",
       "      <td>1</td>\n",
       "    </tr>\n",
       "    <tr>\n",
       "      <th>...</th>\n",
       "      <td>...</td>\n",
       "      <td>...</td>\n",
       "      <td>...</td>\n",
       "    </tr>\n",
       "    <tr>\n",
       "      <th>57</th>\n",
       "      <td>23</td>\n",
       "      <td>SAN JORGE - GLORIA GAITAN E-18</td>\n",
       "      <td>2</td>\n",
       "    </tr>\n",
       "    <tr>\n",
       "      <th>58</th>\n",
       "      <td>23</td>\n",
       "      <td>SAN JORGE E-18</td>\n",
       "      <td>2</td>\n",
       "    </tr>\n",
       "    <tr>\n",
       "      <th>59</th>\n",
       "      <td>23</td>\n",
       "      <td>ALCAZAR DEL RIO E-1</td>\n",
       "      <td>1</td>\n",
       "    </tr>\n",
       "    <tr>\n",
       "      <th>60</th>\n",
       "      <td>23</td>\n",
       "      <td>BAHIA SOLANO E-9</td>\n",
       "      <td>1</td>\n",
       "    </tr>\n",
       "    <tr>\n",
       "      <th>61</th>\n",
       "      <td>23</td>\n",
       "      <td>BARRIOS UNIDOS E-12</td>\n",
       "      <td>1</td>\n",
       "    </tr>\n",
       "  </tbody>\n",
       "</table>\n",
       "<p>62 rows × 3 columns</p>\n",
       "</div>"
      ],
      "text/plain": [
       "   Hour                    neighborhood  Cantidad\n",
       "0    24                   ANDALUCIA E-8         1\n",
       "1    24   LOS TRES REYES - I ETAPA E-19         1\n",
       "2    18                  CENTENARIO E-9         2\n",
       "3    18            TIERRA COLORADA E-19         2\n",
       "4    18                     ALBANIA E-3         1\n",
       "..  ...                             ...       ...\n",
       "57   23  SAN JORGE - GLORIA GAITAN E-18         2\n",
       "58   23                  SAN JORGE E-18         2\n",
       "59   23             ALCAZAR DEL RIO E-1         1\n",
       "60   23                BAHIA SOLANO E-9         1\n",
       "61   23             BARRIOS UNIDOS E-12         1\n",
       "\n",
       "[62 rows x 3 columns]"
      ]
     },
     "execution_count": 22,
     "metadata": {},
     "output_type": "execute_result"
    }
   ],
   "source": [
    "top10_neigh[\"Hour\"] = top10_neigh[\"Hour\"].replace({0:\"24\"})\n",
    "top10_neigh"
   ]
  },
  {
   "cell_type": "code",
   "execution_count": 23,
   "metadata": {
    "ExecuteTime": {
     "end_time": "2020-05-25T07:50:42.669664Z",
     "start_time": "2020-05-25T07:50:42.644697Z"
    }
   },
   "outputs": [
    {
     "data": {
      "application/vnd.plotly.v1+json": {
       "config": {
        "plotlyServerURL": "https://plot.ly"
       },
       "data": [
        {
         "marker": {
          "color": [
           1,
           1,
           2,
           2,
           1,
           1,
           1,
           1,
           1,
           1,
           1,
           1,
           3,
           2,
           2,
           2,
           2,
           2,
           2,
           2,
           1,
           1,
           4,
           2,
           2,
           2,
           2,
           2,
           2,
           2,
           1,
           1,
           5,
           3,
           3,
           3,
           2,
           2,
           2,
           2,
           2,
           2,
           3,
           2,
           2,
           2,
           2,
           2,
           2,
           1,
           1,
           1,
           3,
           2,
           2,
           2,
           2,
           2,
           2,
           1,
           1,
           1
          ],
          "colorscale": [
           [
            0,
            "#440154"
           ],
           [
            0.1111111111111111,
            "#482878"
           ],
           [
            0.2222222222222222,
            "#3e4989"
           ],
           [
            0.3333333333333333,
            "#31688e"
           ],
           [
            0.4444444444444444,
            "#26828e"
           ],
           [
            0.5555555555555556,
            "#1f9e89"
           ],
           [
            0.6666666666666666,
            "#35b779"
           ],
           [
            0.7777777777777778,
            "#6ece58"
           ],
           [
            0.8888888888888888,
            "#b5de2b"
           ],
           [
            1,
            "#fde725"
           ]
          ],
          "showscale": true,
          "size": [
           5,
           5,
           10,
           10,
           5,
           5,
           5,
           5,
           5,
           5,
           5,
           5,
           15,
           10,
           10,
           10,
           10,
           10,
           10,
           10,
           5,
           5,
           20,
           10,
           10,
           10,
           10,
           10,
           10,
           10,
           5,
           5,
           25,
           15,
           15,
           15,
           10,
           10,
           10,
           10,
           10,
           10,
           15,
           10,
           10,
           10,
           10,
           10,
           10,
           5,
           5,
           5,
           15,
           10,
           10,
           10,
           10,
           10,
           10,
           5,
           5,
           5
          ]
         },
         "mode": "markers",
         "text": [
          "ANDALUCIA E-8",
          "LOS TRES REYES - I ETAPA E-19",
          "CENTENARIO E-9",
          "TIERRA COLORADA E-19",
          "ALBANIA E-3",
          "ALQUERIAS DE LA FRAGUA E-8",
          "ANTONIO JOSE DE SUCRE III SECTOR E-5",
          "ARBORIZADORA ALTA E-19",
          "BOGOTA SUR - LA ESPERANZA E-19",
          "CANDELARIA III-IV E-19",
          "CANDELARIA LA NUEVA I SECTOR E-19",
          "CAPELLANIA E-9",
          "CARACOLI E-19",
          "ARBORIZADORA ALTA E-19",
          "GRANJAS DE SAN PABLO E-18",
          "LA AURORA I SECTOR E-5",
          "LA LIBERTAD E-7",
          "LAS ACACIAS E-19",
          "MANZANARES E-7",
          "QUIBA E-19",
          "ACACIAS SUR E-19",
          "ALAMOS SUR E-10",
          "EL PARAISO E-19",
          "BOSQUES DE SAN JOSE E-18",
          "GALAN E-16",
          "JERUSALEN E-19",
          "LA LIBERTAD E-7",
          "NUEVA TIBABUYES E-11",
          "PATIO BONITO I E-8",
          "SIERRA MORENA E-19",
          "ALFA E-19",
          "ANDALUCIA E-7",
          "CANDELARIA III-IV E-19",
          "DIANA TURBAY E-18",
          "SAN BERNARDO E-3",
          "SAN FRANCISCO E-19",
          "ARBORIZADORA ALTA E-19",
          "EL MOCHUELO ORIENTAL E-19",
          "EL POA E-11",
          "GRAN BRITALIA E-8",
          "LA ESTANZUELA E-14",
          "NUEVO CHILE E-7",
          "SAN JOSE DE BARRANCAS E-1",
          "GRAN BRITALIA E-8",
          "JUAN PABLO II E-19",
          "LA FAVORITA E-14",
          "LAS CRUCES E-3",
          "QUIBA E-19",
          "VERBENAL E-1",
          "ALTOS DEL ZUQUE E-4",
          "ATAHUALPA E-9",
          "BARRANQUILLITA E-5",
          "LLANO GRANDE E-8",
          "BARRANQUILLITA E-8",
          "LA ESTRELLA DEL SUR E-19",
          "LA GAITANA E-11",
          "LOS ALPES E-19",
          "SAN JORGE - GLORIA GAITAN E-18",
          "SAN JORGE E-18",
          "ALCAZAR DEL RIO E-1",
          "BAHIA SOLANO E-9",
          "BARRIOS UNIDOS E-12"
         ],
         "type": "scatter",
         "x": [
          "24",
          "24",
          18,
          18,
          18,
          18,
          18,
          18,
          18,
          18,
          18,
          18,
          19,
          19,
          19,
          19,
          19,
          19,
          19,
          19,
          19,
          19,
          20,
          20,
          20,
          20,
          20,
          20,
          20,
          20,
          20,
          20,
          21,
          21,
          21,
          21,
          21,
          21,
          21,
          21,
          21,
          21,
          22,
          22,
          22,
          22,
          22,
          22,
          22,
          22,
          22,
          22,
          23,
          23,
          23,
          23,
          23,
          23,
          23,
          23,
          23,
          23
         ],
         "y": [
          1,
          1,
          2,
          2,
          1,
          1,
          1,
          1,
          1,
          1,
          1,
          1,
          3,
          2,
          2,
          2,
          2,
          2,
          2,
          2,
          1,
          1,
          4,
          2,
          2,
          2,
          2,
          2,
          2,
          2,
          1,
          1,
          5,
          3,
          3,
          3,
          2,
          2,
          2,
          2,
          2,
          2,
          3,
          2,
          2,
          2,
          2,
          2,
          2,
          1,
          1,
          1,
          3,
          2,
          2,
          2,
          2,
          2,
          2,
          1,
          1,
          1
         ]
        }
       ],
       "layout": {
        "template": {
         "data": {
          "bar": [
           {
            "error_x": {
             "color": "#2a3f5f"
            },
            "error_y": {
             "color": "#2a3f5f"
            },
            "marker": {
             "line": {
              "color": "#E5ECF6",
              "width": 0.5
             }
            },
            "type": "bar"
           }
          ],
          "barpolar": [
           {
            "marker": {
             "line": {
              "color": "#E5ECF6",
              "width": 0.5
             }
            },
            "type": "barpolar"
           }
          ],
          "carpet": [
           {
            "aaxis": {
             "endlinecolor": "#2a3f5f",
             "gridcolor": "white",
             "linecolor": "white",
             "minorgridcolor": "white",
             "startlinecolor": "#2a3f5f"
            },
            "baxis": {
             "endlinecolor": "#2a3f5f",
             "gridcolor": "white",
             "linecolor": "white",
             "minorgridcolor": "white",
             "startlinecolor": "#2a3f5f"
            },
            "type": "carpet"
           }
          ],
          "choropleth": [
           {
            "colorbar": {
             "outlinewidth": 0,
             "ticks": ""
            },
            "type": "choropleth"
           }
          ],
          "contour": [
           {
            "colorbar": {
             "outlinewidth": 0,
             "ticks": ""
            },
            "colorscale": [
             [
              0,
              "#0d0887"
             ],
             [
              0.1111111111111111,
              "#46039f"
             ],
             [
              0.2222222222222222,
              "#7201a8"
             ],
             [
              0.3333333333333333,
              "#9c179e"
             ],
             [
              0.4444444444444444,
              "#bd3786"
             ],
             [
              0.5555555555555556,
              "#d8576b"
             ],
             [
              0.6666666666666666,
              "#ed7953"
             ],
             [
              0.7777777777777778,
              "#fb9f3a"
             ],
             [
              0.8888888888888888,
              "#fdca26"
             ],
             [
              1,
              "#f0f921"
             ]
            ],
            "type": "contour"
           }
          ],
          "contourcarpet": [
           {
            "colorbar": {
             "outlinewidth": 0,
             "ticks": ""
            },
            "type": "contourcarpet"
           }
          ],
          "heatmap": [
           {
            "colorbar": {
             "outlinewidth": 0,
             "ticks": ""
            },
            "colorscale": [
             [
              0,
              "#0d0887"
             ],
             [
              0.1111111111111111,
              "#46039f"
             ],
             [
              0.2222222222222222,
              "#7201a8"
             ],
             [
              0.3333333333333333,
              "#9c179e"
             ],
             [
              0.4444444444444444,
              "#bd3786"
             ],
             [
              0.5555555555555556,
              "#d8576b"
             ],
             [
              0.6666666666666666,
              "#ed7953"
             ],
             [
              0.7777777777777778,
              "#fb9f3a"
             ],
             [
              0.8888888888888888,
              "#fdca26"
             ],
             [
              1,
              "#f0f921"
             ]
            ],
            "type": "heatmap"
           }
          ],
          "heatmapgl": [
           {
            "colorbar": {
             "outlinewidth": 0,
             "ticks": ""
            },
            "colorscale": [
             [
              0,
              "#0d0887"
             ],
             [
              0.1111111111111111,
              "#46039f"
             ],
             [
              0.2222222222222222,
              "#7201a8"
             ],
             [
              0.3333333333333333,
              "#9c179e"
             ],
             [
              0.4444444444444444,
              "#bd3786"
             ],
             [
              0.5555555555555556,
              "#d8576b"
             ],
             [
              0.6666666666666666,
              "#ed7953"
             ],
             [
              0.7777777777777778,
              "#fb9f3a"
             ],
             [
              0.8888888888888888,
              "#fdca26"
             ],
             [
              1,
              "#f0f921"
             ]
            ],
            "type": "heatmapgl"
           }
          ],
          "histogram": [
           {
            "marker": {
             "colorbar": {
              "outlinewidth": 0,
              "ticks": ""
             }
            },
            "type": "histogram"
           }
          ],
          "histogram2d": [
           {
            "colorbar": {
             "outlinewidth": 0,
             "ticks": ""
            },
            "colorscale": [
             [
              0,
              "#0d0887"
             ],
             [
              0.1111111111111111,
              "#46039f"
             ],
             [
              0.2222222222222222,
              "#7201a8"
             ],
             [
              0.3333333333333333,
              "#9c179e"
             ],
             [
              0.4444444444444444,
              "#bd3786"
             ],
             [
              0.5555555555555556,
              "#d8576b"
             ],
             [
              0.6666666666666666,
              "#ed7953"
             ],
             [
              0.7777777777777778,
              "#fb9f3a"
             ],
             [
              0.8888888888888888,
              "#fdca26"
             ],
             [
              1,
              "#f0f921"
             ]
            ],
            "type": "histogram2d"
           }
          ],
          "histogram2dcontour": [
           {
            "colorbar": {
             "outlinewidth": 0,
             "ticks": ""
            },
            "colorscale": [
             [
              0,
              "#0d0887"
             ],
             [
              0.1111111111111111,
              "#46039f"
             ],
             [
              0.2222222222222222,
              "#7201a8"
             ],
             [
              0.3333333333333333,
              "#9c179e"
             ],
             [
              0.4444444444444444,
              "#bd3786"
             ],
             [
              0.5555555555555556,
              "#d8576b"
             ],
             [
              0.6666666666666666,
              "#ed7953"
             ],
             [
              0.7777777777777778,
              "#fb9f3a"
             ],
             [
              0.8888888888888888,
              "#fdca26"
             ],
             [
              1,
              "#f0f921"
             ]
            ],
            "type": "histogram2dcontour"
           }
          ],
          "mesh3d": [
           {
            "colorbar": {
             "outlinewidth": 0,
             "ticks": ""
            },
            "type": "mesh3d"
           }
          ],
          "parcoords": [
           {
            "line": {
             "colorbar": {
              "outlinewidth": 0,
              "ticks": ""
             }
            },
            "type": "parcoords"
           }
          ],
          "pie": [
           {
            "automargin": true,
            "type": "pie"
           }
          ],
          "scatter": [
           {
            "marker": {
             "colorbar": {
              "outlinewidth": 0,
              "ticks": ""
             }
            },
            "type": "scatter"
           }
          ],
          "scatter3d": [
           {
            "line": {
             "colorbar": {
              "outlinewidth": 0,
              "ticks": ""
             }
            },
            "marker": {
             "colorbar": {
              "outlinewidth": 0,
              "ticks": ""
             }
            },
            "type": "scatter3d"
           }
          ],
          "scattercarpet": [
           {
            "marker": {
             "colorbar": {
              "outlinewidth": 0,
              "ticks": ""
             }
            },
            "type": "scattercarpet"
           }
          ],
          "scattergeo": [
           {
            "marker": {
             "colorbar": {
              "outlinewidth": 0,
              "ticks": ""
             }
            },
            "type": "scattergeo"
           }
          ],
          "scattergl": [
           {
            "marker": {
             "colorbar": {
              "outlinewidth": 0,
              "ticks": ""
             }
            },
            "type": "scattergl"
           }
          ],
          "scattermapbox": [
           {
            "marker": {
             "colorbar": {
              "outlinewidth": 0,
              "ticks": ""
             }
            },
            "type": "scattermapbox"
           }
          ],
          "scatterpolar": [
           {
            "marker": {
             "colorbar": {
              "outlinewidth": 0,
              "ticks": ""
             }
            },
            "type": "scatterpolar"
           }
          ],
          "scatterpolargl": [
           {
            "marker": {
             "colorbar": {
              "outlinewidth": 0,
              "ticks": ""
             }
            },
            "type": "scatterpolargl"
           }
          ],
          "scatterternary": [
           {
            "marker": {
             "colorbar": {
              "outlinewidth": 0,
              "ticks": ""
             }
            },
            "type": "scatterternary"
           }
          ],
          "surface": [
           {
            "colorbar": {
             "outlinewidth": 0,
             "ticks": ""
            },
            "colorscale": [
             [
              0,
              "#0d0887"
             ],
             [
              0.1111111111111111,
              "#46039f"
             ],
             [
              0.2222222222222222,
              "#7201a8"
             ],
             [
              0.3333333333333333,
              "#9c179e"
             ],
             [
              0.4444444444444444,
              "#bd3786"
             ],
             [
              0.5555555555555556,
              "#d8576b"
             ],
             [
              0.6666666666666666,
              "#ed7953"
             ],
             [
              0.7777777777777778,
              "#fb9f3a"
             ],
             [
              0.8888888888888888,
              "#fdca26"
             ],
             [
              1,
              "#f0f921"
             ]
            ],
            "type": "surface"
           }
          ],
          "table": [
           {
            "cells": {
             "fill": {
              "color": "#EBF0F8"
             },
             "line": {
              "color": "white"
             }
            },
            "header": {
             "fill": {
              "color": "#C8D4E3"
             },
             "line": {
              "color": "white"
             }
            },
            "type": "table"
           }
          ]
         },
         "layout": {
          "annotationdefaults": {
           "arrowcolor": "#2a3f5f",
           "arrowhead": 0,
           "arrowwidth": 1
          },
          "coloraxis": {
           "colorbar": {
            "outlinewidth": 0,
            "ticks": ""
           }
          },
          "colorscale": {
           "diverging": [
            [
             0,
             "#8e0152"
            ],
            [
             0.1,
             "#c51b7d"
            ],
            [
             0.2,
             "#de77ae"
            ],
            [
             0.3,
             "#f1b6da"
            ],
            [
             0.4,
             "#fde0ef"
            ],
            [
             0.5,
             "#f7f7f7"
            ],
            [
             0.6,
             "#e6f5d0"
            ],
            [
             0.7,
             "#b8e186"
            ],
            [
             0.8,
             "#7fbc41"
            ],
            [
             0.9,
             "#4d9221"
            ],
            [
             1,
             "#276419"
            ]
           ],
           "sequential": [
            [
             0,
             "#0d0887"
            ],
            [
             0.1111111111111111,
             "#46039f"
            ],
            [
             0.2222222222222222,
             "#7201a8"
            ],
            [
             0.3333333333333333,
             "#9c179e"
            ],
            [
             0.4444444444444444,
             "#bd3786"
            ],
            [
             0.5555555555555556,
             "#d8576b"
            ],
            [
             0.6666666666666666,
             "#ed7953"
            ],
            [
             0.7777777777777778,
             "#fb9f3a"
            ],
            [
             0.8888888888888888,
             "#fdca26"
            ],
            [
             1,
             "#f0f921"
            ]
           ],
           "sequentialminus": [
            [
             0,
             "#0d0887"
            ],
            [
             0.1111111111111111,
             "#46039f"
            ],
            [
             0.2222222222222222,
             "#7201a8"
            ],
            [
             0.3333333333333333,
             "#9c179e"
            ],
            [
             0.4444444444444444,
             "#bd3786"
            ],
            [
             0.5555555555555556,
             "#d8576b"
            ],
            [
             0.6666666666666666,
             "#ed7953"
            ],
            [
             0.7777777777777778,
             "#fb9f3a"
            ],
            [
             0.8888888888888888,
             "#fdca26"
            ],
            [
             1,
             "#f0f921"
            ]
           ]
          },
          "colorway": [
           "#636efa",
           "#EF553B",
           "#00cc96",
           "#ab63fa",
           "#FFA15A",
           "#19d3f3",
           "#FF6692",
           "#B6E880",
           "#FF97FF",
           "#FECB52"
          ],
          "font": {
           "color": "#2a3f5f"
          },
          "geo": {
           "bgcolor": "white",
           "lakecolor": "white",
           "landcolor": "#E5ECF6",
           "showlakes": true,
           "showland": true,
           "subunitcolor": "white"
          },
          "hoverlabel": {
           "align": "left"
          },
          "hovermode": "closest",
          "mapbox": {
           "style": "light"
          },
          "paper_bgcolor": "white",
          "plot_bgcolor": "#E5ECF6",
          "polar": {
           "angularaxis": {
            "gridcolor": "white",
            "linecolor": "white",
            "ticks": ""
           },
           "bgcolor": "#E5ECF6",
           "radialaxis": {
            "gridcolor": "white",
            "linecolor": "white",
            "ticks": ""
           }
          },
          "scene": {
           "xaxis": {
            "backgroundcolor": "#E5ECF6",
            "gridcolor": "white",
            "gridwidth": 2,
            "linecolor": "white",
            "showbackground": true,
            "ticks": "",
            "zerolinecolor": "white"
           },
           "yaxis": {
            "backgroundcolor": "#E5ECF6",
            "gridcolor": "white",
            "gridwidth": 2,
            "linecolor": "white",
            "showbackground": true,
            "ticks": "",
            "zerolinecolor": "white"
           },
           "zaxis": {
            "backgroundcolor": "#E5ECF6",
            "gridcolor": "white",
            "gridwidth": 2,
            "linecolor": "white",
            "showbackground": true,
            "ticks": "",
            "zerolinecolor": "white"
           }
          },
          "shapedefaults": {
           "line": {
            "color": "#2a3f5f"
           }
          },
          "ternary": {
           "aaxis": {
            "gridcolor": "white",
            "linecolor": "white",
            "ticks": ""
           },
           "baxis": {
            "gridcolor": "white",
            "linecolor": "white",
            "ticks": ""
           },
           "bgcolor": "#E5ECF6",
           "caxis": {
            "gridcolor": "white",
            "linecolor": "white",
            "ticks": ""
           }
          },
          "title": {
           "x": 0.05
          },
          "xaxis": {
           "automargin": true,
           "gridcolor": "white",
           "linecolor": "white",
           "ticks": "",
           "title": {
            "standoff": 15
           },
           "zerolinecolor": "white",
           "zerolinewidth": 2
          },
          "yaxis": {
           "automargin": true,
           "gridcolor": "white",
           "linecolor": "white",
           "ticks": "",
           "title": {
            "standoff": 15
           },
           "zerolinecolor": "white",
           "zerolinewidth": 2
          }
         }
        },
        "title": {
         "text": "Top of Bogota's most deadly neighborhoods"
        },
        "xaxis": {
         "tickmode": "array",
         "ticktext": [
          "6PM",
          "7PM",
          "8PM",
          "9PM",
          "10PM",
          "11PM",
          "12AM"
         ],
         "tickvals": [
          18,
          19,
          20,
          21,
          22,
          23,
          24
         ]
        }
       }
      },
      "text/html": [
       "<div>\n",
       "        \n",
       "        \n",
       "            <div id=\"80ee15cb-2c4e-44b8-92f2-8ddfe6d5b284\" class=\"plotly-graph-div\" style=\"height:525px; width:100%;\"></div>\n",
       "            <script type=\"text/javascript\">\n",
       "                require([\"plotly\"], function(Plotly) {\n",
       "                    window.PLOTLYENV=window.PLOTLYENV || {};\n",
       "                    \n",
       "                if (document.getElementById(\"80ee15cb-2c4e-44b8-92f2-8ddfe6d5b284\")) {\n",
       "                    Plotly.newPlot(\n",
       "                        '80ee15cb-2c4e-44b8-92f2-8ddfe6d5b284',\n",
       "                        [{\"marker\": {\"color\": [1, 1, 2, 2, 1, 1, 1, 1, 1, 1, 1, 1, 3, 2, 2, 2, 2, 2, 2, 2, 1, 1, 4, 2, 2, 2, 2, 2, 2, 2, 1, 1, 5, 3, 3, 3, 2, 2, 2, 2, 2, 2, 3, 2, 2, 2, 2, 2, 2, 1, 1, 1, 3, 2, 2, 2, 2, 2, 2, 1, 1, 1], \"colorscale\": [[0.0, \"#440154\"], [0.1111111111111111, \"#482878\"], [0.2222222222222222, \"#3e4989\"], [0.3333333333333333, \"#31688e\"], [0.4444444444444444, \"#26828e\"], [0.5555555555555556, \"#1f9e89\"], [0.6666666666666666, \"#35b779\"], [0.7777777777777778, \"#6ece58\"], [0.8888888888888888, \"#b5de2b\"], [1.0, \"#fde725\"]], \"showscale\": true, \"size\": [5, 5, 10, 10, 5, 5, 5, 5, 5, 5, 5, 5, 15, 10, 10, 10, 10, 10, 10, 10, 5, 5, 20, 10, 10, 10, 10, 10, 10, 10, 5, 5, 25, 15, 15, 15, 10, 10, 10, 10, 10, 10, 15, 10, 10, 10, 10, 10, 10, 5, 5, 5, 15, 10, 10, 10, 10, 10, 10, 5, 5, 5]}, \"mode\": \"markers\", \"text\": [\"ANDALUCIA E-8\", \"LOS TRES REYES - I ETAPA E-19\", \"CENTENARIO E-9\", \"TIERRA COLORADA E-19\", \"ALBANIA E-3\", \"ALQUERIAS DE LA FRAGUA E-8\", \"ANTONIO JOSE DE SUCRE III SECTOR E-5\", \"ARBORIZADORA ALTA E-19\", \"BOGOTA SUR - LA ESPERANZA E-19\", \"CANDELARIA III-IV E-19\", \"CANDELARIA LA NUEVA I SECTOR E-19\", \"CAPELLANIA E-9\", \"CARACOLI E-19\", \"ARBORIZADORA ALTA E-19\", \"GRANJAS DE SAN PABLO E-18\", \"LA AURORA I SECTOR E-5\", \"LA LIBERTAD E-7\", \"LAS ACACIAS E-19\", \"MANZANARES E-7\", \"QUIBA E-19\", \"ACACIAS SUR E-19\", \"ALAMOS SUR E-10\", \"EL PARAISO E-19\", \"BOSQUES DE SAN JOSE E-18\", \"GALAN E-16\", \"JERUSALEN E-19\", \"LA LIBERTAD E-7\", \"NUEVA TIBABUYES E-11\", \"PATIO BONITO I E-8\", \"SIERRA MORENA E-19\", \"ALFA E-19\", \"ANDALUCIA E-7\", \"CANDELARIA III-IV E-19\", \"DIANA TURBAY E-18\", \"SAN BERNARDO E-3\", \"SAN FRANCISCO E-19\", \"ARBORIZADORA ALTA E-19\", \"EL MOCHUELO ORIENTAL E-19\", \"EL POA E-11\", \"GRAN BRITALIA E-8\", \"LA ESTANZUELA E-14\", \"NUEVO CHILE E-7\", \"SAN JOSE DE BARRANCAS E-1\", \"GRAN BRITALIA E-8\", \"JUAN PABLO II E-19\", \"LA FAVORITA E-14\", \"LAS CRUCES E-3\", \"QUIBA E-19\", \"VERBENAL E-1\", \"ALTOS DEL ZUQUE E-4\", \"ATAHUALPA E-9\", \"BARRANQUILLITA E-5\", \"LLANO GRANDE E-8\", \"BARRANQUILLITA E-8\", \"LA ESTRELLA DEL SUR E-19\", \"LA GAITANA E-11\", \"LOS ALPES E-19\", \"SAN JORGE - GLORIA GAITAN E-18\", \"SAN JORGE E-18\", \"ALCAZAR DEL RIO E-1\", \"BAHIA SOLANO E-9\", \"BARRIOS UNIDOS E-12\"], \"type\": \"scatter\", \"x\": [\"24\", \"24\", 18, 18, 18, 18, 18, 18, 18, 18, 18, 18, 19, 19, 19, 19, 19, 19, 19, 19, 19, 19, 20, 20, 20, 20, 20, 20, 20, 20, 20, 20, 21, 21, 21, 21, 21, 21, 21, 21, 21, 21, 22, 22, 22, 22, 22, 22, 22, 22, 22, 22, 23, 23, 23, 23, 23, 23, 23, 23, 23, 23], \"y\": [1, 1, 2, 2, 1, 1, 1, 1, 1, 1, 1, 1, 3, 2, 2, 2, 2, 2, 2, 2, 1, 1, 4, 2, 2, 2, 2, 2, 2, 2, 1, 1, 5, 3, 3, 3, 2, 2, 2, 2, 2, 2, 3, 2, 2, 2, 2, 2, 2, 1, 1, 1, 3, 2, 2, 2, 2, 2, 2, 1, 1, 1]}],\n",
       "                        {\"template\": {\"data\": {\"bar\": [{\"error_x\": {\"color\": \"#2a3f5f\"}, \"error_y\": {\"color\": \"#2a3f5f\"}, \"marker\": {\"line\": {\"color\": \"#E5ECF6\", \"width\": 0.5}}, \"type\": \"bar\"}], \"barpolar\": [{\"marker\": {\"line\": {\"color\": \"#E5ECF6\", \"width\": 0.5}}, \"type\": \"barpolar\"}], \"carpet\": [{\"aaxis\": {\"endlinecolor\": \"#2a3f5f\", \"gridcolor\": \"white\", \"linecolor\": \"white\", \"minorgridcolor\": \"white\", \"startlinecolor\": \"#2a3f5f\"}, \"baxis\": {\"endlinecolor\": \"#2a3f5f\", \"gridcolor\": \"white\", \"linecolor\": \"white\", \"minorgridcolor\": \"white\", \"startlinecolor\": \"#2a3f5f\"}, \"type\": \"carpet\"}], \"choropleth\": [{\"colorbar\": {\"outlinewidth\": 0, \"ticks\": \"\"}, \"type\": \"choropleth\"}], \"contour\": [{\"colorbar\": {\"outlinewidth\": 0, \"ticks\": \"\"}, \"colorscale\": [[0.0, \"#0d0887\"], [0.1111111111111111, \"#46039f\"], [0.2222222222222222, \"#7201a8\"], [0.3333333333333333, \"#9c179e\"], [0.4444444444444444, \"#bd3786\"], [0.5555555555555556, \"#d8576b\"], [0.6666666666666666, \"#ed7953\"], [0.7777777777777778, \"#fb9f3a\"], [0.8888888888888888, \"#fdca26\"], [1.0, \"#f0f921\"]], \"type\": \"contour\"}], \"contourcarpet\": [{\"colorbar\": {\"outlinewidth\": 0, \"ticks\": \"\"}, \"type\": \"contourcarpet\"}], \"heatmap\": [{\"colorbar\": {\"outlinewidth\": 0, \"ticks\": \"\"}, \"colorscale\": [[0.0, \"#0d0887\"], [0.1111111111111111, \"#46039f\"], [0.2222222222222222, \"#7201a8\"], [0.3333333333333333, \"#9c179e\"], [0.4444444444444444, \"#bd3786\"], [0.5555555555555556, \"#d8576b\"], [0.6666666666666666, \"#ed7953\"], [0.7777777777777778, \"#fb9f3a\"], [0.8888888888888888, \"#fdca26\"], [1.0, \"#f0f921\"]], \"type\": \"heatmap\"}], \"heatmapgl\": [{\"colorbar\": {\"outlinewidth\": 0, \"ticks\": \"\"}, \"colorscale\": [[0.0, \"#0d0887\"], [0.1111111111111111, \"#46039f\"], [0.2222222222222222, \"#7201a8\"], [0.3333333333333333, \"#9c179e\"], [0.4444444444444444, \"#bd3786\"], [0.5555555555555556, \"#d8576b\"], [0.6666666666666666, \"#ed7953\"], [0.7777777777777778, \"#fb9f3a\"], [0.8888888888888888, \"#fdca26\"], [1.0, \"#f0f921\"]], \"type\": \"heatmapgl\"}], \"histogram\": [{\"marker\": {\"colorbar\": {\"outlinewidth\": 0, \"ticks\": \"\"}}, \"type\": \"histogram\"}], \"histogram2d\": [{\"colorbar\": {\"outlinewidth\": 0, \"ticks\": \"\"}, \"colorscale\": [[0.0, \"#0d0887\"], [0.1111111111111111, \"#46039f\"], [0.2222222222222222, \"#7201a8\"], [0.3333333333333333, \"#9c179e\"], [0.4444444444444444, \"#bd3786\"], [0.5555555555555556, \"#d8576b\"], [0.6666666666666666, \"#ed7953\"], [0.7777777777777778, \"#fb9f3a\"], [0.8888888888888888, \"#fdca26\"], [1.0, \"#f0f921\"]], \"type\": \"histogram2d\"}], \"histogram2dcontour\": [{\"colorbar\": {\"outlinewidth\": 0, \"ticks\": \"\"}, \"colorscale\": [[0.0, \"#0d0887\"], [0.1111111111111111, \"#46039f\"], [0.2222222222222222, \"#7201a8\"], [0.3333333333333333, \"#9c179e\"], [0.4444444444444444, \"#bd3786\"], [0.5555555555555556, \"#d8576b\"], [0.6666666666666666, \"#ed7953\"], [0.7777777777777778, \"#fb9f3a\"], [0.8888888888888888, \"#fdca26\"], [1.0, \"#f0f921\"]], \"type\": \"histogram2dcontour\"}], \"mesh3d\": [{\"colorbar\": {\"outlinewidth\": 0, \"ticks\": \"\"}, \"type\": \"mesh3d\"}], \"parcoords\": [{\"line\": {\"colorbar\": {\"outlinewidth\": 0, \"ticks\": \"\"}}, \"type\": \"parcoords\"}], \"pie\": [{\"automargin\": true, \"type\": \"pie\"}], \"scatter\": [{\"marker\": {\"colorbar\": {\"outlinewidth\": 0, \"ticks\": \"\"}}, \"type\": \"scatter\"}], \"scatter3d\": [{\"line\": {\"colorbar\": {\"outlinewidth\": 0, \"ticks\": \"\"}}, \"marker\": {\"colorbar\": {\"outlinewidth\": 0, \"ticks\": \"\"}}, \"type\": \"scatter3d\"}], \"scattercarpet\": [{\"marker\": {\"colorbar\": {\"outlinewidth\": 0, \"ticks\": \"\"}}, \"type\": \"scattercarpet\"}], \"scattergeo\": [{\"marker\": {\"colorbar\": {\"outlinewidth\": 0, \"ticks\": \"\"}}, \"type\": \"scattergeo\"}], \"scattergl\": [{\"marker\": {\"colorbar\": {\"outlinewidth\": 0, \"ticks\": \"\"}}, \"type\": \"scattergl\"}], \"scattermapbox\": [{\"marker\": {\"colorbar\": {\"outlinewidth\": 0, \"ticks\": \"\"}}, \"type\": \"scattermapbox\"}], \"scatterpolar\": [{\"marker\": {\"colorbar\": {\"outlinewidth\": 0, \"ticks\": \"\"}}, \"type\": \"scatterpolar\"}], \"scatterpolargl\": [{\"marker\": {\"colorbar\": {\"outlinewidth\": 0, \"ticks\": \"\"}}, \"type\": \"scatterpolargl\"}], \"scatterternary\": [{\"marker\": {\"colorbar\": {\"outlinewidth\": 0, \"ticks\": \"\"}}, \"type\": \"scatterternary\"}], \"surface\": [{\"colorbar\": {\"outlinewidth\": 0, \"ticks\": \"\"}, \"colorscale\": [[0.0, \"#0d0887\"], [0.1111111111111111, \"#46039f\"], [0.2222222222222222, \"#7201a8\"], [0.3333333333333333, \"#9c179e\"], [0.4444444444444444, \"#bd3786\"], [0.5555555555555556, \"#d8576b\"], [0.6666666666666666, \"#ed7953\"], [0.7777777777777778, \"#fb9f3a\"], [0.8888888888888888, \"#fdca26\"], [1.0, \"#f0f921\"]], \"type\": \"surface\"}], \"table\": [{\"cells\": {\"fill\": {\"color\": \"#EBF0F8\"}, \"line\": {\"color\": \"white\"}}, \"header\": {\"fill\": {\"color\": \"#C8D4E3\"}, \"line\": {\"color\": \"white\"}}, \"type\": \"table\"}]}, \"layout\": {\"annotationdefaults\": {\"arrowcolor\": \"#2a3f5f\", \"arrowhead\": 0, \"arrowwidth\": 1}, \"coloraxis\": {\"colorbar\": {\"outlinewidth\": 0, \"ticks\": \"\"}}, \"colorscale\": {\"diverging\": [[0, \"#8e0152\"], [0.1, \"#c51b7d\"], [0.2, \"#de77ae\"], [0.3, \"#f1b6da\"], [0.4, \"#fde0ef\"], [0.5, \"#f7f7f7\"], [0.6, \"#e6f5d0\"], [0.7, \"#b8e186\"], [0.8, \"#7fbc41\"], [0.9, \"#4d9221\"], [1, \"#276419\"]], \"sequential\": [[0.0, \"#0d0887\"], [0.1111111111111111, \"#46039f\"], [0.2222222222222222, \"#7201a8\"], [0.3333333333333333, \"#9c179e\"], [0.4444444444444444, \"#bd3786\"], [0.5555555555555556, \"#d8576b\"], [0.6666666666666666, \"#ed7953\"], [0.7777777777777778, \"#fb9f3a\"], [0.8888888888888888, \"#fdca26\"], [1.0, \"#f0f921\"]], \"sequentialminus\": [[0.0, \"#0d0887\"], [0.1111111111111111, \"#46039f\"], [0.2222222222222222, \"#7201a8\"], [0.3333333333333333, \"#9c179e\"], [0.4444444444444444, \"#bd3786\"], [0.5555555555555556, \"#d8576b\"], [0.6666666666666666, \"#ed7953\"], [0.7777777777777778, \"#fb9f3a\"], [0.8888888888888888, \"#fdca26\"], [1.0, \"#f0f921\"]]}, \"colorway\": [\"#636efa\", \"#EF553B\", \"#00cc96\", \"#ab63fa\", \"#FFA15A\", \"#19d3f3\", \"#FF6692\", \"#B6E880\", \"#FF97FF\", \"#FECB52\"], \"font\": {\"color\": \"#2a3f5f\"}, \"geo\": {\"bgcolor\": \"white\", \"lakecolor\": \"white\", \"landcolor\": \"#E5ECF6\", \"showlakes\": true, \"showland\": true, \"subunitcolor\": \"white\"}, \"hoverlabel\": {\"align\": \"left\"}, \"hovermode\": \"closest\", \"mapbox\": {\"style\": \"light\"}, \"paper_bgcolor\": \"white\", \"plot_bgcolor\": \"#E5ECF6\", \"polar\": {\"angularaxis\": {\"gridcolor\": \"white\", \"linecolor\": \"white\", \"ticks\": \"\"}, \"bgcolor\": \"#E5ECF6\", \"radialaxis\": {\"gridcolor\": \"white\", \"linecolor\": \"white\", \"ticks\": \"\"}}, \"scene\": {\"xaxis\": {\"backgroundcolor\": \"#E5ECF6\", \"gridcolor\": \"white\", \"gridwidth\": 2, \"linecolor\": \"white\", \"showbackground\": true, \"ticks\": \"\", \"zerolinecolor\": \"white\"}, \"yaxis\": {\"backgroundcolor\": \"#E5ECF6\", \"gridcolor\": \"white\", \"gridwidth\": 2, \"linecolor\": \"white\", \"showbackground\": true, \"ticks\": \"\", \"zerolinecolor\": \"white\"}, \"zaxis\": {\"backgroundcolor\": \"#E5ECF6\", \"gridcolor\": \"white\", \"gridwidth\": 2, \"linecolor\": \"white\", \"showbackground\": true, \"ticks\": \"\", \"zerolinecolor\": \"white\"}}, \"shapedefaults\": {\"line\": {\"color\": \"#2a3f5f\"}}, \"ternary\": {\"aaxis\": {\"gridcolor\": \"white\", \"linecolor\": \"white\", \"ticks\": \"\"}, \"baxis\": {\"gridcolor\": \"white\", \"linecolor\": \"white\", \"ticks\": \"\"}, \"bgcolor\": \"#E5ECF6\", \"caxis\": {\"gridcolor\": \"white\", \"linecolor\": \"white\", \"ticks\": \"\"}}, \"title\": {\"x\": 0.05}, \"xaxis\": {\"automargin\": true, \"gridcolor\": \"white\", \"linecolor\": \"white\", \"ticks\": \"\", \"title\": {\"standoff\": 15}, \"zerolinecolor\": \"white\", \"zerolinewidth\": 2}, \"yaxis\": {\"automargin\": true, \"gridcolor\": \"white\", \"linecolor\": \"white\", \"ticks\": \"\", \"title\": {\"standoff\": 15}, \"zerolinecolor\": \"white\", \"zerolinewidth\": 2}}}, \"title\": {\"text\": \"Top of Bogota's most deadly neighborhoods\"}, \"xaxis\": {\"tickmode\": \"array\", \"ticktext\": [\"6PM\", \"7PM\", \"8PM\", \"9PM\", \"10PM\", \"11PM\", \"12AM\"], \"tickvals\": [18, 19, 20, 21, 22, 23, 24]}},\n",
       "                        {\"responsive\": true}\n",
       "                    ).then(function(){\n",
       "                            \n",
       "var gd = document.getElementById('80ee15cb-2c4e-44b8-92f2-8ddfe6d5b284');\n",
       "var x = new MutationObserver(function (mutations, observer) {{\n",
       "        var display = window.getComputedStyle(gd).display;\n",
       "        if (!display || display === 'none') {{\n",
       "            console.log([gd, 'removed!']);\n",
       "            Plotly.purge(gd);\n",
       "            observer.disconnect();\n",
       "        }}\n",
       "}});\n",
       "\n",
       "// Listen for the removal of the full notebook cells\n",
       "var notebookContainer = gd.closest('#notebook-container');\n",
       "if (notebookContainer) {{\n",
       "    x.observe(notebookContainer, {childList: true});\n",
       "}}\n",
       "\n",
       "// Listen for the clearing of the current output cell\n",
       "var outputEl = gd.closest('.output');\n",
       "if (outputEl) {{\n",
       "    x.observe(outputEl, {childList: true});\n",
       "}}\n",
       "\n",
       "                        })\n",
       "                };\n",
       "                });\n",
       "            </script>\n",
       "        </div>"
      ]
     },
     "metadata": {},
     "output_type": "display_data"
    }
   ],
   "source": [
    "fig = go.Figure(data=go.Scatter(x = top10_neigh[\"Hour\"],\n",
    "                                y = top10_neigh[\"Cantidad\"],\n",
    "                                mode='markers',\n",
    "                                marker=dict(\n",
    "                                    size=top10_neigh[\"Cantidad\"]*5,\n",
    "                                    color=top10_neigh[\"Cantidad\"], #set color equal to a variable\n",
    "                                    colorscale='Viridis', # one of plotly colorscales\n",
    "                                    showscale=True\n",
    "                                ),\n",
    "                                \n",
    "                                text=top10_neigh[\"neighborhood\"])) # hover text goes here\n",
    "fig.update_layout(title=\"Top of Bogota's most deadly neighborhoods\")\n",
    "fig.update_layout(\n",
    "    xaxis = dict(\n",
    "        tickmode = 'array',\n",
    "        tickvals = [18, 19, 20, 21, 22, 23, 24],\n",
    "        ticktext = ['6PM', '7PM', '8PM', '9PM', '10PM', '11PM', '12AM']\n",
    "    )\n",
    ")\n",
    "\n",
    "fig.show()"
   ]
  },
  {
   "cell_type": "markdown",
   "metadata": {},
   "source": [
    "**As the database is not georeferenced, it is not possible to observe how close one neighborhood is to another, and to group murders into focal points of violence more broadly than one neighborhood.  That would make this chart much more valuable. The problem is that territorial divisions are not designed to benefit statisticians. They respond to a mixture of historical, natural boundaries such as rivers and mountains, and political reasons. This means that small areas can concentrate a lot of population and vice versa.**"
   ]
  },
  {
   "cell_type": "markdown",
   "metadata": {},
   "source": [
    "### <font style=\"color:rgb(50,120,229)\">3.3. What other insights can you extract from this dataset? </font>"
   ]
  },
  {
   "cell_type": "markdown",
   "metadata": {},
   "source": [
    "#### <font style=\"color:rgb(50,120,229)\">3.3.1 How is the number of homicides per month in the country?</font>"
   ]
  },
  {
   "cell_type": "code",
   "execution_count": 24,
   "metadata": {
    "ExecuteTime": {
     "end_time": "2020-05-25T07:52:19.364652Z",
     "start_time": "2020-05-25T07:52:19.182104Z"
    }
   },
   "outputs": [
    {
     "data": {
      "text/plain": [
       "Text(0.5, 1.0, 'COLOMBIA MURDERS by MONTH')"
      ]
     },
     "execution_count": 24,
     "metadata": {},
     "output_type": "execute_result"
    },
    {
     "data": {
      "image/png": "[encoded data removed]",
      "text/plain": [
       "<Figure size 1008x432 with 1 Axes>"
      ]
     },
     "metadata": {
      "needs_background": "light"
     },
     "output_type": "display_data"
    }
   ],
   "source": [
    "# plot homicides sorted by month\n",
    "fig, ax = plt.subplots(figsize=(14,6))\n",
    "fig = sns.barplot(x=\"Fecha\",\n",
    "                  y='Cantidad',\n",
    "                  data=dataset.groupby([dataset[\"Fecha\"].dt.month]).Cantidad.sum().reset_index(),\n",
    "                  color='#808080')\n",
    "\n",
    "month_nms = ['January','February','March','April','May','June','July','August'\\\n",
    "             ,'September','October','November','December']   \n",
    "ax.set_xticklabels(month_nms)\n",
    "plt.title(\"COLOMBIA MURDERS by MONTH\")\n"
   ]
  },
  {
   "cell_type": "markdown",
   "metadata": {},
   "source": [
    "* From the month to month homicide rate, we see that on average homicides start steadily for almost every month and slight peaked during the month of December.\n",
    "\n",
    "* January was slightly higher than February but that seems like a continuation from the month of December."
   ]
  },
  {
   "cell_type": "markdown",
   "metadata": {
    "ExecuteTime": {
     "end_time": "2020-05-23T20:31:16.644372Z",
     "start_time": "2020-05-23T20:31:16.640412Z"
    }
   },
   "source": [
    "#### <font style=\"color:rgb(50,120,229)\">3.3.2 In what age range and gender do most homicides accumulate?</font>"
   ]
  },
  {
   "cell_type": "code",
   "execution_count": 25,
   "metadata": {
    "ExecuteTime": {
     "end_time": "2020-05-25T07:52:26.738923Z",
     "start_time": "2020-05-25T07:52:26.290117Z"
    }
   },
   "outputs": [
    {
     "data": {
      "image/png": "[encoded data removed]",
      "text/plain": [
       "<Figure size 1296x576 with 1 Axes>"
      ]
     },
     "metadata": {
      "needs_background": "light"
     },
     "output_type": "display_data"
    }
   ],
   "source": [
    "labels = list(range(0, 101, 10))  # the label locations\n",
    "\n",
    "data_men = dataset[dataset['Sexo'] == \"MASCULINO\"]\n",
    "data_women = dataset[dataset['Sexo'] == \"FEMENINO\"]\n",
    "\n",
    "\n",
    "data_men = data_men.groupby(dataset[\"Edad\"]).Cantidad.sum().reset_index()\n",
    "data_women = data_women.groupby(dataset[\"Edad\"]).Cantidad.sum().reset_index()\n",
    "\n",
    "width = 0.4  # the width of the bars\n",
    "\n",
    "# plot homicides sorted by month\n",
    "fig, ax = plt.subplots(figsize=(18, 8))\n",
    "plot1 = ax.bar(x=data_men[\"Edad\"]- width/2,\n",
    "               height=data_men['Cantidad'],\n",
    "               alpha=0.6, label='Men')\n",
    "\n",
    "plot2 = ax.bar(x=data_women[\"Edad\"]+ width/2,\n",
    "               height=data_women['Cantidad'],\n",
    "               alpha=0.4, label='Women')\n",
    "\n",
    "\n",
    "# Add some text for labels, title and custom x-axis tick labels, etc.\n",
    "ax.set_ylabel('# Homicidies')\n",
    "ax.set_xlabel(\"Victim's age\")\n",
    "ax.set_title('Homicidies by Age and gender')\n",
    "ax.set_xticks(labels)\n",
    "ax.set_xticklabels(labels)\n",
    "ax.legend()\n",
    "ax.grid()\n",
    "\n",
    "plt.show()"
   ]
  },
  {
   "cell_type": "code",
   "execution_count": 26,
   "metadata": {
    "ExecuteTime": {
     "end_time": "2020-05-25T07:52:29.995679Z",
     "start_time": "2020-05-25T07:52:29.981707Z"
    }
   },
   "outputs": [
    {
     "data": {
      "text/plain": [
       "0.9145184247983552"
      ]
     },
     "execution_count": 26,
     "metadata": {},
     "output_type": "execute_result"
    }
   ],
   "source": [
    "len(dataset[dataset['Sexo'] == \"MASCULINO\"])/ (len(dataset[dataset['Sexo'] == \"MASCULINO\"]) + len(dataset[dataset['Sexo'] == \"FEMENINO\"]))"
   ]
  },
  {
   "cell_type": "markdown",
   "metadata": {},
   "source": [
    "* The majority of deaths accumulate between the ages of 15 and 40, that is, the deaths occur in the most productive stage of the victim. \n",
    "* In 2018 in Colombia  91% of homicide victims were men"
   ]
  },
  {
   "cell_type": "markdown",
   "metadata": {},
   "source": [
    "#### <font style=\"color:rgb(50,120,229)\">3.3.3 What days of the week should security be tightened due to an increase in homicides in the most dangerous cities? </font>"
   ]
  },
  {
   "cell_type": "code",
   "execution_count": 28,
   "metadata": {
    "ExecuteTime": {
     "end_time": "2020-05-25T07:53:34.516170Z",
     "start_time": "2020-05-25T07:53:34.500239Z"
    },
    "scrolled": true
   },
   "outputs": [
    {
     "data": {
      "text/plain": [
       "Municipio\n",
       "BARRANQUILLA (CT)        68\n",
       "BOGOTÁ D.C. (CT)        256\n",
       "CALI (CT)               254\n",
       "CARTAGENA (CT)           54\n",
       "CÚCUTA (CT)              32\n",
       "MEDELLÍN (CT)            94\n",
       "SAN ANDRES DE TUMACO     49\n",
       "Name: Cantidad, dtype: int64"
      ]
     },
     "execution_count": 28,
     "metadata": {},
     "output_type": "execute_result"
    }
   ],
   "source": [
    "mun_viol = list(np.unique(top5_mun[\"Municipalities\"]))\n",
    "\n",
    "# the homicides registered in Bogota\n",
    "most_vioel_info = dataset[dataset['Municipio'].isin(mun_viol)]\n",
    "group_table = dataset.groupby([most_vioel_info[\"Día\"],dataset['Municipio']]).Cantidad.sum() \n",
    "\n",
    "group_table[\"Domingo\"]"
   ]
  },
  {
   "cell_type": "code",
   "execution_count": 30,
   "metadata": {
    "ExecuteTime": {
     "end_time": "2020-05-25T07:54:30.420314Z",
     "start_time": "2020-05-25T07:54:30.412309Z"
    }
   },
   "outputs": [],
   "source": [
    "# Extract a list of the most dangerous cities ordered by number of homicides\n",
    "mostnumHom_ord = most_vioel_info.groupby(dataset['Municipio']).Cantidad.sum().reset_index() \\\n",
    "                                    .sort_values(by=['Cantidad'],  ascending=False)\n",
    "list_mostViol = mostnumHom_ord.values[:, 0]"
   ]
  },
  {
   "cell_type": "code",
   "execution_count": 31,
   "metadata": {
    "ExecuteTime": {
     "end_time": "2020-05-25T07:54:38.574326Z",
     "start_time": "2020-05-25T07:54:38.557347Z"
    }
   },
   "outputs": [],
   "source": [
    "# Create a data structure compatible with the following chart\n",
    "\n",
    "category_names = list_mostViol.copy()\n",
    "days_dict = {'Monday':\"Lunes\", \"Tuesday\":\"Martes\",\n",
    "             \"Wednesday\":\"Miércoles\", \"Thursday\":\"Jueves\",\n",
    "             \"Friday\":\"Viernes\", \"Saturday\":\"Sábado\",\n",
    "             \"Sunday\":\"Domingo\"}\n",
    "results = {\n",
    "    'Monday': [],\n",
    "    'Tuesday': [],\n",
    "    'Wednesday': [],\n",
    "    'Thursday': [],\n",
    "    'Friday': [],\n",
    "    'Saturday': [],\n",
    "    'Sunday': []\n",
    "}\n",
    "for city in category_names:\n",
    "    for day in results:\n",
    "        results[day].append(group_table[days_dict[day]][city])"
   ]
  },
  {
   "cell_type": "code",
   "execution_count": 32,
   "metadata": {
    "ExecuteTime": {
     "end_time": "2020-05-25T07:54:40.911215Z",
     "start_time": "2020-05-25T07:54:40.616968Z"
    },
    "scrolled": false
   },
   "outputs": [
    {
     "data": {
      "image/png": "[encoded data removed]",
      "text/plain": [
       "<Figure size 1008x504 with 1 Axes>"
      ]
     },
     "metadata": {
      "needs_background": "light"
     },
     "output_type": "display_data"
    }
   ],
   "source": [
    "def survey(results, category_names):\n",
    "    \"\"\"\n",
    "    Parameters\n",
    "    ----------\n",
    "    results : dict\n",
    "        A mapping from question labels to a list of answers per category.\n",
    "        It is assumed all lists contain the same number of entries and that\n",
    "        it matches the length of *category_names*.\n",
    "    category_names : list of str\n",
    "        The category labels.\n",
    "    \"\"\"\n",
    "    labels = list(results.keys())\n",
    "    data = np.array(list(results.values()))\n",
    "    data_cum = data.cumsum(axis=1)\n",
    "    category_colors = plt.get_cmap('Set1')(\n",
    "        np.linspace(0.15, 0.85, data.shape[1]))\n",
    "\n",
    "    fig, ax = plt.subplots(figsize=(14, 7))\n",
    "    fig.suptitle(\"Number of Homocides per Day in Colombia's most Dangerous Cities on 2018\", fontsize=23, ha=\"center\", weight=40)\n",
    "    ax.invert_yaxis()\n",
    "    ax.xaxis.set_visible(False)\n",
    "    ax.spines['top'].set_visible(False)\n",
    "    ax.spines['right'].set_visible(False)\n",
    "    ax.spines['bottom'].set_visible(False)\n",
    "    \n",
    "    ax.set_xlim(0, np.sum(data, axis=1).max())\n",
    "    for i, (colname, color) in enumerate(zip(category_names, category_colors)):\n",
    "        widths = data[:, i] \n",
    "        starts = data_cum[:, i] - widths \n",
    "        ax.barh(labels, widths, left=starts, height=0.7,\n",
    "                label=colname, color=color)\n",
    "        xcenters = starts + widths / 2\n",
    "        ax.tick_params(axis=\"y\", labelsize=15)\n",
    "        r, g, b, _ = color\n",
    "        text_color = 'black' \n",
    "        for y, (x, c) in enumerate(zip(xcenters, widths)):\n",
    "            ax.text(x, y, str(int(c)), ha='center', va='center',\n",
    "                    color=text_color, fontsize=12)\n",
    "    ax.legend(ncol=len(category_names), bbox_to_anchor=(0, 1),\n",
    "              loc='lower left', fontsize='small')\n",
    "    \n",
    "    ax.set_axisbelow(True)\n",
    "    ax.yaxis.grid(alpha=0.6, color='black', linestyle=\"dashed\")\n",
    "    return fig, ax\n",
    "\n",
    "\n",
    "survey(results, category_names)\n",
    "plt.show()"
   ]
  },
  {
   "cell_type": "code",
   "execution_count": 33,
   "metadata": {
    "ExecuteTime": {
     "end_time": "2020-05-25T07:54:50.734874Z",
     "start_time": "2020-05-25T07:54:50.728862Z"
    }
   },
   "outputs": [
    {
     "data": {
      "text/plain": [
       "0.7454212454212454"
      ]
     },
     "execution_count": 33,
     "metadata": {},
     "output_type": "execute_result"
    }
   ],
   "source": [
    "mostnumHom_ord.values[:3, 1].sum()  /  mostnumHom_ord.values[:, 1].sum() "
   ]
  },
  {
   "cell_type": "code",
   "execution_count": 34,
   "metadata": {
    "ExecuteTime": {
     "end_time": "2020-05-25T07:54:51.342622Z",
     "start_time": "2020-05-25T07:54:51.337657Z"
    }
   },
   "outputs": [
    {
     "data": {
      "text/plain": [
       "0.521193092621664"
      ]
     },
     "execution_count": 34,
     "metadata": {},
     "output_type": "execute_result"
    }
   ],
   "source": [
    "(sum(results[\"Monday\"]) + sum(results[\"Saturday\"]) + sum(results[\"Sunday\"])) / mostnumHom_ord.values[:, 1].sum() "
   ]
  },
  {
   "cell_type": "markdown",
   "metadata": {},
   "source": [
    "* **Weekends**, and **Mondays** as an extension of it, are the days when most homicides occur in the most dangerous cities (accumulating more than 50%)\n",
    "* The first three cities only account for 75% of the homicides, **Cali**, **Bogotá** and **Medellín**.\n",
    "* Other answers that can be given with this data are **the type of firearm most used**, or the **hours in which a woman can be most in danger**, but I think that for now this is enough."
   ]
  },
  {
   "cell_type": "markdown",
   "metadata": {},
   "source": [
    "## <font style=\"color:rgb(50,120,229)\">4) What is the most dangerous department or municipality in the Country (in terms of murders)? Do you need additional information for making this decision?</font>"
   ]
  },
  {
   "cell_type": "code",
   "execution_count": 35,
   "metadata": {
    "ExecuteTime": {
     "end_time": "2020-05-25T07:54:59.140584Z",
     "start_time": "2020-05-25T07:54:59.133602Z"
    }
   },
   "outputs": [
    {
     "data": {
      "text/html": [
       "<div>\n",
       "<style scoped>\n",
       "    .dataframe tbody tr th:only-of-type {\n",
       "        vertical-align: middle;\n",
       "    }\n",
       "\n",
       "    .dataframe tbody tr th {\n",
       "        vertical-align: top;\n",
       "    }\n",
       "\n",
       "    .dataframe thead th {\n",
       "        text-align: right;\n",
       "    }\n",
       "</style>\n",
       "<table border=\"1\" class=\"dataframe\">\n",
       "  <thead>\n",
       "    <tr style=\"text-align: right;\">\n",
       "      <th></th>\n",
       "      <th>Municipio</th>\n",
       "      <th>Cantidad</th>\n",
       "    </tr>\n",
       "  </thead>\n",
       "  <tbody>\n",
       "    <tr>\n",
       "      <th>2</th>\n",
       "      <td>CALI (CT)</td>\n",
       "      <td>1159</td>\n",
       "    </tr>\n",
       "    <tr>\n",
       "      <th>1</th>\n",
       "      <td>BOGOTÁ D.C. (CT)</td>\n",
       "      <td>1064</td>\n",
       "    </tr>\n",
       "    <tr>\n",
       "      <th>5</th>\n",
       "      <td>MEDELLÍN (CT)</td>\n",
       "      <td>626</td>\n",
       "    </tr>\n",
       "    <tr>\n",
       "      <th>0</th>\n",
       "      <td>BARRANQUILLA (CT)</td>\n",
       "      <td>315</td>\n",
       "    </tr>\n",
       "    <tr>\n",
       "      <th>6</th>\n",
       "      <td>SAN ANDRES DE TUMACO</td>\n",
       "      <td>249</td>\n",
       "    </tr>\n",
       "    <tr>\n",
       "      <th>3</th>\n",
       "      <td>CARTAGENA (CT)</td>\n",
       "      <td>217</td>\n",
       "    </tr>\n",
       "    <tr>\n",
       "      <th>4</th>\n",
       "      <td>CÚCUTA (CT)</td>\n",
       "      <td>192</td>\n",
       "    </tr>\n",
       "  </tbody>\n",
       "</table>\n",
       "</div>"
      ],
      "text/plain": [
       "              Municipio  Cantidad\n",
       "2             CALI (CT)      1159\n",
       "1      BOGOTÁ D.C. (CT)      1064\n",
       "5         MEDELLÍN (CT)       626\n",
       "0     BARRANQUILLA (CT)       315\n",
       "6  SAN ANDRES DE TUMACO       249\n",
       "3        CARTAGENA (CT)       217\n",
       "4           CÚCUTA (CT)       192"
      ]
     },
     "execution_count": 35,
     "metadata": {},
     "output_type": "execute_result"
    }
   ],
   "source": [
    "mostnumHom_ord"
   ]
  },
  {
   "cell_type": "markdown",
   "metadata": {},
   "source": [
    "* These values do not take into account the number of people of each city, which is the correct way to measure the number of homicides in a specific territory (Rates are calculated per 100,000 inhabitants).\n",
    "\n",
    "* Below is a dictionary with the number of people of each city for the year 2018, information obtained from this [link](https://es.wikipedia.org/wiki/Anexo:Municipios_de_Colombia_por_poblaci%C3%B3n)."
   ]
  },
  {
   "cell_type": "code",
   "execution_count": 71,
   "metadata": {
    "ExecuteTime": {
     "end_time": "2020-05-25T08:34:37.177313Z",
     "start_time": "2020-05-25T08:34:37.172356Z"
    }
   },
   "outputs": [],
   "source": [
    "city_people = {\"CALI (CT)\": 2252616,\n",
    "               \"BOGOTÁ D.C. (CT)\": 7743955,\n",
    "               \"MEDELLÍN (CT)\": 2533424,\n",
    "               \"BARRANQUILLA (CT)\":1274250,\n",
    "               \"SAN ANDRES DE TUMACO\":212692,\n",
    "               \"CARTAGENA (CT)\":1028736,\n",
    "               \"CÚCUTA (CT)\":777106}\n",
    "danger_dict = {val[0]:val[1] for val in mostnumHom_ord.to_dict('split')[\"data\"]}"
   ]
  },
  {
   "cell_type": "code",
   "execution_count": 74,
   "metadata": {
    "ExecuteTime": {
     "end_time": "2020-05-25T08:37:33.690696Z",
     "start_time": "2020-05-25T08:37:33.685710Z"
    }
   },
   "outputs": [
    {
     "name": "stdout",
     "output_type": "stream",
     "text": [
      "CALI (CT): 51.45\n",
      "BOGOTÁ D.C. (CT): 13.74\n",
      "MEDELLÍN (CT): 24.71\n",
      "BARRANQUILLA (CT): 24.72\n",
      "SAN ANDRES DE TUMACO: 117.07\n",
      "CARTAGENA (CT): 21.09\n",
      "CÚCUTA (CT): 24.71\n"
     ]
    }
   ],
   "source": [
    "for city, value in city_people.items():\n",
    "    range = danger_dict[city] / (value / 100000)\n",
    "    print(city + f\": {range:.2f}\")"
   ]
  },
  {
   "cell_type": "markdown",
   "metadata": {
    "ExecuteTime": {
     "end_time": "2020-05-25T08:28:59.087774Z",
     "start_time": "2020-05-25T08:28:59.082785Z"
    }
   },
   "source": [
    "Therefore, although **CALI (CT)** was the city with the most homicides in Colombia during the year, in terms of inhabitants **SAN ANDRES DE TUMACO** can be considered the most dangerous city in Colombia in in terms of homicides per 100,000 inhabitants (117.07 homicides)."
   ]
  }
 ],
 "metadata": {
  "kernelspec": {
   "display_name": "Python 3",
   "language": "python",
   "name": "python3"
  },
  "language_info": {
   "codemirror_mode": {
    "name": "ipython",
    "version": 3
   },
   "file_extension": ".py",
   "mimetype": "text/x-python",
   "name": "python",
   "nbconvert_exporter": "python",
   "pygments_lexer": "ipython3",
   "version": "3.7.7"
  }
 },
 "nbformat": 4,
 "nbformat_minor": 4
}
