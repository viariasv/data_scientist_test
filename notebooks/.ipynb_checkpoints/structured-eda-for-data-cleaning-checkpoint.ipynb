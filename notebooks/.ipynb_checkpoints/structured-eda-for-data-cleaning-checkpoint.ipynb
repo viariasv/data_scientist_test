{
 "cells": [
  {
   "cell_type": "markdown",
   "metadata": {
    "_cell_guid": "4f0d1567-e0d1-44cc-bc84-77b4604dfa56",
    "_uuid": "a418f3818c5fee02f3db1f1b85dcb5a4f20ee9b7"
   },
   "source": [
    "### Introduction\n",
    "\n",
    "Cleaning and validating a dataset is one of the most important steps in building a machine learning model. This kernel provides: \n",
    "\n",
    "1. A practice dataset that we know has some issues. Cleaning data is a very open ended problem, so practice is really the single most valuable thing we can offer you. We'll use the credit card dataset from [the R package AER](https://cran.r-project.org/web/packages/AER/AER.pdf).\n",
    "- A basic exploratory data analysis (EDA) process for error detection that you can apply to other datasets. There's no one true way, but this is a good place to start.\n",
    "\n",
    "To get the most out of this tutorial you should fork this notebook and implement each EDA step on your own. Then, make a list of potential problems with the data. I'll provide a link to my version of the completed exercises at the end. \n",
    "\n",
    "Most of the exercises can be done with single line pandas commands, so if you find yourself writing much code I recommend pausing to look at the [pandas documentation](https://pandas.pydata.org/pandas-docs/stable/basics.html) or answer key."
   ]
  },
  {
   "cell_type": "markdown",
   "metadata": {
    "_cell_guid": "6037d885-3102-47b1-91fc-4cd8adebf60d",
    "_uuid": "e46d34d2b68ddf5c52c95e9ae58bb0a5cb5a5afa"
   },
   "source": [
    "### 1) Read the Manual\n",
    "A basic understanding of what the dataset is supposed to contain can help you identify discrepancies.\n",
    "\n",
    "I've listed this step first, but feel free to change the order. You might find that you are better able to detect issues if you look at the data without any preconceptions, read the manual, then go back to the data.\n",
    "\n",
    "\n",
    "```Format\n",
    "A data frame containing 1,319 observations on 12 variables.\n",
    "\n",
    "card: Factor. Was the application for a credit card accepted?  \n",
    "reports: Number of major derogatory reports.   \n",
    "age: Age in years plus twelfths of a year.   \n",
    "income: Yearly income (in USD 10,000).   \n",
    "share: Ratio of monthly credit card expenditure to yearly income.   \n",
    "expenditure: Average monthly credit card expenditure.  \n",
    "owner: Factor. Does the individual own their home?  \n",
    "selfemp: Factor. Is the individual self-employed?  \n",
    "dependents: Number of dependents.  \n",
    "months: Months living at current address.  \n",
    "majorcards: Number of major credit cards held.  \n",
    "active: Number of active credit accounts.\n",
    "\n",
    "Details\n",
    "According to Greene (2003, p. 952) dependents equals 1 + number of dependents, our calculations\n",
    "suggest that it equals number of dependents.\n",
    "Greene (2003) provides this data set twice in Table F21.4 and F9.1, respectively. Table F9.1 has just\n",
    "the observations, rounded to two digits. Note that age has some suspiciously low values (below one year) for some applicants.```\n",
    "\n",
    "\n",
    "### 2) Review the Data Types\n",
    "Do the data types line up with the manual? Do they make sense for kinds of data we have?"
   ]
  },
  {
   "cell_type": "markdown",
   "metadata": {
    "_cell_guid": "3f652461-3b4f-47fb-8ac7-7a6bb96edb72",
    "_uuid": "ef370e3cc5f33197775c166fd759a2c7408b7e4f"
   },
   "source": [
    "### 3) Print Sample Rows\n",
    "Print a random slice of rows and review the values. Be sure to preserve the row order in case the data happens to be sorted or has other inter-row structure. Do the orders of magnitude of the data make sense? Are there any nested datatypes that need to be unpacked? Is each column expressed in useful units?"
   ]
  },
  {
   "cell_type": "markdown",
   "metadata": {
    "_cell_guid": "994f8420-1acb-4c4f-a2dc-2b77a025f763",
    "_uuid": "6781763cbbf14a0d66e65159ef11aae7780360c3"
   },
   "source": [
    "### 4) Summary Statistics\n",
    "Basic descriptive statistics are a good basis for sanity checks and to get a rough sense of how extreme any outliers are. In this case, for example, we know that none of the values in this dataset can be negative and should see that reflected in the minimums."
   ]
  },
  {
   "cell_type": "markdown",
   "metadata": {
    "_cell_guid": "33176074-a36e-4145-a7b9-8867775e751c",
    "_uuid": "035b73cbbb666c2440b02d50bedbda21b11fd3e2"
   },
   "source": [
    "### 5) Plotting\n",
    "Simple scatterplots or histograms can reveal deep issues with the data. Be on the lookout for spikes, gaps in the data, or clusters of outliers; those are often worth digging into if you have time."
   ]
  },
  {
   "cell_type": "markdown",
   "metadata": {
    "_cell_guid": "0b3a5b5c-ae63-47a7-819e-7f0b3bb18f60",
    "_uuid": "1f8ecbb0e04b874c18190d06500630cc4131a1ef",
    "collapsed": true
   },
   "source": [
    "Once you're done, head on over to [the answer key to compare notes](https://www.kaggle.com/sohier/structured-eda-for-data-cleaning-results/).\n",
    "\n",
    "If you're looking for extra practice, you can also check out:\n",
    "- [NBA Shot Logs](https://www.kaggle.com/anthonypino/melbourne-housing-market)\n",
    "- [Melbourne Housing Market](https://www.kaggle.com/anthonypino/melbourne-housing-market)\n",
    "- Datasets that were scraped, rather than downloaded from prepared files, are often worth a look."
   ]
  },
  {
   "cell_type": "markdown",
   "metadata": {
    "_cell_guid": "b1c79709-9c06-4dab-9093-9adf6017cdac",
    "_uuid": "4791dea7a4e0f4935880e4dd041352a5c20a6a81",
    "collapsed": true
   },
   "source": []
  }
 ],
 "metadata": {
  "kernelspec": {
   "display_name": "Python 3",
   "language": "python",
   "name": "python3"
  },
  "language_info": {
   "codemirror_mode": {
    "name": "ipython",
    "version": 3
   },
   "file_extension": ".py",
   "mimetype": "text/x-python",
   "name": "python",
   "nbconvert_exporter": "python",
   "pygments_lexer": "ipython3",
   "version": "3.7.7"
  }
 },
 "nbformat": 4,
 "nbformat_minor": 1
}
