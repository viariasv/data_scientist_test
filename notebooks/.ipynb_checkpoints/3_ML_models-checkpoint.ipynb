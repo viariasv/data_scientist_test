{
 "cells": [
  {
   "cell_type": "markdown",
   "metadata": {},
   "source": [
    "# <font style=\"color:rgb(50,120,229)\">ML MODEL</font>"
   ]
  },
  {
   "cell_type": "markdown",
   "metadata": {
    "ExecuteTime": {
     "end_time": "2020-05-21T18:21:35.990129Z",
     "start_time": "2020-05-21T18:21:35.984591Z"
    }
   },
   "source": [
    "## <font style=\"color:rgb(50,120,229)\">1) Problem definition: What problem are we trying to solve?</font>\n",
    "Bad data quality leads to inaccurate and slow decision-making. This doesn’t happen all at once, as data quality tends to deteriorate over time. We can’t avoid this. But we can create processes to identify the problems, process and improve data quality, and make sure we add value at every stage of the process. "
   ]
  },
  {
   "cell_type": "markdown",
   "metadata": {},
   "source": [
    "## <font style=\"color:rgb(50,120,229)\">2) Evaluation: What define success for us?</font>\n",
    "\n",
    "Seeing that, We have to understand the following criteria of data quality:\n",
    "\n",
    "\n",
    "* **Completeness**: Data is considered complete when it meets the expectations. We may have optional data, but lack of completeness means that we’re missing the information that we do want.\n",
    "\n",
    "* **Consistency**: Data is considered inconsistent if we have contradictory or conflicting information about the same thing in two or more different places.\n",
    "\n",
    "* **Timeliness**: Is the information available when it’s expected? For example, log reports of an error being accessible 5 hours after the error happened is not acceptable.\n",
    "\n",
    "* **Integrity**: This concept speaks to well-designed data and systems. As an example, in a relational database, it means no orphaned records or lack of linkages between semantically linked data.\n",
    "\n",
    "* **Accuracy**: This means that what we store should be accurate enough to reflect real life values. If we store the wrong birthday for a person, there’s an accuracy problem.\n",
    "\n",
    "* **Standardization**: This dimension is still subject to discussion, but decisions taken during database design should be consistent and follow standards (either using common standards or your own variations). In relational models, the different ways of normalization are standards. Often times, you end up consciously denormalizing data (to increase performance, as an example), but that decision should be taken using objective arguments that can be incorporated into your own standard. Other details like date formats are matter here.\n"
   ]
  },
  {
   "cell_type": "markdown",
   "metadata": {},
   "source": [
    "## <font style=\"color:rgb(50,120,229)\">3) Data</font>"
   ]
  },
  {
   "cell_type": "markdown",
   "metadata": {},
   "source": [
    "### <font style=\"color:rgb(50,120,229)\">3.1. Read the Manual </font>"
   ]
  },
  {
   "cell_type": "markdown",
   "metadata": {},
   "source": [
    "We'll use the [Homicidios 2018](https://www.datos.gov.co/Seguridad-y-Defensa/Homicidios-2018/pz7x-mkbs) dataset from the open source government data in security and defense from Colombia. The data records the number of homicides that occurred in the Colombian territory from 1 January until 31 December 2018.\n",
    "\n",
    "Going into this work, the only information we have is from the dataset manual\n",
    "\n",
    "\n",
    "**Format**\n",
    "\n",
    "A data frame containing 4,966 observations on 20 variables.\n",
    "\n",
    "* **Fecha**: date of the homicide ```[datetime]```\n",
    "* **Departamento**: The political-administrative internal division of Colombia is called \"Departamentos\", This variable represents the name of the *Departmento* where the murder occurred```[string]```\n",
    "* **Municipio**: Each Department is fractioned in smaller sub-regions called “municipios”, This variable represents the name of the *Municipio* where the murder occurred ```[string]```\n",
    "* **Dia**: Day of the week ```[string]```\n",
    "* **Hora**: Hour of the day ```[string]```\n",
    "* **Barrio**: Neighborhood ```[string]```\n",
    "* **Zona**: sector of the territory (rural, urban) ```[string]```\n",
    "* **Clase de sitio**: place where the homicide occurred (public road, apartment, etc.) ```[string]```\n",
    "* **Arma empleada**: weapon used in the homicide ```[string]```\n",
    "* **Móvil del agresor**: Way of transport of the aggressor ```[string]```\n",
    "* **Móvil victima**: Way of transportation of the victim ```[string]```\n",
    "* **Edad**: Victim's age ```[integer]```\n",
    "* **Sexo**: Victim's gender ```[string]```\n",
    "* **País de nacimiento**: Victim's country of birth ```[string]```\n",
    "* **Clase de empleado**: Victim's current employment ```[string]```\n",
    "* **Profesión**: Victim's profession ```[string]```\n",
    "* **Escolaridad**: maximum schooling achieved ```[string]```\n",
    "* **Código DANE**: ID given to the homicide ```[float]```\n",
    "* **Cantidad**: number of deaths occurred ```[integer]```"
   ]
  },
  {
   "cell_type": "markdown",
   "metadata": {
    "ExecuteTime": {
     "end_time": "2020-05-22T02:26:27.656212Z",
     "start_time": "2020-05-22T02:26:27.644336Z"
    }
   },
   "source": [
    "### <font style=\"color:rgb(50,120,229)\">3.2. Review the Data Types </font>\n",
    "\n",
    "Do the data types line up with the manual? Do they make sense for kinds of data we have?\n",
    "Format"
   ]
  },
  {
   "cell_type": "code",
   "execution_count": 1,
   "metadata": {
    "ExecuteTime": {
     "end_time": "2020-05-22T23:18:42.035282Z",
     "start_time": "2020-05-22T23:18:41.108020Z"
    }
   },
   "outputs": [],
   "source": [
    "import sys\n",
    "import random\n",
    "import pathlib\n",
    "import numpy as np\n",
    "import pandas as pd\n",
    "import seaborn as sns\n",
    "import matplotlib.pyplot as plt\n",
    "\n",
    "%matplotlib inline"
   ]
  },
  {
   "cell_type": "code",
   "execution_count": 2,
   "metadata": {
    "ExecuteTime": {
     "end_time": "2020-05-22T23:18:42.040250Z",
     "start_time": "2020-05-22T23:18:42.036260Z"
    }
   },
   "outputs": [],
   "source": [
    "import matplotlib\n",
    "matplotlib.rcParams['image.cmap'] = 'gray'"
   ]
  },
  {
   "cell_type": "code",
   "execution_count": 3,
   "metadata": {
    "ExecuteTime": {
     "end_time": "2020-05-22T23:18:42.603919Z",
     "start_time": "2020-05-22T23:18:42.041284Z"
    }
   },
   "outputs": [],
   "source": [
    "# load the data\n",
    "DATA_PATH = pathlib.Path(r\"..\\data\\homicidios-2018.xls\") # OS agnostic PATH\n",
    "dataset = pd.read_excel(str(DATA_PATH),keep_default_na=True, na_values=[\"-\"])"
   ]
  },
  {
   "cell_type": "code",
   "execution_count": 4,
   "metadata": {
    "ExecuteTime": {
     "end_time": "2020-05-22T23:18:42.622751Z",
     "start_time": "2020-05-22T23:18:42.604799Z"
    }
   },
   "outputs": [
    {
     "name": "stdout",
     "output_type": "stream",
     "text": [
      "<class 'pandas.core.frame.DataFrame'>\n",
      "RangeIndex: 12647 entries, 0 to 12646\n",
      "Data columns (total 20 columns):\n",
      " #   Column              Non-Null Count  Dtype         \n",
      "---  ------              --------------  -----         \n",
      " 0   Fecha               12646 non-null  datetime64[ns]\n",
      " 1   Departamento        12646 non-null  object        \n",
      " 2   Municipio           12646 non-null  object        \n",
      " 3   Día                 12646 non-null  object        \n",
      " 4   Hora                12646 non-null  object        \n",
      " 5   Barrio              12646 non-null  object        \n",
      " 6   Zona                12646 non-null  object        \n",
      " 7   Clase de sitio      12646 non-null  object        \n",
      " 8   Arma empleada       12646 non-null  object        \n",
      " 9   Móvil Agresor       12621 non-null  object        \n",
      " 10  Móvil Victima       12621 non-null  object        \n",
      " 11  Edad                12623 non-null  float64       \n",
      " 12  Sexo                12646 non-null  object        \n",
      " 13  Estado civil        12610 non-null  object        \n",
      " 14  País de nacimiento  12548 non-null  object        \n",
      " 15  Clase de empleado   12646 non-null  object        \n",
      " 16  Profesión           283 non-null    object        \n",
      " 17  Escolaridad         12608 non-null  object        \n",
      " 18  Código DANE         12646 non-null  float64       \n",
      " 19  Cantidad            12647 non-null  int64         \n",
      "dtypes: datetime64[ns](1), float64(2), int64(1), object(16)\n",
      "memory usage: 1.9+ MB\n"
     ]
    }
   ],
   "source": [
    "dataset.info()"
   ]
  },
  {
   "cell_type": "markdown",
   "metadata": {
    "ExecuteTime": {
     "end_time": "2020-05-22T02:46:54.534675Z",
     "start_time": "2020-05-22T02:46:54.531683Z"
    }
   },
   "source": [
    "### <font style=\"color:rgb(50,120,229)\">3.3. Print Sample Rows </font>"
   ]
  },
  {
   "cell_type": "markdown",
   "metadata": {},
   "source": [
    "Print a random slice of rows and review the values. Be sure to preserve the row order in case the data happens to be sorted or has other inter-row structure. Do the orders of magnitude of the data make sense? Are there any nested datatypes that need to be unpacked? Is each column expressed in useful units?"
   ]
  },
  {
   "cell_type": "code",
   "execution_count": 5,
   "metadata": {
    "ExecuteTime": {
     "end_time": "2020-05-22T23:18:42.644692Z",
     "start_time": "2020-05-22T23:18:42.623747Z"
    }
   },
   "outputs": [
    {
     "data": {
      "text/html": [
       "<div>\n",
       "<style scoped>\n",
       "    .dataframe tbody tr th:only-of-type {\n",
       "        vertical-align: middle;\n",
       "    }\n",
       "\n",
       "    .dataframe tbody tr th {\n",
       "        vertical-align: top;\n",
       "    }\n",
       "\n",
       "    .dataframe thead th {\n",
       "        text-align: right;\n",
       "    }\n",
       "</style>\n",
       "<table border=\"1\" class=\"dataframe\">\n",
       "  <thead>\n",
       "    <tr style=\"text-align: right;\">\n",
       "      <th></th>\n",
       "      <th>Fecha</th>\n",
       "      <th>Departamento</th>\n",
       "      <th>Municipio</th>\n",
       "      <th>Día</th>\n",
       "      <th>Hora</th>\n",
       "      <th>Barrio</th>\n",
       "      <th>Zona</th>\n",
       "      <th>Clase de sitio</th>\n",
       "      <th>Arma empleada</th>\n",
       "      <th>Móvil Agresor</th>\n",
       "      <th>Móvil Victima</th>\n",
       "      <th>Edad</th>\n",
       "      <th>Sexo</th>\n",
       "      <th>Estado civil</th>\n",
       "      <th>País de nacimiento</th>\n",
       "      <th>Clase de empleado</th>\n",
       "      <th>Profesión</th>\n",
       "      <th>Escolaridad</th>\n",
       "      <th>Código DANE</th>\n",
       "      <th>Cantidad</th>\n",
       "    </tr>\n",
       "  </thead>\n",
       "  <tbody>\n",
       "    <tr>\n",
       "      <th>10476</th>\n",
       "      <td>2018-11-02</td>\n",
       "      <td>CUNDINAMARCA</td>\n",
       "      <td>BOGOTÁ D.C. (CT)</td>\n",
       "      <td>Viernes</td>\n",
       "      <td>18:15:00</td>\n",
       "      <td>MADELENA I Y II SECTOR E-19</td>\n",
       "      <td>URBANA</td>\n",
       "      <td>VIAS PUBLICAS</td>\n",
       "      <td>ARMA DE FUEGO</td>\n",
       "      <td>A PIE</td>\n",
       "      <td>A PIE</td>\n",
       "      <td>28.0</td>\n",
       "      <td>MASCULINO</td>\n",
       "      <td>SOLTERO</td>\n",
       "      <td>COLOMBIA</td>\n",
       "      <td>INDEPENDIENTE</td>\n",
       "      <td>NaN</td>\n",
       "      <td>SECUNDARIA</td>\n",
       "      <td>11001000.0</td>\n",
       "      <td>1</td>\n",
       "    </tr>\n",
       "    <tr>\n",
       "      <th>10477</th>\n",
       "      <td>2018-11-02</td>\n",
       "      <td>CUNDINAMARCA</td>\n",
       "      <td>VILLETA</td>\n",
       "      <td>Viernes</td>\n",
       "      <td>21:00:00</td>\n",
       "      <td>CARLOS LLERAS</td>\n",
       "      <td>URBANA</td>\n",
       "      <td>CASAS DE HABITACION</td>\n",
       "      <td>ARMA DE FUEGO</td>\n",
       "      <td>A PIE</td>\n",
       "      <td>A PIE</td>\n",
       "      <td>31.0</td>\n",
       "      <td>FEMENINO</td>\n",
       "      <td>UNION LIBRE</td>\n",
       "      <td>COLOMBIA</td>\n",
       "      <td>EMPLEADO PARTICULAR</td>\n",
       "      <td>TECNOLOGO  EN ENFERMERIA</td>\n",
       "      <td>TECNOLOGO</td>\n",
       "      <td>25875000.0</td>\n",
       "      <td>1</td>\n",
       "    </tr>\n",
       "    <tr>\n",
       "      <th>10478</th>\n",
       "      <td>2018-11-02</td>\n",
       "      <td>GUAJIRA</td>\n",
       "      <td>RIOHACHA (CT)</td>\n",
       "      <td>Viernes</td>\n",
       "      <td>06:30:00</td>\n",
       "      <td>EURARE</td>\n",
       "      <td>URBANA</td>\n",
       "      <td>VIAS PUBLICAS</td>\n",
       "      <td>ARMA DE FUEGO</td>\n",
       "      <td>A PIE</td>\n",
       "      <td>A PIE</td>\n",
       "      <td>37.0</td>\n",
       "      <td>MASCULINO</td>\n",
       "      <td>UNION LIBRE</td>\n",
       "      <td>COLOMBIA</td>\n",
       "      <td>EMPLEADO PARTICULAR</td>\n",
       "      <td>NaN</td>\n",
       "      <td>SECUNDARIA</td>\n",
       "      <td>44001000.0</td>\n",
       "      <td>1</td>\n",
       "    </tr>\n",
       "    <tr>\n",
       "      <th>10479</th>\n",
       "      <td>2018-11-02</td>\n",
       "      <td>HUILA</td>\n",
       "      <td>NEIVA (CT)</td>\n",
       "      <td>Viernes</td>\n",
       "      <td>19:00:00</td>\n",
       "      <td>VEREDA EL TRIUNFO</td>\n",
       "      <td>RURAL</td>\n",
       "      <td>PUENTE</td>\n",
       "      <td>ARMA DE FUEGO</td>\n",
       "      <td>A PIE</td>\n",
       "      <td>CONDUCTOR MOTOCICLETA</td>\n",
       "      <td>38.0</td>\n",
       "      <td>MASCULINO</td>\n",
       "      <td>UNION LIBRE</td>\n",
       "      <td>COLOMBIA</td>\n",
       "      <td>EMPLEADO PARTICULAR</td>\n",
       "      <td>NaN</td>\n",
       "      <td>PRIMARIA</td>\n",
       "      <td>41001000.0</td>\n",
       "      <td>1</td>\n",
       "    </tr>\n",
       "    <tr>\n",
       "      <th>10480</th>\n",
       "      <td>2018-11-02</td>\n",
       "      <td>NARIÑO</td>\n",
       "      <td>SAN ANDRES DE TUMACO</td>\n",
       "      <td>Viernes</td>\n",
       "      <td>07:16:00</td>\n",
       "      <td>CIUDAD 2000</td>\n",
       "      <td>URBANA</td>\n",
       "      <td>VIAS PUBLICAS</td>\n",
       "      <td>ARMA DE FUEGO</td>\n",
       "      <td>A PIE</td>\n",
       "      <td>A PIE</td>\n",
       "      <td>32.0</td>\n",
       "      <td>MASCULINO</td>\n",
       "      <td>SOLTERO</td>\n",
       "      <td>COLOMBIA</td>\n",
       "      <td>INDEPENDIENTE</td>\n",
       "      <td>NaN</td>\n",
       "      <td>PRIMARIA</td>\n",
       "      <td>52835000.0</td>\n",
       "      <td>1</td>\n",
       "    </tr>\n",
       "  </tbody>\n",
       "</table>\n",
       "</div>"
      ],
      "text/plain": [
       "           Fecha  Departamento             Municipio      Día      Hora  \\\n",
       "10476 2018-11-02  CUNDINAMARCA      BOGOTÁ D.C. (CT)  Viernes  18:15:00   \n",
       "10477 2018-11-02  CUNDINAMARCA               VILLETA  Viernes  21:00:00   \n",
       "10478 2018-11-02       GUAJIRA         RIOHACHA (CT)  Viernes  06:30:00   \n",
       "10479 2018-11-02         HUILA            NEIVA (CT)  Viernes  19:00:00   \n",
       "10480 2018-11-02        NARIÑO  SAN ANDRES DE TUMACO  Viernes  07:16:00   \n",
       "\n",
       "                            Barrio    Zona       Clase de sitio  \\\n",
       "10476  MADELENA I Y II SECTOR E-19  URBANA        VIAS PUBLICAS   \n",
       "10477                CARLOS LLERAS  URBANA  CASAS DE HABITACION   \n",
       "10478                       EURARE  URBANA        VIAS PUBLICAS   \n",
       "10479            VEREDA EL TRIUNFO   RURAL               PUENTE   \n",
       "10480                  CIUDAD 2000  URBANA        VIAS PUBLICAS   \n",
       "\n",
       "       Arma empleada Móvil Agresor          Móvil Victima  Edad       Sexo  \\\n",
       "10476  ARMA DE FUEGO         A PIE                  A PIE  28.0  MASCULINO   \n",
       "10477  ARMA DE FUEGO         A PIE                  A PIE  31.0   FEMENINO   \n",
       "10478  ARMA DE FUEGO         A PIE                  A PIE  37.0  MASCULINO   \n",
       "10479  ARMA DE FUEGO         A PIE  CONDUCTOR MOTOCICLETA  38.0  MASCULINO   \n",
       "10480  ARMA DE FUEGO         A PIE                  A PIE  32.0  MASCULINO   \n",
       "\n",
       "      Estado civil País de nacimiento    Clase de empleado  \\\n",
       "10476      SOLTERO           COLOMBIA        INDEPENDIENTE   \n",
       "10477  UNION LIBRE           COLOMBIA  EMPLEADO PARTICULAR   \n",
       "10478  UNION LIBRE           COLOMBIA  EMPLEADO PARTICULAR   \n",
       "10479  UNION LIBRE           COLOMBIA  EMPLEADO PARTICULAR   \n",
       "10480      SOLTERO           COLOMBIA        INDEPENDIENTE   \n",
       "\n",
       "                      Profesión Escolaridad  Código DANE  Cantidad  \n",
       "10476                       NaN  SECUNDARIA   11001000.0         1  \n",
       "10477  TECNOLOGO  EN ENFERMERIA   TECNOLOGO   25875000.0         1  \n",
       "10478                       NaN  SECUNDARIA   44001000.0         1  \n",
       "10479                       NaN    PRIMARIA   41001000.0         1  \n",
       "10480                       NaN    PRIMARIA   52835000.0         1  "
      ]
     },
     "execution_count": 5,
     "metadata": {},
     "output_type": "execute_result"
    }
   ],
   "source": [
    "random.seed(42)\n",
    "dataset[random.randint(0, len(dataset)):].head()"
   ]
  },
  {
   "cell_type": "markdown",
   "metadata": {},
   "source": [
    "Potential issues or changes:\n",
    "\n",
    "* If only one homicide is recorded in the **Cantidad** variable, is it necessary to use it?\n",
    "\n",
    "* The way the time is represented (**Hora** variable) must be changed\n",
    "\n",
    "* The variable **Código DANE** is a representative ID of each row. Therefore, the database could be indexed with this variable to avoid its use in later operations. But this would limit a future filtering of the database using another variable as index. So we'll leave it that way, knowing that it's not a usable dependent variable.\n",
    "\n",
    "<span style=\"color:red\">All this was solved by changing the way pandas reads data and handles missing values</span>.\n",
    "\n",
    "* ~~The **Edad** variable is being stored as an object type, that leads us to think that values other than integers~~\n",
    "* ~~Some missing value columns are not being identified because instead of being empty they have the string **\"-\"**.~~\n",
    "* ~~Obvious conflicts with the manual are a bad sign;  We need to using a **sentinel approach**  (the sentinel value could be some data-specific convention, such as indicating a missing integer value with -9999 or some rare bit pattern, or it could be a more global convention, such as indicating a missing floating-point value with NaN (Not a Number), a special value which is part of the IEEE floating-point specification)~~"
   ]
  },
  {
   "cell_type": "markdown",
   "metadata": {},
   "source": [
    "### <font style=\"color:rgb(50,120,229)\">3.4. Summary Statistics</font>\n",
    "This stage allows we to do basic sanity checks about the distribution of the data. For example, we know that missing values can be \"-\""
   ]
  },
  {
   "cell_type": "code",
   "execution_count": 6,
   "metadata": {
    "ExecuteTime": {
     "end_time": "2020-05-22T23:18:42.663665Z",
     "start_time": "2020-05-22T23:18:42.645690Z"
    }
   },
   "outputs": [
    {
     "data": {
      "text/html": [
       "<div>\n",
       "<style scoped>\n",
       "    .dataframe tbody tr th:only-of-type {\n",
       "        vertical-align: middle;\n",
       "    }\n",
       "\n",
       "    .dataframe tbody tr th {\n",
       "        vertical-align: top;\n",
       "    }\n",
       "\n",
       "    .dataframe thead th {\n",
       "        text-align: right;\n",
       "    }\n",
       "</style>\n",
       "<table border=\"1\" class=\"dataframe\">\n",
       "  <thead>\n",
       "    <tr style=\"text-align: right;\">\n",
       "      <th></th>\n",
       "      <th>Edad</th>\n",
       "      <th>Código DANE</th>\n",
       "      <th>Cantidad</th>\n",
       "    </tr>\n",
       "  </thead>\n",
       "  <tbody>\n",
       "    <tr>\n",
       "      <th>count</th>\n",
       "      <td>12623.000000</td>\n",
       "      <td>1.264600e+04</td>\n",
       "      <td>12647.000000</td>\n",
       "    </tr>\n",
       "    <tr>\n",
       "      <th>mean</th>\n",
       "      <td>32.763131</td>\n",
       "      <td>3.725039e+07</td>\n",
       "      <td>2.003163</td>\n",
       "    </tr>\n",
       "    <tr>\n",
       "      <th>std</th>\n",
       "      <td>12.995391</td>\n",
       "      <td>2.865510e+07</td>\n",
       "      <td>112.627825</td>\n",
       "    </tr>\n",
       "    <tr>\n",
       "      <th>min</th>\n",
       "      <td>0.000000</td>\n",
       "      <td>5.001000e+06</td>\n",
       "      <td>1.000000</td>\n",
       "    </tr>\n",
       "    <tr>\n",
       "      <th>25%</th>\n",
       "      <td>23.000000</td>\n",
       "      <td>1.100100e+07</td>\n",
       "      <td>1.000000</td>\n",
       "    </tr>\n",
       "    <tr>\n",
       "      <th>50%</th>\n",
       "      <td>30.000000</td>\n",
       "      <td>2.538600e+07</td>\n",
       "      <td>1.000000</td>\n",
       "    </tr>\n",
       "    <tr>\n",
       "      <th>75%</th>\n",
       "      <td>39.000000</td>\n",
       "      <td>6.827600e+07</td>\n",
       "      <td>1.000000</td>\n",
       "    </tr>\n",
       "    <tr>\n",
       "      <th>max</th>\n",
       "      <td>100.000000</td>\n",
       "      <td>9.977300e+07</td>\n",
       "      <td>12667.000000</td>\n",
       "    </tr>\n",
       "  </tbody>\n",
       "</table>\n",
       "</div>"
      ],
      "text/plain": [
       "               Edad   Código DANE      Cantidad\n",
       "count  12623.000000  1.264600e+04  12647.000000\n",
       "mean      32.763131  3.725039e+07      2.003163\n",
       "std       12.995391  2.865510e+07    112.627825\n",
       "min        0.000000  5.001000e+06      1.000000\n",
       "25%       23.000000  1.100100e+07      1.000000\n",
       "50%       30.000000  2.538600e+07      1.000000\n",
       "75%       39.000000  6.827600e+07      1.000000\n",
       "max      100.000000  9.977300e+07  12667.000000"
      ]
     },
     "execution_count": 6,
     "metadata": {},
     "output_type": "execute_result"
    }
   ],
   "source": [
    "dataset.describe()"
   ]
  },
  {
   "cell_type": "code",
   "execution_count": 7,
   "metadata": {
    "ExecuteTime": {
     "end_time": "2020-05-22T23:18:42.669625Z",
     "start_time": "2020-05-22T23:18:42.664637Z"
    }
   },
   "outputs": [
    {
     "data": {
      "text/plain": [
       "array([    1,     2,     3, 12667], dtype=int64)"
      ]
     },
     "execution_count": 7,
     "metadata": {},
     "output_type": "execute_result"
    }
   ],
   "source": [
    "# see the unique values in the \"Edad\" variable\n",
    "dataset[\"Cantidad\"].unique()"
   ]
  },
  {
   "cell_type": "markdown",
   "metadata": {},
   "source": [
    "Potential issues:\n",
    "\n",
    "* The minimum age is implausibly low \n",
    "* The number of dead in one case is implausibly high"
   ]
  },
  {
   "cell_type": "markdown",
   "metadata": {},
   "source": [
    "### <font style=\"color:rgb(50,120,229)\">3.4. Solve the issues and make the neccesary changes</font>\n",
    "\n",
    "#### <font style=\"color:rgb(50,120,229)\">3.4.1. Delete the Cantidad variable outlier</font>"
   ]
  },
  {
   "cell_type": "code",
   "execution_count": 8,
   "metadata": {
    "ExecuteTime": {
     "end_time": "2020-05-22T23:18:42.782324Z",
     "start_time": "2020-05-22T23:18:42.672618Z"
    }
   },
   "outputs": [
    {
     "data": {
      "image/png": "[encoded data removed]",
      "text/plain": [
       "<Figure size 432x288 with 1 Axes>"
      ]
     },
     "metadata": {
      "needs_background": "light"
     },
     "output_type": "display_data"
    }
   ],
   "source": [
    "# See the outlier\n",
    "boxplot = dataset.boxplot(column=\"Cantidad\")"
   ]
  },
  {
   "cell_type": "code",
   "execution_count": 9,
   "metadata": {
    "ExecuteTime": {
     "end_time": "2020-05-22T23:18:42.801273Z",
     "start_time": "2020-05-22T23:18:42.783322Z"
    }
   },
   "outputs": [
    {
     "data": {
      "text/html": [
       "<div>\n",
       "<style scoped>\n",
       "    .dataframe tbody tr th:only-of-type {\n",
       "        vertical-align: middle;\n",
       "    }\n",
       "\n",
       "    .dataframe tbody tr th {\n",
       "        vertical-align: top;\n",
       "    }\n",
       "\n",
       "    .dataframe thead th {\n",
       "        text-align: right;\n",
       "    }\n",
       "</style>\n",
       "<table border=\"1\" class=\"dataframe\">\n",
       "  <thead>\n",
       "    <tr style=\"text-align: right;\">\n",
       "      <th></th>\n",
       "      <th>Fecha</th>\n",
       "      <th>Departamento</th>\n",
       "      <th>Municipio</th>\n",
       "      <th>Día</th>\n",
       "      <th>Hora</th>\n",
       "      <th>Barrio</th>\n",
       "      <th>Zona</th>\n",
       "      <th>Clase de sitio</th>\n",
       "      <th>Arma empleada</th>\n",
       "      <th>Móvil Agresor</th>\n",
       "      <th>Móvil Victima</th>\n",
       "      <th>Edad</th>\n",
       "      <th>Sexo</th>\n",
       "      <th>Estado civil</th>\n",
       "      <th>País de nacimiento</th>\n",
       "      <th>Clase de empleado</th>\n",
       "      <th>Profesión</th>\n",
       "      <th>Escolaridad</th>\n",
       "      <th>Código DANE</th>\n",
       "      <th>Cantidad</th>\n",
       "    </tr>\n",
       "  </thead>\n",
       "  <tbody>\n",
       "    <tr>\n",
       "      <th>12646</th>\n",
       "      <td>NaT</td>\n",
       "      <td>NaN</td>\n",
       "      <td>NaN</td>\n",
       "      <td>NaN</td>\n",
       "      <td>NaN</td>\n",
       "      <td>NaN</td>\n",
       "      <td>NaN</td>\n",
       "      <td>NaN</td>\n",
       "      <td>NaN</td>\n",
       "      <td>NaN</td>\n",
       "      <td>NaN</td>\n",
       "      <td>NaN</td>\n",
       "      <td>NaN</td>\n",
       "      <td>NaN</td>\n",
       "      <td>NaN</td>\n",
       "      <td>NaN</td>\n",
       "      <td>NaN</td>\n",
       "      <td>NaN</td>\n",
       "      <td>NaN</td>\n",
       "      <td>12667</td>\n",
       "    </tr>\n",
       "  </tbody>\n",
       "</table>\n",
       "</div>"
      ],
      "text/plain": [
       "      Fecha Departamento Municipio  Día Hora Barrio Zona Clase de sitio  \\\n",
       "12646   NaT          NaN       NaN  NaN  NaN    NaN  NaN            NaN   \n",
       "\n",
       "      Arma empleada Móvil Agresor Móvil Victima  Edad Sexo Estado civil  \\\n",
       "12646           NaN           NaN           NaN   NaN  NaN          NaN   \n",
       "\n",
       "      País de nacimiento Clase de empleado Profesión Escolaridad  Código DANE  \\\n",
       "12646                NaN               NaN       NaN         NaN          NaN   \n",
       "\n",
       "       Cantidad  \n",
       "12646     12667  "
      ]
     },
     "execution_count": 9,
     "metadata": {},
     "output_type": "execute_result"
    }
   ],
   "source": [
    "# Which row contains the outlier?\n",
    "outlier_row = dataset.query('Cantidad == 12667')\n",
    "outlier_row"
   ]
  },
  {
   "cell_type": "code",
   "execution_count": 10,
   "metadata": {
    "ExecuteTime": {
     "end_time": "2020-05-22T23:18:42.810249Z",
     "start_time": "2020-05-22T23:18:42.802270Z"
    }
   },
   "outputs": [],
   "source": [
    "# Delete the row with label 12646\n",
    "dataset = dataset.drop([12646], axis=0)"
   ]
  },
  {
   "cell_type": "code",
   "execution_count": 11,
   "metadata": {
    "ExecuteTime": {
     "end_time": "2020-05-22T23:18:42.833189Z",
     "start_time": "2020-05-22T23:18:42.812247Z"
    }
   },
   "outputs": [
    {
     "data": {
      "text/html": [
       "<div>\n",
       "<style scoped>\n",
       "    .dataframe tbody tr th:only-of-type {\n",
       "        vertical-align: middle;\n",
       "    }\n",
       "\n",
       "    .dataframe tbody tr th {\n",
       "        vertical-align: top;\n",
       "    }\n",
       "\n",
       "    .dataframe thead th {\n",
       "        text-align: right;\n",
       "    }\n",
       "</style>\n",
       "<table border=\"1\" class=\"dataframe\">\n",
       "  <thead>\n",
       "    <tr style=\"text-align: right;\">\n",
       "      <th></th>\n",
       "      <th>Edad</th>\n",
       "      <th>Código DANE</th>\n",
       "      <th>Cantidad</th>\n",
       "    </tr>\n",
       "  </thead>\n",
       "  <tbody>\n",
       "    <tr>\n",
       "      <th>count</th>\n",
       "      <td>12623.000000</td>\n",
       "      <td>1.264600e+04</td>\n",
       "      <td>12646.000000</td>\n",
       "    </tr>\n",
       "    <tr>\n",
       "      <th>mean</th>\n",
       "      <td>32.763131</td>\n",
       "      <td>3.725039e+07</td>\n",
       "      <td>1.001661</td>\n",
       "    </tr>\n",
       "    <tr>\n",
       "      <th>std</th>\n",
       "      <td>12.995391</td>\n",
       "      <td>2.865510e+07</td>\n",
       "      <td>0.042616</td>\n",
       "    </tr>\n",
       "    <tr>\n",
       "      <th>min</th>\n",
       "      <td>0.000000</td>\n",
       "      <td>5.001000e+06</td>\n",
       "      <td>1.000000</td>\n",
       "    </tr>\n",
       "    <tr>\n",
       "      <th>25%</th>\n",
       "      <td>23.000000</td>\n",
       "      <td>1.100100e+07</td>\n",
       "      <td>1.000000</td>\n",
       "    </tr>\n",
       "    <tr>\n",
       "      <th>50%</th>\n",
       "      <td>30.000000</td>\n",
       "      <td>2.538600e+07</td>\n",
       "      <td>1.000000</td>\n",
       "    </tr>\n",
       "    <tr>\n",
       "      <th>75%</th>\n",
       "      <td>39.000000</td>\n",
       "      <td>6.827600e+07</td>\n",
       "      <td>1.000000</td>\n",
       "    </tr>\n",
       "    <tr>\n",
       "      <th>max</th>\n",
       "      <td>100.000000</td>\n",
       "      <td>9.977300e+07</td>\n",
       "      <td>3.000000</td>\n",
       "    </tr>\n",
       "  </tbody>\n",
       "</table>\n",
       "</div>"
      ],
      "text/plain": [
       "               Edad   Código DANE      Cantidad\n",
       "count  12623.000000  1.264600e+04  12646.000000\n",
       "mean      32.763131  3.725039e+07      1.001661\n",
       "std       12.995391  2.865510e+07      0.042616\n",
       "min        0.000000  5.001000e+06      1.000000\n",
       "25%       23.000000  1.100100e+07      1.000000\n",
       "50%       30.000000  2.538600e+07      1.000000\n",
       "75%       39.000000  6.827600e+07      1.000000\n",
       "max      100.000000  9.977300e+07      3.000000"
      ]
     },
     "execution_count": 11,
     "metadata": {},
     "output_type": "execute_result"
    }
   ],
   "source": [
    "# The outiler was removed?\n",
    "dataset.describe()"
   ]
  },
  {
   "cell_type": "markdown",
   "metadata": {
    "ExecuteTime": {
     "end_time": "2020-05-22T19:24:05.011315Z",
     "start_time": "2020-05-22T19:24:03.410552Z"
    }
   },
   "source": [
    "#### <font style=\"color:rgb(50,120,229)\">3.4.2. Reformat the Hora variable</font>"
   ]
  },
  {
   "cell_type": "code",
   "execution_count": 12,
   "metadata": {
    "ExecuteTime": {
     "end_time": "2020-05-22T23:18:42.848147Z",
     "start_time": "2020-05-22T23:18:42.834186Z"
    }
   },
   "outputs": [
    {
     "data": {
      "text/plain": [
       "array([ 9,  8,  2,  3,  7,  5,  0, 18, 21, 10, 13, 22,  1,  6, 11,  4, 14,\n",
       "       12, 15, 19, 17, 16, 23, 20], dtype=int64)"
      ]
     },
     "execution_count": 12,
     "metadata": {},
     "output_type": "execute_result"
    }
   ],
   "source": [
    "dataset['Hora'] = pd.to_datetime(dataset['Hora'], format='%H:%M:%S').dt.hour\n",
    "dataset['Hora'].unique()"
   ]
  },
  {
   "cell_type": "markdown",
   "metadata": {
    "ExecuteTime": {
     "end_time": "2020-05-22T20:39:50.154223Z",
     "start_time": "2020-05-22T20:39:50.151230Z"
    }
   },
   "source": [
    "#### <font style=\"color:rgb(50,120,229)\">3.4.3. Analize the low values in Edad Variable</font>"
   ]
  },
  {
   "cell_type": "code",
   "execution_count": 13,
   "metadata": {
    "ExecuteTime": {
     "end_time": "2020-05-22T23:18:42.870089Z",
     "start_time": "2020-05-22T23:18:42.849144Z"
    }
   },
   "outputs": [
    {
     "data": {
      "text/html": [
       "<div>\n",
       "<style scoped>\n",
       "    .dataframe tbody tr th:only-of-type {\n",
       "        vertical-align: middle;\n",
       "    }\n",
       "\n",
       "    .dataframe tbody tr th {\n",
       "        vertical-align: top;\n",
       "    }\n",
       "\n",
       "    .dataframe thead th {\n",
       "        text-align: right;\n",
       "    }\n",
       "</style>\n",
       "<table border=\"1\" class=\"dataframe\">\n",
       "  <thead>\n",
       "    <tr style=\"text-align: right;\">\n",
       "      <th></th>\n",
       "      <th>Fecha</th>\n",
       "      <th>Departamento</th>\n",
       "      <th>Municipio</th>\n",
       "      <th>Día</th>\n",
       "      <th>Hora</th>\n",
       "      <th>Barrio</th>\n",
       "      <th>Zona</th>\n",
       "      <th>Clase de sitio</th>\n",
       "      <th>Arma empleada</th>\n",
       "      <th>Móvil Agresor</th>\n",
       "      <th>Móvil Victima</th>\n",
       "      <th>Edad</th>\n",
       "      <th>Sexo</th>\n",
       "      <th>Estado civil</th>\n",
       "      <th>País de nacimiento</th>\n",
       "      <th>Clase de empleado</th>\n",
       "      <th>Profesión</th>\n",
       "      <th>Escolaridad</th>\n",
       "      <th>Código DANE</th>\n",
       "      <th>Cantidad</th>\n",
       "    </tr>\n",
       "  </thead>\n",
       "  <tbody>\n",
       "    <tr>\n",
       "      <th>549</th>\n",
       "      <td>2018-01-17</td>\n",
       "      <td>ATLÁNTICO</td>\n",
       "      <td>BARRANQUILLA (CT)</td>\n",
       "      <td>Miércoles</td>\n",
       "      <td>6</td>\n",
       "      <td>SANTO DOMINGO DE GUZMAN</td>\n",
       "      <td>URBANA</td>\n",
       "      <td>DENTRO DE LA VIVIENDA</td>\n",
       "      <td>CONTUNDENTES</td>\n",
       "      <td>A PIE</td>\n",
       "      <td>A PIE</td>\n",
       "      <td>0.0</td>\n",
       "      <td>MASCULINO</td>\n",
       "      <td>SOLTERO</td>\n",
       "      <td>COLOMBIA</td>\n",
       "      <td>DESEMPLEADO</td>\n",
       "      <td>NaN</td>\n",
       "      <td>NO REPORTADO</td>\n",
       "      <td>8001000.0</td>\n",
       "      <td>1</td>\n",
       "    </tr>\n",
       "    <tr>\n",
       "      <th>967</th>\n",
       "      <td>2018-01-28</td>\n",
       "      <td>ANTIOQUIA</td>\n",
       "      <td>SEGOVIA</td>\n",
       "      <td>Domingo</td>\n",
       "      <td>19</td>\n",
       "      <td>GALAN</td>\n",
       "      <td>URBANA</td>\n",
       "      <td>LOTE BALDIO</td>\n",
       "      <td>CONTUNDENTES</td>\n",
       "      <td>A PIE</td>\n",
       "      <td>A PIE</td>\n",
       "      <td>0.0</td>\n",
       "      <td>MASCULINO</td>\n",
       "      <td>SOLTERO</td>\n",
       "      <td>COLOMBIA</td>\n",
       "      <td>DESEMPLEADO</td>\n",
       "      <td>NaN</td>\n",
       "      <td>ANALFABETA</td>\n",
       "      <td>5736000.0</td>\n",
       "      <td>1</td>\n",
       "    </tr>\n",
       "    <tr>\n",
       "      <th>5251</th>\n",
       "      <td>2018-05-31</td>\n",
       "      <td>ATLÁNTICO</td>\n",
       "      <td>BARRANQUILLA (CT)</td>\n",
       "      <td>Jueves</td>\n",
       "      <td>5</td>\n",
       "      <td>REBOLO</td>\n",
       "      <td>URBANA</td>\n",
       "      <td>CASAS DE HABITACION</td>\n",
       "      <td>CONTUNDENTES</td>\n",
       "      <td>A PIE</td>\n",
       "      <td>A PIE</td>\n",
       "      <td>0.0</td>\n",
       "      <td>MASCULINO</td>\n",
       "      <td>SOLTERO</td>\n",
       "      <td>COLOMBIA</td>\n",
       "      <td>DESEMPLEADO</td>\n",
       "      <td>NaN</td>\n",
       "      <td>ANALFABETA</td>\n",
       "      <td>8001000.0</td>\n",
       "      <td>1</td>\n",
       "    </tr>\n",
       "    <tr>\n",
       "      <th>10179</th>\n",
       "      <td>2018-10-24</td>\n",
       "      <td>ANTIOQUIA</td>\n",
       "      <td>VIGÍA DEL FUERTE</td>\n",
       "      <td>Miércoles</td>\n",
       "      <td>0</td>\n",
       "      <td>LOS MANGUITOS</td>\n",
       "      <td>RURAL</td>\n",
       "      <td>FINCAS Y SIMILARES</td>\n",
       "      <td>ARMA BLANCA / CORTOPUNZANTE</td>\n",
       "      <td>A PIE</td>\n",
       "      <td>A PIE</td>\n",
       "      <td>0.0</td>\n",
       "      <td>MASCULINO</td>\n",
       "      <td>SOLTERO</td>\n",
       "      <td>COLOMBIA</td>\n",
       "      <td>EMPLEADO PARTICULAR</td>\n",
       "      <td>NaN</td>\n",
       "      <td>ANALFABETA</td>\n",
       "      <td>5873000.0</td>\n",
       "      <td>1</td>\n",
       "    </tr>\n",
       "  </tbody>\n",
       "</table>\n",
       "</div>"
      ],
      "text/plain": [
       "           Fecha Departamento          Municipio        Día  Hora  \\\n",
       "549   2018-01-17    ATLÁNTICO  BARRANQUILLA (CT)  Miércoles     6   \n",
       "967   2018-01-28    ANTIOQUIA            SEGOVIA    Domingo    19   \n",
       "5251  2018-05-31    ATLÁNTICO  BARRANQUILLA (CT)     Jueves     5   \n",
       "10179 2018-10-24    ANTIOQUIA   VIGÍA DEL FUERTE  Miércoles     0   \n",
       "\n",
       "                        Barrio    Zona         Clase de sitio  \\\n",
       "549    SANTO DOMINGO DE GUZMAN  URBANA  DENTRO DE LA VIVIENDA   \n",
       "967                      GALAN  URBANA            LOTE BALDIO   \n",
       "5251                    REBOLO  URBANA    CASAS DE HABITACION   \n",
       "10179            LOS MANGUITOS   RURAL     FINCAS Y SIMILARES   \n",
       "\n",
       "                     Arma empleada Móvil Agresor Móvil Victima  Edad  \\\n",
       "549                   CONTUNDENTES         A PIE         A PIE   0.0   \n",
       "967                   CONTUNDENTES         A PIE         A PIE   0.0   \n",
       "5251                  CONTUNDENTES         A PIE         A PIE   0.0   \n",
       "10179  ARMA BLANCA / CORTOPUNZANTE         A PIE         A PIE   0.0   \n",
       "\n",
       "            Sexo Estado civil País de nacimiento    Clase de empleado  \\\n",
       "549    MASCULINO      SOLTERO           COLOMBIA          DESEMPLEADO   \n",
       "967    MASCULINO      SOLTERO           COLOMBIA          DESEMPLEADO   \n",
       "5251   MASCULINO      SOLTERO           COLOMBIA          DESEMPLEADO   \n",
       "10179  MASCULINO      SOLTERO           COLOMBIA  EMPLEADO PARTICULAR   \n",
       "\n",
       "      Profesión   Escolaridad  Código DANE  Cantidad  \n",
       "549         NaN  NO REPORTADO    8001000.0         1  \n",
       "967         NaN    ANALFABETA    5736000.0         1  \n",
       "5251        NaN    ANALFABETA    8001000.0         1  \n",
       "10179       NaN    ANALFABETA    5873000.0         1  "
      ]
     },
     "execution_count": 13,
     "metadata": {},
     "output_type": "execute_result"
    }
   ],
   "source": [
    "# Which row contains 0 age\n",
    "row0s = dataset.query('Edad == 0')\n",
    "row0s"
   ]
  },
  {
   "cell_type": "markdown",
   "metadata": {},
   "source": [
    "By looking at the variables **Estado civil**, **Clase de empleado**, and **Escolaridad**, It is possible to conclude that the victim is a minor under the age of one. so these lines will be maintained"
   ]
  },
  {
   "cell_type": "markdown",
   "metadata": {},
   "source": [
    "#### <font style=\"color:rgb(50,120,229)\">3.4.4. See the unique values in each of the remaining categorical variables</font>"
   ]
  },
  {
   "cell_type": "code",
   "execution_count": 14,
   "metadata": {
    "ExecuteTime": {
     "end_time": "2020-05-22T23:18:42.879064Z",
     "start_time": "2020-05-22T23:18:42.873080Z"
    }
   },
   "outputs": [
    {
     "data": {
      "text/plain": [
       "array(['AMAZONAS', 'ANTIOQUIA', 'ATLÁNTICO', 'BOLÍVAR', 'BOYACÁ',\n",
       "       'CALDAS', 'CASANARE', 'CAUCA', 'CHOCÓ', 'CÓRDOBA', 'CUNDINAMARCA',\n",
       "       'GUAJIRA', 'HUILA', 'MAGDALENA', 'NARIÑO', 'NORTE DE SANTANDER',\n",
       "       'QUINDÍO', 'SANTANDER', 'SUCRE', 'VALLE', 'CAQUETÁ', 'CESAR',\n",
       "       'META', 'RISARALDA', 'TOLIMA', 'PUTUMAYO', 'VICHADA', 'ARAUCA',\n",
       "       'SAN ANDRÉS', 'GUAVIARE', 'VAUPÉS', 'GUAINÍA'], dtype=object)"
      ]
     },
     "execution_count": 14,
     "metadata": {},
     "output_type": "execute_result"
    }
   ],
   "source": [
    "# Departamento\n",
    "dataset[\"Departamento\"].unique()"
   ]
  },
  {
   "cell_type": "code",
   "execution_count": 15,
   "metadata": {
    "ExecuteTime": {
     "end_time": "2020-05-22T23:18:42.887048Z",
     "start_time": "2020-05-22T23:18:42.880062Z"
    }
   },
   "outputs": [
    {
     "data": {
      "text/plain": [
       "array(['LETICIA (CT)', 'ANDES', 'ANORÍ', 'CAUCASIA', 'HISPANIA', 'ITAGUI',\n",
       "       'MEDELLÍN (CT)', 'TURBO', 'VEGACHÍ', 'CANDELARIA', 'SOLEDAD',\n",
       "       'CARTAGENA (CT)', 'EL CARMEN DE BOLÍVAR', 'SOGAMOSO',\n",
       "       'MANIZALES (CT)', 'SAN LUIS DE PALENQUE', 'EL TAMBO', 'PAEZ',\n",
       "       'POPAYÁN (CT)', 'PUERTO TEJADA', 'EL CARMEN DE ATRATO',\n",
       "       'MONTERÍA (CT)', 'SAHAGÚN', 'BOGOTÁ D.C. (CT)', 'FACATATIVÁ',\n",
       "       'RIOHACHA (CT)', 'ISNOS', 'PLATO', 'SANTA MARTA (CT)',\n",
       "       'EL TABLÓN DE GÓMEZ', 'PASTO (CT)', 'SAN ANDRES DE TUMACO',\n",
       "       'PAMPLONA', 'MONTENEGRO', 'BUCARAMANGA (CT)', 'FLORIDABLANCA',\n",
       "       'PIEDECUESTA', 'SANTIAGO DE TOLÚ', 'SINCELEJO (CT)',\n",
       "       'BUENAVENTURA', 'CALI (CT)', 'LA UNIÓN', 'LA VICTORIA', 'BARBOSA',\n",
       "       'SALGAR', 'YARUMAL', 'SANTA ROSA', 'TIQUISIO', 'AGUADAS',\n",
       "       'CARTAGENA DEL CHAIRÁ', 'VALLEDUPAR (CT)', 'SAN JOSÉ DEL PALMAR',\n",
       "       'SOACHA', 'VERGARA', 'PALERMO', 'ZONA BANANERA',\n",
       "       'PUERTO CONCORDIA', 'BARBACOAS', 'ARMENIA (CT)', 'CALARCA',\n",
       "       'PEREIRA (CT)', 'RIOFRÍO', 'YUMBO', 'CHIGORODÓ',\n",
       "       'BARRANQUILLA (CT)', 'CALOTO', 'SAN ALBERTO', 'MEDIO ATRATO',\n",
       "       'NÓVITA', 'VILLAVICENCIO (CT)', 'CÚCUTA (CT)', 'DOSQUEBRADAS',\n",
       "       'SANTA ROSA DE CABAL', 'PUERTO PARRA', 'IBAGUÉ (CT)', 'PALMIRA',\n",
       "       'DABEIBA', 'GIRALDO', 'JERICÓ', 'SEGOVIA', 'EL COCUY', 'BOLÍVAR',\n",
       "       'PATÍA', 'CURUMANÍ', 'PLANETA RICA', 'CHÍA', 'PAICOL',\n",
       "       'LA MACARENA', 'MARIQUITA', 'CARTAGO', 'CAÑASGORDAS', 'CAREPA',\n",
       "       'RETIRO', 'RIONEGRO', 'LA DORADA', 'FLORENCIA (CT)', 'EL BANCO',\n",
       "       'LA VIRGINIA', 'SAN GIL', 'EL CERRITO', 'CÁCERES', 'SANTA BÁRBARA',\n",
       "       'ALMAGUER', 'SANTANDER DE QUILICHAO', 'TOTORÓ', 'QUIBDÓ (CT)',\n",
       "       'BUENAVISTA', 'CAMPOALEGRE', 'SAMANIEGO', 'TEORAMA', 'JAMUNDÍ',\n",
       "       'SANTO DOMINGO', 'YALÍ', 'MARÍA LA BAJA', 'BELALCÁZAR',\n",
       "       'VILLA RICA', 'TIERRALTA', 'SAN AGUSTÍN', 'PUERTO LEGUÍZAMO',\n",
       "       'OIBA', 'FLANDES', 'PUERTO CARREÑO (CT)', 'TOLEDO', 'NEIRA',\n",
       "       'SAN JOSÉ DEL FRAGUA', 'BUENOS AIRES', 'UNGUÍA', 'APULO', 'MAICAO',\n",
       "       'GARZÓN', 'POLICARPA', 'VILLA DEL ROSARIO', 'PUERTO ASÍS',\n",
       "       'CISNEROS', 'TARAZÁ', 'URRAO', 'PUERTO LIBERTADOR', 'COVEÑAS',\n",
       "       'BELLO', 'ARAUCA (CT)', 'CHINCHINÁ', 'AGUAZUL', 'BALBOA', 'ROVIRA',\n",
       "       'BUGALAGRANDE', 'CIUDAD BOLÍVAR', 'LA MONTAÑITA',\n",
       "       'AGUSTÍN CODAZZI', 'SAN ANTONIO DEL TEQUENDAMA', 'TIBÚ',\n",
       "       'QUIMBAYA', 'ESPINAL', 'PIENDAMÓ', 'NEIVA (CT)', 'RESTREPO',\n",
       "       'VISTAHERMOSA', 'MOSQUERA', 'PUERTO SANTANDER', 'PUERTO GUZMÁN',\n",
       "       'PUERTO BERRÍO', 'PUERTO TRIUNFO', 'SAN JERÓNIMO', 'CAJIBÍO',\n",
       "       'MERCADERES', 'TORIBIO', 'AYAPEL', 'CIÉNAGA DE ORO', 'LEJANÍAS',\n",
       "       'ORITO', 'BARRANCABERMEJA', 'ANSERMANUEVO', 'GUADALAJARA DE BUGA',\n",
       "       'APARTADÓ', 'GIRARDOTA', 'MILÁN', 'ARGELIA', 'SAN ANTERO',\n",
       "       'ZIPAQUIRÁ', 'SAN JUAN DEL CESAR', 'ALGARROBO', 'LA CRUZ',\n",
       "       'SAN LORENZO', 'ABREGO', 'PUERTO CAICEDO', 'FRESNO', 'ANDALUCÍA',\n",
       "       'SEVILLA', 'ITUANGO', 'TÁMESIS', 'SABANALARGA', 'GUACHENÉ',\n",
       "       'GONZÁLEZ', 'ACANDÍ', 'SAN JUAN DE RÍO SECO', 'PUERTO LÓPEZ',\n",
       "       'MALLAMA', 'OLAYA HERRERA', 'BELÉN DE UMBRÍA', 'COROZAL',\n",
       "       'GUACARÍ', 'BURITICÁ', 'PEQUE', 'VENECIA', 'YOLOMBÓ', 'FORTUL',\n",
       "       'SARAVENA', 'CANTAGALLO', 'ANSERMA', 'SAN PELAYO', 'CIMITARRA',\n",
       "       'PUENTE NACIONAL', 'RIOBLANCO', 'ENVIGADO', 'SANTAFÉ DE ANTIOQUIA',\n",
       "       'YONDÓ', 'CERINZA', 'PAILITAS', 'MELGAR', 'VILLAHERMOSA',\n",
       "       'ARAUQUITA', 'SAN JOSÉ DE URÉ', 'COYAIMA', 'OBANDO', 'VALPARAÍSO',\n",
       "       'SAN ESTANISLAO', 'TUNJA (CT)', 'TIMBÍO', 'EL COLEGIO', 'RIVERA',\n",
       "       'SARDINATA', 'DON MATÍAS', 'MARINILLA', 'NARIÑO', 'SAN LUIS',\n",
       "       'TUTAZÁ', 'CONDOTO', 'CHIPAQUE', 'LA CALERA', 'CUMBAL',\n",
       "       'CHINÁCOTA', 'ICONONZO', 'SAN PEDRO', 'ANGELÓPOLIS', 'VALDIVIA',\n",
       "       'ZARAGOZA', 'SOLANO', 'MIRANDA', 'COTORRA', 'MONTELÍBANO',\n",
       "       'PUERTO SALGAR', 'MISTRATÓ', 'CALIMA', 'ZARZAL',\n",
       "       'EL CARMEN DE VIBORAL', 'FRONTINO', 'ARJONA', 'UMBITA', 'SUPÍA',\n",
       "       'TIMBIQUÍ', 'BOSCONIA', 'IPIALES', 'BUCARASICA', 'NECHÍ', 'TAME',\n",
       "       'VILLAPINZÓN', 'PITALITO', 'VALLE DEL GUAMUEZ', 'REMEDIOS',\n",
       "       'ARENAL', 'DUITAMA', 'LA VEGA', 'EL ZULIA', 'ANZOÁTEGUI',\n",
       "       'GÓMEZ PLATA', 'SANTA ROSA DE OSOS', 'GIRARDOT', 'SANTACRUZ',\n",
       "       'LA TEBAIDA', 'APÍA', 'SAN MARCOS', 'SUCRE', 'FLORIDA',\n",
       "       'COPACABANA', 'MALAMBO', 'CORINTO', 'SAN CARLOS', 'DIBULLA',\n",
       "       'SANTA ROSA DEL SUR', 'LÓPEZ', 'VILLA DE SAN DIEGO DE UBATE',\n",
       "       'ALBANIA', 'ACACÍAS', 'BRICEÑO', 'BARANOA', 'RAMIRIQUÍ', 'GAMARRA',\n",
       "       'CÉRTEGUI', 'ARACATACA', 'VILLAGARZÓN', 'SAN ANDRÉS (CT)',\n",
       "       'BELÉN DE LOS ANDAQUIES', 'EL PASO', 'COTA', 'OCAÑA', 'GUAMO',\n",
       "       'CALDAS', 'MUTATÁ', 'MANAURE', 'PUERTO RICO', 'LA FLORIDA',\n",
       "       'SAN CALIXTO', 'SANTUARIO', 'SAN JUAN NEPOMUCENO', 'FONSECA',\n",
       "       'PIVIJAY', 'MORROA', 'BETANIA', 'MANZANARES', 'CURILLO', 'LA MESA',\n",
       "       'PUEBLO RICO', 'MAJAGUAL', 'LA CUMBRE', 'NECOCLÍ', 'CHOACHÍ',\n",
       "       'MOCOA (CT)', 'CAMPAMENTO', 'SAN VICENTE DEL CAGUÁN', 'GUADUAS',\n",
       "       'LA CEJA', 'LA ESTRELLA', 'MACEO', 'SANTO TOMÁS', 'CALDONO',\n",
       "       'INZÁ', 'LORICA', 'MESETAS', 'TÚQUERRES', 'PRADERA', 'SAN PABLO',\n",
       "       'URIBIA', 'TULUÁ', 'EL BAGRE', 'MONTECRISTO', 'SITIONUEVO',\n",
       "       'VILLANUEVA', 'GALAPA', 'TORO', 'HELICONIA', 'TOCA', 'VILLAMARÍA',\n",
       "       'CIÉNAGA', 'FRANCISCO PIZARRO', 'AMALFI', 'COCORNÁ', 'SANTA MARÍA',\n",
       "       'GUAPI', 'MADRID', 'SAN ONOFRE', 'SABANETA', 'SABANAGRANDE',\n",
       "       'PUERTO BOYACÁ', 'MARULANDA', 'EL PAUJIL', 'YOPAL (CT)',\n",
       "       'BECERRIL', 'ANAPOIMA', 'EL ROSAL', 'SAN FRANCISCO',\n",
       "       'SAN JOSÉ DEL GUAVIARE (CT)', 'ACEVEDO', 'YAGUARÁ', 'GUAMAL',\n",
       "       'EL CHARCO', 'YACUANQUER', 'EL TARRA', 'OLAYA', 'AGUACHICA',\n",
       "       'ABEJORRAL', 'SONSON', 'LURUACO', 'SAN MARTÍN', 'CHINÚ', 'PAIME',\n",
       "       'GIRÓN', 'LA PAZ', 'CLEMENCIA', 'GUACA', 'CHAPARRAL', 'MAGANGUÉ',\n",
       "       'EL ROSARIO', 'LEIVA', 'CUCUTILLA', 'EL CARMEN', 'SUÁREZ',\n",
       "       'PUEBLO BELLO', 'SAMPUÉS', 'CAICEDONIA', 'SOPETRÁN', 'CERETÉ',\n",
       "       'SAN MIGUEL', 'ROLDANILLO', 'PEÑOL', 'CHIMICHAGUA',\n",
       "       'EL LITORAL DEL SAN JUAN', 'HACARÍ', 'BARRANCO DE LOBA', 'SIMITÍ',\n",
       "       'GRANADA', 'DOLORES', 'CAICEDO', 'TURBACO', 'MUZO', 'LEBRIJA',\n",
       "       'PURIFICACIÓN', 'JARDÍN', 'CALAMAR', 'EL PEÑOL', 'MOMPÓS',\n",
       "       'MORALES', 'CONCORDIA', 'PUERTO NARE', 'BAHÍA SOLANO',\n",
       "       'CONVENCIÓN', 'SAN ANTONIO', 'CHIQUINQUIRÁ', 'LOS PATIOS',\n",
       "       'GUARANDA', 'SALADOBLANCO', 'LOS PALMITOS', 'SAN ROQUE',\n",
       "       'ALGECIRAS', 'FILANDIA', 'NOROSÍ', 'ATRATO', 'SANTA ANA',\n",
       "       'SAN BERNARDO', 'YOTOCO', 'RIOSUCIO', 'SAN BENITO ABAD', 'HONDA',\n",
       "       'SIBUNDOY', 'BETULIA', 'SAN CARLOS DE GUAROA', 'ALCALÁ', 'MARMATO',\n",
       "       'PALESTINA', 'EL ÁGUILA', 'BAJO BAUDÓ', 'LÍBANO', 'CUMARIBO',\n",
       "       'TUCHÍN', 'CAJICÁ', 'VITERBO', 'SOPÓ', 'LA JAGUA DE IBIRICO',\n",
       "       'ISTMINA', 'NILO', 'CRAVO NORTE', 'PUERTO COLOMBIA', 'VILLETA',\n",
       "       'MIRAFLORES', 'GIGANTE', 'PROVIDENCIA', 'GRAMALOTE', 'ARMERO',\n",
       "       'TAURAMENA', 'LOS CÓRDOBAS', 'GUADALUPE', 'BOCHALEMA',\n",
       "       'VILLA DE LEYVA', 'PENSILVANIA', 'CHIRIGUANÁ', 'BARRANCAS',\n",
       "       'GÉNOVA', 'CHITARAQUE', 'BARAYA', 'RICAURTE', 'SAN VICENTE',\n",
       "       'AIPE', 'CASABIANCA', 'EL CAIRO', 'AMAGÁ', 'LA APARTADA',\n",
       "       'PUERTO RONDÓN', 'LA PRIMAVERA', 'FUSAGASUGÁ', 'FUNDACIÓN',\n",
       "       'DAGUA', 'ROSAS', 'PELAYA', 'MAPIRIPÁN', 'SANTIAGO', 'PISBA',\n",
       "       'EL PIÑON', 'CIRCASIA', 'RONCESVALLES', 'PIAMONTE', 'JUNÍN',\n",
       "       'NEMOCÓN', 'AMBALEMA', 'CHALÁN', 'URAMITA', 'PUERTO ESCONDIDO',\n",
       "       'SIBATÉ', 'ILES', 'PLANADAS', 'MITÚ (CT)', 'BAGADÓ',\n",
       "       'PUEBLO NUEVO', 'SAN PEDRO DE URABÁ', 'FUNES', 'JESÚS MARÍA',\n",
       "       'FREDONIA', 'MAGÜI', 'FUNZA', 'URUMITA', 'SALDAÑA', 'LA PINTADA',\n",
       "       'IQUIRA', 'URIBE', 'EL DONCELLO', 'CACHIPAY', 'SAMACÁ', 'LA PLATA',\n",
       "       'SAN ZENÓN', 'PUERTO WILCHES', 'VENADILLO', 'CHOCONTÁ', 'CICUCO',\n",
       "       'ANCUYÁ', 'ANGOSTURA', 'RECETOR', 'LA ESPERANZA', 'TRUJILLO',\n",
       "       'ARMENIA', 'SIPÍ', 'ATACO', 'EL COPEY',\n",
       "       'SAN SEBASTIÁN DE BUENAVISTA', 'ARIGUANÍ', 'PUPIALES', 'GUACHETÁ',\n",
       "       'MONTEBELLO', 'TIMANÁ', 'ALTOS DEL ROSARIO', 'SUBACHOQUE',\n",
       "       'VALLE DE SAN JUAN', 'MARQUETALIA', 'LA PEÑA', 'GUARNE', 'BOJAYÁ',\n",
       "       'LINARES', 'TAMINANGO', 'CHITAGÁ', 'TADÓ', 'MURILLO', 'QUINCHÍA',\n",
       "       'FUENTE DE ORO', 'MARSELLA', 'SOCORRO', 'TARQUI', 'CABRERA',\n",
       "       'LA ARGENTINA', 'PALOCABILDO', 'EL DOVIO', 'PUEBLORRICO',\n",
       "       'GUAYABAL DE SIQUIMA', 'UBALÁ', 'HATONUEVO', 'PUERRES',\n",
       "       'ARBOLETES', 'SAN FERNANDO', 'SANTA BÁRBARA DE PINTO', 'CURITÍ',\n",
       "       'SAMANÁ', 'ARBOLEDA', 'AGUA DE DIOS', 'CUBARÁ', 'SABOYÁ',\n",
       "       'INÍRIDA (CT)', 'JUAN DE ACOSTA', 'NUNCHÍA', 'SOCOTÁ',\n",
       "       'CARMEN DEL DARIEN', 'LENGUAZAQUE', 'SABANA DE TORRES', 'COELLO',\n",
       "       'CHITA', 'QUÍPAMA', 'MOÑITOS', 'CAJAMARCA', 'FALAN',\n",
       "       'CAMPO DE LA CRUZ', 'SANTA ROSALÍA', 'VALENCIA', 'CANALETE',\n",
       "       'ANOLAIMA', 'PUERTO GAITÁN', 'LA PLAYA', 'EL SANTUARIO', 'GUAYATÁ',\n",
       "       'SAN SEBASTIÁN', 'SAN BERNARDO DEL VIENTO', 'EL CARMEN DE CHUCURÍ',\n",
       "       'PIJIÑO DEL CARMEN', 'TENERIFE', 'SAN ANDRÉS', 'HOBO', 'TANGUA',\n",
       "       'PALMAR DE VARELA', 'GUÁTICA', 'EL RETÉN', 'AQUITANIA',\n",
       "       'SAN DIEGO', 'RÍO QUITO', 'PEDRAZA', 'ROBERTO PAYÁN', 'FLORENCIA',\n",
       "       'LA GLORIA', 'VILLAVIEJA', 'LA TOLA', 'CARMEN DE APICALÁ',\n",
       "       'PINILLOS', 'OTANCHE', 'EL RETORNO', 'ULLOA', 'MAHATES',\n",
       "       'TITIRIBÍ', 'GALERAS', 'SAN JUAN DE BETULIA', 'PORE', 'SOTARA',\n",
       "       'GACHANCIPÁ', 'PULÍ', 'SASAIMA', 'SAN JOAQUÍN', 'LÉRIDA', 'TUTA',\n",
       "       'GÜICÁN', 'CARACOLÍ', 'LA SIERRA', 'PADILLA', 'BUESACO', 'MURINDÓ',\n",
       "       'EBÉJICO', 'PURÍSIMA', 'EL PEÑÓN', 'PONEDERA', 'PITAL',\n",
       "       'SAN CAYETANO', 'TERUEL', 'DURANIA', 'PUERTO LLERAS', 'RAGONVALIA',\n",
       "       'SANTA CATALINA', 'LOS ANDES', 'JURADÓ', 'MANÍ', 'REPELÓN',\n",
       "       'ASTREA', 'GUATEQUE', 'FILADELFIA', 'SOLITA', 'SUESCA', 'ANZA',\n",
       "       'TELLO', 'TARSO', 'SIMACOTA', 'CÓRDOBA', 'VIJES', 'LIBORINA',\n",
       "       'RÁQUIRA', 'SAN EDUARDO', 'QUIPILE', 'UNIÓN PANAMERICANA',\n",
       "       'ARBELÁEZ', 'MEDIO BAUDÓ', 'GAMBITA', 'JAMBALÓ', 'ACHÍ',\n",
       "       'VIGÍA DEL FUERTE', 'CAPARRAPÍ', 'SAN MARTÍN DE LOBA',\n",
       "       'SAN ANDRÉS SOTAVENTO', 'CUASPUD', 'PIJAO', 'SUTATAUSA', 'ORTEGA',\n",
       "       'LLORÓ', 'SANTA LUCÍA', 'VIOTÁ', 'RÍO DE ORO', 'POLONUEVO',\n",
       "       'SUAZA', 'SAN LUIS DE GACENO', 'CUCUNUBÁ', 'PUERTO NARIÑO',\n",
       "       'BITUIMA', 'GUACHUCAL', 'POTOSÍ', 'HATO COROZAL', 'TENJO',\n",
       "       'CÓMBITA', 'MONTERREY', 'ALPUJARRA', 'ALDANA', 'VERSALLES',\n",
       "       'TÁMARA', 'PASCA', 'LA CELIA', 'CHIMÁ', 'SAN VICENTE DE CHUCURÍ',\n",
       "       'PAZ DE ARIPORO', 'COPER', 'GACHETÁ', 'OPORAPA', 'LABRANZAGRANDE',\n",
       "       'MONIQUIRÁ', 'CUMBITARA', 'ENTRERRIOS', 'ALBÁN', 'HERVEO',\n",
       "       'VILLA CARO', 'SAN ANDRÉS DE CUERQUÍA', 'SÁCHICA', 'MACHETA',\n",
       "       'SAN JUAN DE URABÁ', 'TOPAIPÍ', 'EL CASTILLO', 'CUMARAL', 'TASCO',\n",
       "       'SALAMINA', 'GUAITARILLA', 'PAJARITO', 'LA MERCED',\n",
       "       'EL CANTÓN DEL SAN PABLO', 'NOCAIMA', 'ARROYOHONDO', 'YACOPÍ',\n",
       "       'SALENTO', 'TOCAIMA', 'SIMIJACA', 'UNE', 'PÁRAMO', 'PRADO',\n",
       "       'TURBANÁ', 'USIACURÍ', 'CERRITO', 'VICTORIA', 'COLOMBIA',\n",
       "       'SUTATENZA', 'SANDONÁ', 'CABUYARO', 'SAN LUIS DE SINCÉ'],\n",
       "      dtype=object)"
      ]
     },
     "execution_count": 15,
     "metadata": {},
     "output_type": "execute_result"
    }
   ],
   "source": [
    "# Municipio\n",
    "dataset[\"Municipio\"].unique()"
   ]
  },
  {
   "cell_type": "code",
   "execution_count": 16,
   "metadata": {
    "ExecuteTime": {
     "end_time": "2020-05-22T23:18:42.896021Z",
     "start_time": "2020-05-22T23:18:42.889047Z"
    }
   },
   "outputs": [
    {
     "data": {
      "text/plain": [
       "array(['Lunes', 'Martes', 'Miércoles', 'Jueves', 'Viernes', 'Sábado',\n",
       "       'Domingo'], dtype=object)"
      ]
     },
     "execution_count": 16,
     "metadata": {},
     "output_type": "execute_result"
    }
   ],
   "source": [
    "# Dia\n",
    "dataset[\"Día\"].unique()"
   ]
  },
  {
   "cell_type": "code",
   "execution_count": 17,
   "metadata": {
    "ExecuteTime": {
     "end_time": "2020-05-22T23:18:42.903001Z",
     "start_time": "2020-05-22T23:18:42.898016Z"
    }
   },
   "outputs": [
    {
     "data": {
      "text/plain": [
       "array(['ESPERANZA', 'ALTO DEL CEDRON', 'PARQUE PRINCIPAL', ...,\n",
       "       'LA CEIBA (SALADO)', 'CGTO.SABALETAS', 'INVASION LA PLAYITA E24'],\n",
       "      dtype=object)"
      ]
     },
     "execution_count": 17,
     "metadata": {},
     "output_type": "execute_result"
    }
   ],
   "source": [
    "# Barrio\n",
    "dataset[\"Barrio\"].unique()"
   ]
  },
  {
   "cell_type": "code",
   "execution_count": 18,
   "metadata": {
    "ExecuteTime": {
     "end_time": "2020-05-22T23:18:42.909981Z",
     "start_time": "2020-05-22T23:18:42.904995Z"
    }
   },
   "outputs": [
    {
     "data": {
      "text/plain": [
       "array(['URBANA', 'RURAL'], dtype=object)"
      ]
     },
     "execution_count": 18,
     "metadata": {},
     "output_type": "execute_result"
    }
   ],
   "source": [
    "# Zona \n",
    "dataset[\"Zona\"].unique()"
   ]
  },
  {
   "cell_type": "code",
   "execution_count": 19,
   "metadata": {
    "ExecuteTime": {
     "end_time": "2020-05-22T23:18:42.916963Z",
     "start_time": "2020-05-22T23:18:42.910979Z"
    },
    "scrolled": true
   },
   "outputs": [
    {
     "data": {
      "text/plain": [
       "array(['VIAS PUBLICAS', 'PARQUES', 'BARES, CANTINAS Y SIMILARES',\n",
       "       'TRAMO DE VIA', 'ESTABLECIMIENTO PUBLICO',\n",
       "       'FRENTE A RESIDENCIAS - VIA PUBLICA', 'FINCAS Y SIMILARES',\n",
       "       'CARRETERA', 'CASAS DE HABITACION', 'CAÑOS',\n",
       "       'FRENTE A ALMACEN - VIA PUBLICA', 'FRENTE A DISCOTECAS',\n",
       "       'CANCHA DE FUTBOL', 'TIENDA', 'GALLERA', 'BOSQUES', 'CEMENTERIO',\n",
       "       'DENTRO DE LA VIVIENDA', 'HOSPITALES', 'PARQUEADERO',\n",
       "       'INTERIOR VEHICULO PARTICULAR', 'RIVERAS', 'TALLERES MECANICA',\n",
       "       'RIOS', 'CULTIVOS', 'SALON COMUNAL', 'MONTALLANTAS',\n",
       "       'INSTALACIONES DE LA POLICIA', 'TROCHA', 'LOTE BALDIO',\n",
       "       'INTERIOR VEHICULO SERVICIO PUBLICO', 'BODEGAS Y SIMILARES',\n",
       "       'SOBRE ANDEN - VIA PUBLICA', 'INSTALACIONES DEL EJERCITO',\n",
       "       'PANADERIAS', 'PELUQUERIA Y SIMILARES',\n",
       "       'HOTELES, RESIDENCIAS, Y SIMILARES.', 'TALLERES',\n",
       "       'LOCAL COMERCIAL', 'QUEBRADA', 'LAGUNAS',\n",
       "       'LICORERA/ESTANCO 24 HORAS', 'DISCOTECAS', 'POTREROS',\n",
       "       'APARTAMENTO', 'RESTAURANTES', 'CARCELES', 'CALLEJÓN', 'CABAÑA',\n",
       "       'FRENTE IGLESIA - VIA PUBLICA', 'ESTADERO',\n",
       "       'FRENTE CENTRO COMERCIAL', 'HACIENDA', 'BILLARES', 'CASINOS',\n",
       "       'MAR', 'CANALIZACION', 'RANCHERIA', 'RESGUARDO INDÍGENA', 'MINA',\n",
       "       'ESTACIONES DE SERVICIO', 'LAVA-AUTOS', 'CANCHAS DE TEJO',\n",
       "       'PUENTE PEATONAL', 'SENDERO PEATONAL', 'PUENTE',\n",
       "       'MUELLE TURISTICO', 'SECTOR COMERCIO', 'GRANEROS',\n",
       "       'CASETA COMUNAL', 'COLEGIOS, ESCUELAS',\n",
       "       'CASETA VIGILANCIA EMPRESAS', 'ESTABLECIMIENTO DE COMERCIO',\n",
       "       'DROGUERIAS, FARMACIAS', 'BANCOS', 'ZONA SELVÁTICA', 'SELVA',\n",
       "       'FRENTE A COLEGIO - VIA PUBLICA', 'CASA DE LENOCINIO', 'REPRESAS',\n",
       "       'SEMÁFORO', 'ESCENARIOS DEPORTIVOS', 'CONJUNTO RESIDENCIAL',\n",
       "       'FRENTE CONJUNTO - VIA PUBLICA', 'ALCALDIA', 'PARADERO DE BUSES',\n",
       "       'VEHICULO TAXI', 'CAÑADUZAL', 'FRONTERA', 'HUMEALES', 'PLAYA',\n",
       "       'ESTACION TRANSMILENIO LAS FERIAS', 'TERMINAL DE TRANSPORTES',\n",
       "       'IGLESIA', 'CONSTRUCCION', 'CLINICAS Y SIMILARES',\n",
       "       'FRENTE A EDIFICIO - VIA PUBLICA', 'ISLA',\n",
       "       'APARTAMENTO EN CONJUNTO CERRADO', 'CAFETERIAS', 'ALMACENES',\n",
       "       'FRENTE RESTAURANTE', 'HELADERIA', 'CENTRO RECREACIONAL',\n",
       "       'VEHICULO', 'FRENTE CLINICA U HOSPITAL - VIA PUBLICA',\n",
       "       'PLAZAS DE MERCADO', 'MATADEROS, CARNICERIA Y SIMILARES',\n",
       "       'EMPRESA', 'BOMBA DE GASOLINA', 'LINEA FERREA',\n",
       "       'ALIMENTADOR BUS M.I.O.', 'FRENTE EMPRESA - VIA PUBLICA',\n",
       "       'BUS METROPLUS', 'MUELLE', 'GLORIETA', 'HOGAR DE PASO', 'PISCINA',\n",
       "       'OTRO', 'ESTABLECIMIENTOS REVISADOS', 'CENTRO COMERCIAL',\n",
       "       'ESTACION TRANSMILENIO MOLINOS', 'POZO', 'FUNERARIA',\n",
       "       'GOBERNACION', 'FOSA COMUN', 'SUPERMERCADOS',\n",
       "       'ZONAS AZULES - VIA PUBLICA',\n",
       "       'FERRERERAS, MARRANERAS Y CABALLERIZAS', 'OFICINAS',\n",
       "       'TRANSPORTE INTERMUNICIPAL', 'COMPRAVENTA', 'FOSA INDIVIDUAL',\n",
       "       'CONSULTORIOS  ODONTOLOGICOS', 'INSTALACIONES GUBERNAMENTALES',\n",
       "       'TALLERES LATONERIA'], dtype=object)"
      ]
     },
     "execution_count": 19,
     "metadata": {},
     "output_type": "execute_result"
    }
   ],
   "source": [
    "# Clase de sitio\n",
    "dataset[\"Clase de sitio\"].unique()"
   ]
  },
  {
   "cell_type": "code",
   "execution_count": 20,
   "metadata": {
    "ExecuteTime": {
     "end_time": "2020-05-22T23:18:42.923946Z",
     "start_time": "2020-05-22T23:18:42.917960Z"
    }
   },
   "outputs": [
    {
     "data": {
      "text/plain": [
       "array(['ARMA BLANCA / CORTOPUNZANTE', 'ARMA DE FUEGO', 'CONTUNDENTES',\n",
       "       'CUERDA/SOGA/CADENA', 'BOLSA PLASTICA', 'CINTAS/CINTURON',\n",
       "       'ARTEFACTO EXPLOSIVO/CARGA DINAMITA', 'GRANADA DE MANO',\n",
       "       'SIN EMPLEO DE ARMAS', 'COMBUSTIBLE', 'ALMOHADA', 'NO REPORTADO',\n",
       "       'ARTEFACTO INCENDIARIO', 'MINA ANTIPERSONA', 'PRENDAS DE VESTIR',\n",
       "       'MOTO BOMBA', 'QUIMICOS'], dtype=object)"
      ]
     },
     "execution_count": 20,
     "metadata": {},
     "output_type": "execute_result"
    }
   ],
   "source": [
    "# Arma empleada\n",
    "dataset[\"Arma empleada\"].unique()"
   ]
  },
  {
   "cell_type": "code",
   "execution_count": 21,
   "metadata": {
    "ExecuteTime": {
     "end_time": "2020-05-22T23:18:42.929928Z",
     "start_time": "2020-05-22T23:18:42.924942Z"
    }
   },
   "outputs": [
    {
     "data": {
      "text/plain": [
       "array(['A PIE', 'PASAJERO MOTOCICLETA', 'CONDUCTOR MOTOCICLETA',\n",
       "       'BICICLETA', 'CONDUCTOR VEHICULO', 'PASAJERO VEHICULO',\n",
       "       'PASAJERO TAXI', 'PASAJERO BUS', nan, 'PASAJERO BARCO',\n",
       "       'CONDUCTOR TAXI', 'PASAJERO AERONAVE'], dtype=object)"
      ]
     },
     "execution_count": 21,
     "metadata": {},
     "output_type": "execute_result"
    }
   ],
   "source": [
    "# Móvil agresor\n",
    "dataset[\"Móvil Agresor\"].unique()"
   ]
  },
  {
   "cell_type": "code",
   "execution_count": 22,
   "metadata": {
    "ExecuteTime": {
     "end_time": "2020-05-22T23:18:42.935913Z",
     "start_time": "2020-05-22T23:18:42.930927Z"
    }
   },
   "outputs": [
    {
     "data": {
      "text/plain": [
       "array(['A PIE', 'CONDUCTOR MOTOCICLETA', nan, 'CONDUCTOR VEHICULO',\n",
       "       'PASAJERO VEHICULO', 'CONDUCTOR TAXI', 'BICICLETA',\n",
       "       'PASAJERO MOTOCICLETA', 'CONDUCTOR BUS', 'PASAJERO BARCO',\n",
       "       'PASAJERO TAXI', 'PASAJERO BUS'], dtype=object)"
      ]
     },
     "execution_count": 22,
     "metadata": {},
     "output_type": "execute_result"
    }
   ],
   "source": [
    "# Móvil agresor\n",
    "dataset[\"Móvil Victima\"].unique()"
   ]
  },
  {
   "cell_type": "code",
   "execution_count": 23,
   "metadata": {
    "ExecuteTime": {
     "end_time": "2020-05-22T23:18:42.945887Z",
     "start_time": "2020-05-22T23:18:42.940902Z"
    }
   },
   "outputs": [
    {
     "data": {
      "text/plain": [
       "array(['MASCULINO', 'FEMENINO'], dtype=object)"
      ]
     },
     "execution_count": 23,
     "metadata": {},
     "output_type": "execute_result"
    }
   ],
   "source": [
    "# Sexo\n",
    "dataset[\"Sexo\"].unique()"
   ]
  },
  {
   "cell_type": "code",
   "execution_count": 24,
   "metadata": {
    "ExecuteTime": {
     "end_time": "2020-05-22T23:18:42.952867Z",
     "start_time": "2020-05-22T23:18:42.947881Z"
    }
   },
   "outputs": [
    {
     "data": {
      "text/plain": [
       "array(['SOLTERO', 'UNION LIBRE', 'CASADO', 'SEPARADO', 'DIVORCIADO',\n",
       "       'VIUDO', nan], dtype=object)"
      ]
     },
     "execution_count": 24,
     "metadata": {},
     "output_type": "execute_result"
    }
   ],
   "source": [
    "# Estado civil\n",
    "dataset[\"Estado civil\"].unique()"
   ]
  },
  {
   "cell_type": "code",
   "execution_count": 25,
   "metadata": {
    "ExecuteTime": {
     "end_time": "2020-05-22T23:18:42.961843Z",
     "start_time": "2020-05-22T23:18:42.955866Z"
    }
   },
   "outputs": [
    {
     "data": {
      "text/plain": [
       "array(['BRASIL', 'COLOMBIA', nan, 'VENEZUELA', 'ITALIA', 'MEXICO',\n",
       "       'ECUADOR', 'SUECIA', 'ARGENTINA', 'NORUEGA', 'FRANCIA', 'ESPAÑA',\n",
       "       'ALEMANIA', 'CHILE', 'JAPON', 'PERU'], dtype=object)"
      ]
     },
     "execution_count": 25,
     "metadata": {},
     "output_type": "execute_result"
    }
   ],
   "source": [
    "# País de nacimiento\n",
    "dataset[\"País de nacimiento\"].unique()"
   ]
  },
  {
   "cell_type": "code",
   "execution_count": 26,
   "metadata": {
    "ExecuteTime": {
     "end_time": "2020-05-22T23:18:42.968825Z",
     "start_time": "2020-05-22T23:18:42.962842Z"
    }
   },
   "outputs": [
    {
     "data": {
      "text/plain": [
       "array(['EMPLEADO PARTICULAR', 'INDEPENDIENTE', 'AGRICULTOR',\n",
       "       'DESEMPLEADO', 'AMA DE CASA', 'ESTUDIANTE', 'COMERCIANTE',\n",
       "       'EMPLEADO PUBLICO', 'GRUPOS ILEGALES', 'EMPLEADO EJERCITO',\n",
       "       'EMPLEADO SALUD', 'EMPLEADO POLICIAL', 'PENSIONADO', 'EDUCADOR',\n",
       "       'EMPLEADO ARMADA/MARINA', 'DELINCUENCIA', 'AFRODESCENDIENTE',\n",
       "       'ETNIA INDIGENA', 'GANADERO', 'LIDER CIVICO', 'DEPORTISTA',\n",
       "       'POLITICO', 'NO REPORTA', 'EMPLEADO CTI', 'EMPLEADO INPEC'],\n",
       "      dtype=object)"
      ]
     },
     "execution_count": 26,
     "metadata": {},
     "output_type": "execute_result"
    }
   ],
   "source": [
    "# Clase de empleado\n",
    "dataset[\"Clase de empleado\"].unique()"
   ]
  },
  {
   "cell_type": "code",
   "execution_count": 27,
   "metadata": {
    "ExecuteTime": {
     "end_time": "2020-05-22T23:18:42.976803Z",
     "start_time": "2020-05-22T23:18:42.971826Z"
    }
   },
   "outputs": [
    {
     "data": {
      "text/plain": [
       "array([nan, 'TECNOLOGO  EN INGENIERIA DE SISTEMAS',\n",
       "       'INGENIERÍA INDUSTRIAL', 'DERECHO', 'POLICIAS', 'LICENCIADO',\n",
       "       'TECNOLOGO  EN COMERCIO INTERNACIONAL', 'TECNICO EMPRESARIAL',\n",
       "       'TECNOLOGO  ELECTRICA', 'ZOOTECNIA', 'ADMINISTRACION  DE EMPRESAS',\n",
       "       'TECNICO PROFESIONAL EN MERCADEO Y COMERCIALIZACION',\n",
       "       'INGENIERÍA CIVIL', 'MEDICINA', 'ADMINISTRACION  PUBLICA',\n",
       "       'INGENIERÍA DE SISTEMAS', 'INGENIERO', 'NO REPORTADA',\n",
       "       'LICENCIATURA EN SOCIALES',\n",
       "       'TECNICO PROFESIONAL EN SERVICIO DE POLICIA',\n",
       "       'TECNICO PROFESIONAL EN GESTION EMPRESARIAL',\n",
       "       'TECNICO PROFESIONAL EN ADMINISTRACION  DE EMPRESAS',\n",
       "       'TECNICO PROFESIONAL EN AGROPECUARIA',\n",
       "       'COMUNICACION SOCIAL- PERIODISMO',\n",
       "       'LICENCIATURA EN CIENCIAS SOCIALES- GEOGRAFIA',\n",
       "       'TECNICO PROFESIONAL EN FINANZAS Y SISTEMAS CONTABLES',\n",
       "       'CONTADURIA PUBLICA',\n",
       "       'TECNICO PROFESIONAL EN MANTENIMIENTO ELECTRONICO',\n",
       "       'TECNICO AUXILIAR DE SISTEMAS',\n",
       "       'TECNICO PROFESIONAL EN INGENIERIA INDUSTRIAL',\n",
       "       'ADMINISTRACION  COMERCIAL',\n",
       "       'TECNICO PROFESIONAL EN ADMINISTRACION  AGROPECUARIA',\n",
       "       'PROFESORES DE EDUCACION MEDIA', 'PUBLICIDAD',\n",
       "       'LICENCIATURA EN BIOLOGIA Y EDUCACION AMBIENTAL',\n",
       "       'PEDAGOGIA Y ADMINISTRACION  EDUCATIVA',\n",
       "       'TECNICO PROFESIONAL EN EDUCACION ARTISTICA',\n",
       "       'PROFESORES DE EDUCACION BASICA', 'INGENIERÍA DE MINAS',\n",
       "       'INGENIERÍA MECANICA', 'TECNICO PROFESIONAL EN POLICIA JUDICIAL',\n",
       "       'TECNICO PROFESIONAL EN DOCENCIA INDUSTRIAL ELECTRICIDAD',\n",
       "       'FILOSOFIA', 'TECNICO PROFESIONAL EN ELECTRONICA',\n",
       "       'ADMINISTRACION  POLICIAL', 'SISTEMAS Y CIENCIAS CONTABLES',\n",
       "       'CONTADURIA', 'TECNOLOGO  EN ENFERMERIA', 'ODONTOLOGIA',\n",
       "       'DISEÑO GRAFICO'], dtype=object)"
      ]
     },
     "execution_count": 27,
     "metadata": {},
     "output_type": "execute_result"
    }
   ],
   "source": [
    "# Profesión\n",
    "dataset[\"Profesión\"].unique()"
   ]
  },
  {
   "cell_type": "code",
   "execution_count": 28,
   "metadata": {
    "ExecuteTime": {
     "end_time": "2020-05-22T23:18:42.983785Z",
     "start_time": "2020-05-22T23:18:42.978800Z"
    }
   },
   "outputs": [
    {
     "data": {
      "text/plain": [
       "array(['SECUNDARIA', 'PRIMARIA', 'TECNOLOGO', 'TECNICO', 'SUPERIOR',\n",
       "       'ANALFABETA', 'NO REPORTADO', nan], dtype=object)"
      ]
     },
     "execution_count": 28,
     "metadata": {},
     "output_type": "execute_result"
    }
   ],
   "source": [
    "# Escolaridad\n",
    "dataset[\"Escolaridad\"].unique()"
   ]
  },
  {
   "cell_type": "markdown",
   "metadata": {},
   "source": [
    "These variables have a range of values according to the data they represent.  "
   ]
  },
  {
   "cell_type": "markdown",
   "metadata": {},
   "source": [
    "#### <font style=\"color:rgb(50,120,229)\">3.4.5. Save the update dataset</font>"
   ]
  },
  {
   "cell_type": "markdown",
   "metadata": {},
   "source": [
    "save the update dataset in a csv file, for answer the following questions"
   ]
  },
  {
   "cell_type": "code",
   "execution_count": 29,
   "metadata": {
    "ExecuteTime": {
     "end_time": "2020-05-22T23:18:43.156328Z",
     "start_time": "2020-05-22T23:18:42.984782Z"
    }
   },
   "outputs": [],
   "source": [
    "OUTPUT_PATH = pathlib.Path(r\"..\\data\\homicidios2018_update.csv\")\n",
    "dataset.to_csv(str(OUTPUT_PATH), index = False, header=True)"
   ]
  },
  {
   "cell_type": "markdown",
   "metadata": {},
   "source": [
    "## <font style=\"color:rgb(50,120,229)\">4) References</font>\n"
   ]
  },
  {
   "cell_type": "code",
   "execution_count": null,
   "metadata": {},
   "outputs": [],
   "source": []
  }
 ],
 "metadata": {
  "kernelspec": {
   "display_name": "Python 3",
   "language": "python",
   "name": "python3"
  },
  "language_info": {
   "codemirror_mode": {
    "name": "ipython",
    "version": 3
   },
   "file_extension": ".py",
   "mimetype": "text/x-python",
   "name": "python",
   "nbconvert_exporter": "python",
   "pygments_lexer": "ipython3",
   "version": "3.7.7"
  }
 },
 "nbformat": 4,
 "nbformat_minor": 4
}
