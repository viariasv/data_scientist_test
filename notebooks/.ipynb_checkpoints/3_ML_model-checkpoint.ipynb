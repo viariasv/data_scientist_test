{
 "cells": [
  {
   "cell_type": "markdown",
   "metadata": {},
   "source": [
    "# <font style=\"color:rgb(50,120,229)\">ML MODEL</font>\n",
    "![image](..\\images\\framework.png)\n",
    "<p style=\"text-align: center;\"><b>Figure 1.</b> Machine Learning Framework</p>"
   ]
  },
  {
   "cell_type": "markdown",
   "metadata": {
    "ExecuteTime": {
     "end_time": "2020-05-21T18:21:35.990129Z",
     "start_time": "2020-05-21T18:21:35.984591Z"
    }
   },
   "source": [
    "## <font style=\"color:rgb(50,120,229)\">1) Problem definition: What problem are we trying to solve?</font>\n"
   ]
  },
  {
   "cell_type": "markdown",
   "metadata": {},
   "source": [
    "**The problem with machine learning is one of unsupervised learning.**\n",
    "\n",
    "1. Do not have a label to predict. An example of this is using an algorithm to look at brain scans to find areas that may raise concern. You don't have labels on the images to understand what areas might raise reason for concern, but you can understand which areas are most similar or different from one another.\n",
    "\n",
    "2. Are not trying to predict a label, but rather group our data together for some other reason! One example of this is when you have tons of data, and you would like to condense it down to a fewer number of features to be used (like this case).\n",
    "\n",
    "*Clustering* is one of the most popular unsupervised approaches. This unsupervised learning task concerned with putting similar data into groups (This is the way we'll work on this case). Another form of unsupervised learning is *Dimensionality Reduction*, this task concerned with reducing the number of variables used."
   ]
  },
  {
   "cell_type": "markdown",
   "metadata": {},
   "source": [
    "## <font style=\"color:rgb(50,120,229)\">2) Modeling: What kind of model should we use?</font>\n",
    "\n",
    "One of the most popular clustering algorithms in all of machine learning is known as the **K-means algorithm**. This algorithm is used to cluster books, and articles that are similar which has helped to identify otherwise anonymous authors. It's also used to cluster similar movies and music for the purpose of recommending new items on Netflix or Spotify. Another very common use case of K-means is to cluster the behaviors of customers to better understand, similar groups of purchasers (In the K-means algorithm **'k'** represents the number of clusters you have in your dataset). In this case we want to find groups or clusters whose characteristics group **the largest number of homicidies**, and no one has any idea what **k** should be!. \n",
    "\n",
    "However, to understand what edge cases might occur when grouping points together, it is necessary to understand exactly what the k-means algorithm is doing. Here is one method for computing k-means:\n",
    "\n",
    "1. Randomly place k centroids amongst your data.\n",
    "\n",
    "Then within a loop until convergence perform the following two steps:\n",
    "\n",
    "2. Assign each point to the closest centroid.\n",
    "\n",
    "3. Move the centroid to the center of the points assigned to it.\n",
    "\n",
    "At the end of this process, we should have k-clusters of points."
   ]
  },
  {
   "cell_type": "markdown",
   "metadata": {},
   "source": [
    "## <font style=\"color:rgb(50,120,229)\">2) Evaluation: What define success for us?</font>\n",
    "\n",
    "### <font style=\"color:rgb(50,120,229)\">2.1) Elbow method for finding K</font>"
   ]
  },
  {
   "cell_type": "markdown",
   "metadata": {},
   "source": [
    "Set when you can clearly see clusterings of point, as well as when there are some preconceived ideas about how many clusters might exist. But what about when you have no idea how many clusters might be in the data?, How might we determine the k in k-means for these cases?.\n",
    "\n",
    "For this is the **Elbow method**. The way this works is that for any set of data, we could try fitting k-means with differing numbers of k, then for each value of k we can measure the the average distance of each point from the center point of the cluster. If we kept track of the average distance for each value of k, we could create a plot that looks like that in **Figure 2**.\n",
    "\n",
    "The average distance will always decrease with each additional cluster center. However, with fewer clusters, those decreases will be more substantial. At some point, adding new clusters will no longer create a substantial decrease in the average distance. This point is known as the **elbow**.\n",
    "\n",
    "![image](..\\images\\elbow.png)\n",
    "<p style=\"text-align: center;\"><b>Figure 2.</b> Elbow for finding K</p>"
   ]
  },
  {
   "cell_type": "markdown",
   "metadata": {},
   "source": [
    "## <font style=\"color:rgb(50,120,229)\">3) Data</font>"
   ]
  },
  {
   "cell_type": "code",
   "execution_count": null,
   "metadata": {},
   "outputs": [],
   "source": [
    "!pip install plotly\n",
    "!pip install helper_functions\n",
    "!pip install kmodes"
   ]
  },
  {
   "cell_type": "code",
   "execution_count": 392,
   "metadata": {
    "ExecuteTime": {
     "end_time": "2020-05-25T22:05:34.491455Z",
     "start_time": "2020-05-25T22:05:34.484475Z"
    }
   },
   "outputs": [],
   "source": [
    "import sys\n",
    "import random\n",
    "import pathlib\n",
    "import numpy as np\n",
    "import pandas as pd\n",
    "import seaborn as sns\n",
    "import plotly.express as px  \n",
    "from IPython import display\n",
    "import helper_functions as h\n",
    "import matplotlib.pyplot as plt\n",
    "import plotly.graph_objects as go\n",
    "from sklearn import preprocessing\n",
    "from sklearn.cluster import KMeans\n",
    "from kmodes.kmodes import KModes\n",
    "from kmodes.kprototypes import KPrototypes\n",
    "from mpl_toolkits.mplot3d import Axes3D\n",
    "from sklearn.datasets import make_blobs\n",
    "\n",
    "%matplotlib inline"
   ]
  },
  {
   "cell_type": "code",
   "execution_count": 393,
   "metadata": {
    "ExecuteTime": {
     "end_time": "2020-05-25T22:05:34.656928Z",
     "start_time": "2020-05-25T22:05:34.651945Z"
    }
   },
   "outputs": [],
   "source": [
    "import matplotlib\n",
    "matplotlib.rcParams['image.cmap'] = 'gray'"
   ]
  },
  {
   "cell_type": "code",
   "execution_count": 394,
   "metadata": {
    "ExecuteTime": {
     "end_time": "2020-05-25T22:05:34.880359Z",
     "start_time": "2020-05-25T22:05:34.843446Z"
    }
   },
   "outputs": [],
   "source": [
    "# data loading\n",
    "DATA_PATH = pathlib.Path(r\"..\\data\\homicidios2018_ml.csv\") # OS agnostic PATH\n",
    "dataset = pd.read_csv(str(DATA_PATH))"
   ]
  },
  {
   "cell_type": "code",
   "execution_count": 395,
   "metadata": {
    "ExecuteTime": {
     "end_time": "2020-05-25T22:05:35.072526Z",
     "start_time": "2020-05-25T22:05:35.058597Z"
    }
   },
   "outputs": [
    {
     "name": "stdout",
     "output_type": "stream",
     "text": [
      "<class 'pandas.core.frame.DataFrame'>\n",
      "RangeIndex: 12498 entries, 0 to 12497\n",
      "Data columns (total 14 columns):\n",
      " #   Column              Non-Null Count  Dtype \n",
      "---  ------              --------------  ----- \n",
      " 0   Municipio           12498 non-null  object\n",
      " 1   Día                 12498 non-null  object\n",
      " 2   Hora                12498 non-null  int64 \n",
      " 3   Zona                12498 non-null  object\n",
      " 4   Clase de sitio      12498 non-null  object\n",
      " 5   Arma empleada       12498 non-null  object\n",
      " 6   Móvil Agresor       12498 non-null  object\n",
      " 7   Móvil Victima       12498 non-null  object\n",
      " 8   Edad                12498 non-null  int64 \n",
      " 9   Sexo                12498 non-null  object\n",
      " 10  Estado civil        12498 non-null  object\n",
      " 11  País de nacimiento  12498 non-null  object\n",
      " 12  Clase de empleado   12498 non-null  object\n",
      " 13  Escolaridad         12498 non-null  object\n",
      "dtypes: int64(2), object(12)\n",
      "memory usage: 1.3+ MB\n"
     ]
    }
   ],
   "source": [
    "dataset.info()"
   ]
  },
  {
   "cell_type": "markdown",
   "metadata": {},
   "source": [
    "### In a previous notebook the data were processed in such a way that they were almost ready to be used by the machine learning model.\n"
   ]
  },
  {
   "cell_type": "markdown",
   "metadata": {},
   "source": [
    "## <font style=\"color:rgb(50,120,229)\">4) The Big Problem</font>\n"
   ]
  },
  {
   "cell_type": "markdown",
   "metadata": {},
   "source": [
    "* The standard k-means algorithm isn't directly applicable to categorical data, for various reasons. The sample space for categorical data is discrete, and doesn't have a natural origin. A **Euclidean distance** function on such a space isn't really meaningful. As someone put it, \"The fact a snake possesses neither wheels nor legs allows us to say nothing about the relative value of wheels and legs.\" (from [here](https://www.daylight.com/meetings/mug04/Bradshaw/why_k-modes.html))\n",
    "\n",
    "* There's a variation of k-means known as k-modes, introduced in [this paper](http://www.cs.ust.hk/~qyang/Teaching/537/Papers/huang98extensions.pdf) by Zhexue Huang, which is suitable for categorical data. Note that the solutions you get are sensitive to initial conditions, as discussed here ([PDF](https://arxiv.org/ftp/cs/papers/0603/0603120.pdf)), for instance.\n",
    "\n",
    "* Huang's paper (linked above) also has a section on **k-prototypes** which applies to data with a mix of categorical and numeric features. It uses a distance measure which mixes the Hamming distance for categorical features and the Euclidean distance for numeric features [SOURCE](https://datascience.stackexchange.com/questions/22/k-means-clustering-for-mixed-numeric-and-categorical-data)."
   ]
  },
  {
   "cell_type": "markdown",
   "metadata": {},
   "source": [
    "## <font style=\"color:rgb(50,120,229)\">5) Modeling 2: What kind of model should we use?</font>\n"
   ]
  },
  {
   "cell_type": "markdown",
   "metadata": {},
   "source": [
    "**Since the basis of K-means is that clusters give us an idea of how the data are grouped from from its characteristics. The dimensions associated with categories should not be forced into a spatial representation.** [SOURCE](https://medium.com/@davidmasse8/unsupervised-learning-for-categorical-data-dd7e497033ae)"
   ]
  },
  {
   "cell_type": "markdown",
   "metadata": {},
   "source": [
    "Introduced in 1998 by Zhehue Huang, k-modes provides a much-needed alternative to k-means when the data at hand are categorical rather than numeric. That k-modes has not been more widely adopted, at least in Python, is probably related to the lack of a scikit-learn implementation."
   ]
  },
  {
   "cell_type": "markdown",
   "metadata": {},
   "source": [
    "The procedure is similar to k-means: a number of clusters (k) is chosen, and k cluster-mode vectors are chosen at random (or according to accepted heuristics).\n",
    "\n",
    "* Observations are assigned to the closest cluster mode by Hamming distance.\n",
    "\n",
    "* New cluster modes are calculated, each from the observations associated with an previous cluster mode.\n",
    "\n",
    "* Steps 1 and 2 are repeated until the cluster modes stabilize. As with k-means, this stable condition could be due to a local minimum in the cost function. (It turns out that finding the optimal clustering partition is NP-hard, meaning it cannot solved in less than polynomial time.)"
   ]
  },
  {
   "cell_type": "markdown",
   "metadata": {},
   "source": [
    "## <font style=\"color:rgb(50,120,229)\">6) Evaluation 2: What define success for us?</font>\n"
   ]
  },
  {
   "cell_type": "markdown",
   "metadata": {},
   "source": [
    "The distance metric used for K-modes is instead **the Hamming distance** from information theory. The Hamming distance (or dissimilarity) between two rows is simply the number of columns where the two rows differ.\n",
    "\n",
    "![image](..\\images\\math1.png)\n",
    "<p style=\"text-align: center;\"><b>Figure 3.</b> The Hamming distance</p>\n",
    "\n",
    "The **k-modes** algorithm tries to minimize the sum of within-cluster Hamming distance from the mode of that cluster, summed over all clusters. What is the mode of a cluster? To quote Huang, “if a dataset has m categorical attributes, the mode vector Z consists of m categorical values … each being the mode of an attribute.”  [SOURCE](https://medium.com/@davidmasse8/unsupervised-learning-for-categorical-data-dd7e497033ae)"
   ]
  },
  {
   "cell_type": "markdown",
   "metadata": {},
   "source": [
    "## <font style=\"color:rgb(50,120,229)\">7) Experiments: What have we try / What else can we try?</font>\n"
   ]
  },
  {
   "cell_type": "markdown",
   "metadata": {},
   "source": [
    "At this point I want to start by analyzing the algorithm with as few variables as possible, And only use the variables that you feel you can really bring to the model (All this is done from a subjective point of view). **A larger number of variables can be included later**."
   ]
  },
  {
   "cell_type": "code",
   "execution_count": 476,
   "metadata": {
    "ExecuteTime": {
     "end_time": "2020-05-25T22:29:10.665506Z",
     "start_time": "2020-05-25T22:29:10.654567Z"
    }
   },
   "outputs": [
    {
     "name": "stdout",
     "output_type": "stream",
     "text": [
      "<class 'pandas.core.frame.DataFrame'>\n",
      "RangeIndex: 12498 entries, 0 to 12497\n",
      "Data columns (total 5 columns):\n",
      " #   Column         Non-Null Count  Dtype \n",
      "---  ------         --------------  ----- \n",
      " 0   Hora           12498 non-null  int64 \n",
      " 1   Zona           12498 non-null  object\n",
      " 2   Móvil Agresor  12498 non-null  object\n",
      " 3   Móvil Victima  12498 non-null  object\n",
      " 4   Sexo           12498 non-null  object\n",
      "dtypes: int64(1), object(4)\n",
      "memory usage: 488.3+ KB\n"
     ]
    }
   ],
   "source": [
    "dataset_few1 = dataset.drop([\"Clase de sitio\", \"Estado civil\", \"País de nacimiento\", \"Clase de empleado\", \"Escolaridad\"], axis=1)\n",
    "dataset_few2 = dataset.drop([\"Día\", \"Clase de sitio\", \"Arma empleada\", \"Estado civil\", \"País de nacimiento\", \"Clase de empleado\", \"Escolaridad\", \"Municipio\", \"Edad\"], axis=1)\n",
    "\n",
    "# The number of variables has to be greatly reduced so that the model can extract some information\n",
    "dataset_few2.info()"
   ]
  },
  {
   "cell_type": "code",
   "execution_count": 477,
   "metadata": {
    "ExecuteTime": {
     "end_time": "2020-05-25T22:29:11.153317Z",
     "start_time": "2020-05-25T22:29:11.149346Z"
    }
   },
   "outputs": [
    {
     "data": {
      "text/plain": [
       "'\\ndataset_few2[\\'Edad_bin\\'] = pd.cut(dataset_few2[\\'Edad\\'], [0, 20, 30, 40, 50, 60, 70, 80, 90, 100], \\n                              labels=[\"0-20\", \"20-30\", \"30-40\", \"40-50\",\"50-60\",\"60-70\",\"70-80\", \"80-90\",\"90-100\"],\\n                                 include_lowest=True)\\ndataset_few2  = dataset_few2.drop(\\'Edad\\',axis = 1)\\n'"
      ]
     },
     "execution_count": 477,
     "metadata": {},
     "output_type": "execute_result"
    }
   ],
   "source": [
    "# Converting age and hour into categorical variable.\n",
    "\"\"\"\n",
    "dataset_few2['Edad_bin'] = pd.cut(dataset_few2['Edad'], [0, 20, 30, 40, 50, 60, 70, 80, 90, 100], \n",
    "                              labels=[\"0-20\", \"20-30\", \"30-40\", \"40-50\",\"50-60\",\"60-70\",\"70-80\", \"80-90\",\"90-100\"],\n",
    "                                 include_lowest=True)\n",
    "dataset_few2  = dataset_few2.drop('Edad',axis = 1)\n",
    "\"\"\""
   ]
  },
  {
   "cell_type": "code",
   "execution_count": 478,
   "metadata": {
    "ExecuteTime": {
     "end_time": "2020-05-25T22:29:12.107736Z",
     "start_time": "2020-05-25T22:29:12.093775Z"
    }
   },
   "outputs": [
    {
     "name": "stdout",
     "output_type": "stream",
     "text": [
      "<class 'pandas.core.frame.DataFrame'>\n",
      "RangeIndex: 12498 entries, 0 to 12497\n",
      "Data columns (total 5 columns):\n",
      " #   Column         Non-Null Count  Dtype   \n",
      "---  ------         --------------  -----   \n",
      " 0   Zona           12498 non-null  object  \n",
      " 1   Móvil Agresor  12498 non-null  object  \n",
      " 2   Móvil Victima  12498 non-null  object  \n",
      " 3   Sexo           12498 non-null  object  \n",
      " 4   Hora_bin       12498 non-null  category\n",
      "dtypes: category(1), object(4)\n",
      "memory usage: 403.3+ KB\n"
     ]
    }
   ],
   "source": [
    "\n",
    "dataset_few2['Hora_bin'] = pd.cut(dataset_few1['Hora'], [0, 3, 6, 9, 12, 15, 18, 21, 23], \n",
    "                              labels=[\"0-3\", \"3-6\", \"6-9\", \"9-12\", \"12-15\", \"15-18\", \"18-21\", \"21-23\"],\n",
    "                                 include_lowest=True)\n",
    "dataset_few2  = dataset_few2.drop('Hora',axis = 1)\n",
    "dataset_few2.info()"
   ]
  },
  {
   "cell_type": "code",
   "execution_count": 479,
   "metadata": {
    "ExecuteTime": {
     "end_time": "2020-05-25T22:29:12.502143Z",
     "start_time": "2020-05-25T22:29:12.498154Z"
    }
   },
   "outputs": [],
   "source": [
    "# Make a copy for the original data\n",
    "dataset_few2_copy = dataset_few2.copy()"
   ]
  },
  {
   "cell_type": "code",
   "execution_count": 480,
   "metadata": {
    "ExecuteTime": {
     "end_time": "2020-05-25T22:29:13.034162Z",
     "start_time": "2020-05-25T22:29:13.016210Z"
    }
   },
   "outputs": [
    {
     "data": {
      "text/html": [
       "<div>\n",
       "<style scoped>\n",
       "    .dataframe tbody tr th:only-of-type {\n",
       "        vertical-align: middle;\n",
       "    }\n",
       "\n",
       "    .dataframe tbody tr th {\n",
       "        vertical-align: top;\n",
       "    }\n",
       "\n",
       "    .dataframe thead th {\n",
       "        text-align: right;\n",
       "    }\n",
       "</style>\n",
       "<table border=\"1\" class=\"dataframe\">\n",
       "  <thead>\n",
       "    <tr style=\"text-align: right;\">\n",
       "      <th></th>\n",
       "      <th>Zona</th>\n",
       "      <th>Móvil Agresor</th>\n",
       "      <th>Móvil Victima</th>\n",
       "      <th>Sexo</th>\n",
       "      <th>Hora_bin</th>\n",
       "    </tr>\n",
       "  </thead>\n",
       "  <tbody>\n",
       "    <tr>\n",
       "      <th>0</th>\n",
       "      <td>1</td>\n",
       "      <td>0</td>\n",
       "      <td>0</td>\n",
       "      <td>1</td>\n",
       "      <td>6</td>\n",
       "    </tr>\n",
       "    <tr>\n",
       "      <th>1</th>\n",
       "      <td>1</td>\n",
       "      <td>0</td>\n",
       "      <td>0</td>\n",
       "      <td>1</td>\n",
       "      <td>6</td>\n",
       "    </tr>\n",
       "    <tr>\n",
       "      <th>2</th>\n",
       "      <td>0</td>\n",
       "      <td>0</td>\n",
       "      <td>0</td>\n",
       "      <td>1</td>\n",
       "      <td>6</td>\n",
       "    </tr>\n",
       "    <tr>\n",
       "      <th>3</th>\n",
       "      <td>0</td>\n",
       "      <td>0</td>\n",
       "      <td>0</td>\n",
       "      <td>1</td>\n",
       "      <td>0</td>\n",
       "    </tr>\n",
       "    <tr>\n",
       "      <th>4</th>\n",
       "      <td>0</td>\n",
       "      <td>0</td>\n",
       "      <td>0</td>\n",
       "      <td>1</td>\n",
       "      <td>0</td>\n",
       "    </tr>\n",
       "  </tbody>\n",
       "</table>\n",
       "</div>"
      ],
      "text/plain": [
       "   Zona  Móvil Agresor  Móvil Victima  Sexo  Hora_bin\n",
       "0     1              0              0     1         6\n",
       "1     1              0              0     1         6\n",
       "2     0              0              0     1         6\n",
       "3     0              0              0     1         0\n",
       "4     0              0              0     1         0"
      ]
     },
     "execution_count": 480,
     "metadata": {},
     "output_type": "execute_result"
    }
   ],
   "source": [
    "# Data Preparation\n",
    "le = preprocessing.LabelEncoder()\n",
    "dataset_few2 = dataset_few2.apply(le.fit_transform)\n",
    "dataset_few2.head()"
   ]
  },
  {
   "cell_type": "code",
   "execution_count": 481,
   "metadata": {
    "ExecuteTime": {
     "end_time": "2020-05-25T22:29:16.077526Z",
     "start_time": "2020-05-25T22:29:14.433890Z"
    }
   },
   "outputs": [
    {
     "name": "stdout",
     "output_type": "stream",
     "text": [
      "Init: initializing centroids\n",
      "Init: initializing clusters\n",
      "Starting iterations...\n",
      "Run 1, iteration: 1/20, moves: 1846, cost: 11575.0\n",
      "Run 1, iteration: 2/20, moves: 344, cost: 11575.0\n"
     ]
    }
   ],
   "source": [
    "# Using K-Mode with \"Cao\" initialization\n",
    "km_cao = KModes(n_clusters=6, init = \"Cao\", n_init = 1, verbose=1, max_iter=20)\n",
    "fitClusters_cao = km_cao.fit_predict(dataset_few2)"
   ]
  },
  {
   "cell_type": "code",
   "execution_count": 482,
   "metadata": {
    "ExecuteTime": {
     "end_time": "2020-05-25T22:29:16.204716Z",
     "start_time": "2020-05-25T22:29:16.200718Z"
    }
   },
   "outputs": [
    {
     "data": {
      "text/plain": [
       "array([0, 0, 4, ..., 0, 4, 0], dtype=uint16)"
      ]
     },
     "execution_count": 482,
     "metadata": {},
     "output_type": "execute_result"
    }
   ],
   "source": [
    "# Predicted Clusters\n",
    "fitClusters_cao"
   ]
  },
  {
   "cell_type": "code",
   "execution_count": 483,
   "metadata": {
    "ExecuteTime": {
     "end_time": "2020-05-25T22:29:16.732680Z",
     "start_time": "2020-05-25T22:29:16.728688Z"
    }
   },
   "outputs": [],
   "source": [
    "clusterCentroidsDf = pd.DataFrame(km_cao.cluster_centroids_)\n",
    "clusterCentroidsDf.columns = dataset_few2.columns"
   ]
  },
  {
   "cell_type": "code",
   "execution_count": 484,
   "metadata": {
    "ExecuteTime": {
     "end_time": "2020-05-25T22:29:17.446187Z",
     "start_time": "2020-05-25T22:29:17.439204Z"
    },
    "scrolled": true
   },
   "outputs": [
    {
     "data": {
      "text/html": [
       "<div>\n",
       "<style scoped>\n",
       "    .dataframe tbody tr th:only-of-type {\n",
       "        vertical-align: middle;\n",
       "    }\n",
       "\n",
       "    .dataframe tbody tr th {\n",
       "        vertical-align: top;\n",
       "    }\n",
       "\n",
       "    .dataframe thead th {\n",
       "        text-align: right;\n",
       "    }\n",
       "</style>\n",
       "<table border=\"1\" class=\"dataframe\">\n",
       "  <thead>\n",
       "    <tr style=\"text-align: right;\">\n",
       "      <th></th>\n",
       "      <th>Zona</th>\n",
       "      <th>Móvil Agresor</th>\n",
       "      <th>Móvil Victima</th>\n",
       "      <th>Sexo</th>\n",
       "      <th>Hora_bin</th>\n",
       "    </tr>\n",
       "  </thead>\n",
       "  <tbody>\n",
       "    <tr>\n",
       "      <th>0</th>\n",
       "      <td>1</td>\n",
       "      <td>0</td>\n",
       "      <td>0</td>\n",
       "      <td>1</td>\n",
       "      <td>3</td>\n",
       "    </tr>\n",
       "    <tr>\n",
       "      <th>1</th>\n",
       "      <td>0</td>\n",
       "      <td>8</td>\n",
       "      <td>0</td>\n",
       "      <td>1</td>\n",
       "      <td>0</td>\n",
       "    </tr>\n",
       "    <tr>\n",
       "      <th>2</th>\n",
       "      <td>0</td>\n",
       "      <td>0</td>\n",
       "      <td>0</td>\n",
       "      <td>1</td>\n",
       "      <td>2</td>\n",
       "    </tr>\n",
       "    <tr>\n",
       "      <th>3</th>\n",
       "      <td>0</td>\n",
       "      <td>0</td>\n",
       "      <td>0</td>\n",
       "      <td>1</td>\n",
       "      <td>1</td>\n",
       "    </tr>\n",
       "    <tr>\n",
       "      <th>4</th>\n",
       "      <td>0</td>\n",
       "      <td>0</td>\n",
       "      <td>0</td>\n",
       "      <td>1</td>\n",
       "      <td>6</td>\n",
       "    </tr>\n",
       "    <tr>\n",
       "      <th>5</th>\n",
       "      <td>1</td>\n",
       "      <td>8</td>\n",
       "      <td>0</td>\n",
       "      <td>1</td>\n",
       "      <td>1</td>\n",
       "    </tr>\n",
       "  </tbody>\n",
       "</table>\n",
       "</div>"
      ],
      "text/plain": [
       "   Zona  Móvil Agresor  Móvil Victima  Sexo  Hora_bin\n",
       "0     1              0              0     1         3\n",
       "1     0              8              0     1         0\n",
       "2     0              0              0     1         2\n",
       "3     0              0              0     1         1\n",
       "4     0              0              0     1         6\n",
       "5     1              8              0     1         1"
      ]
     },
     "execution_count": 484,
     "metadata": {},
     "output_type": "execute_result"
    }
   ],
   "source": [
    "# Mode of the clusters\n",
    "clusterCentroidsDf"
   ]
  },
  {
   "cell_type": "code",
   "execution_count": 485,
   "metadata": {
    "ExecuteTime": {
     "end_time": "2020-05-25T22:29:19.075432Z",
     "start_time": "2020-05-25T22:29:17.878633Z"
    }
   },
   "outputs": [
    {
     "name": "stdout",
     "output_type": "stream",
     "text": [
      "Init: initializing centroids\n",
      "Init: initializing clusters\n",
      "Starting iterations...\n",
      "Run 1, iteration: 1/20, moves: 131, cost: 12328.0\n"
     ]
    }
   ],
   "source": [
    "# Using K-Mode with \"Huang\" initialization\n",
    "km_huang = KModes(n_clusters=6, init = \"Huang\", n_init = 1, verbose=1, max_iter=20)\n",
    "fitClusters_huang = km_huang.fit_predict(dataset_few2)"
   ]
  },
  {
   "cell_type": "code",
   "execution_count": 486,
   "metadata": {
    "ExecuteTime": {
     "end_time": "2020-05-25T22:29:19.080420Z",
     "start_time": "2020-05-25T22:29:19.076431Z"
    }
   },
   "outputs": [
    {
     "data": {
      "text/plain": [
       "array([0, 0, 0, ..., 0, 0, 0], dtype=uint16)"
      ]
     },
     "execution_count": 486,
     "metadata": {},
     "output_type": "execute_result"
    }
   ],
   "source": [
    "# Predicted clusters\n",
    "fitClusters_huang"
   ]
  },
  {
   "cell_type": "code",
   "execution_count": 487,
   "metadata": {
    "ExecuteTime": {
     "end_time": "2020-05-25T22:29:30.241571Z",
     "start_time": "2020-05-25T22:29:19.081417Z"
    },
    "scrolled": true
   },
   "outputs": [
    {
     "name": "stdout",
     "output_type": "stream",
     "text": [
      "Initialization method and algorithm are deterministic. Setting n_init to 1.\n",
      "Init: initializing centroids\n",
      "Init: initializing clusters\n",
      "Starting iterations...\n",
      "Run 1, iteration: 1/20, moves: 0, cost: 18100.0\n",
      "For n_clusters = 1 the Hamming distance is: 18100.0\n",
      "Initialization method and algorithm are deterministic. Setting n_init to 1.\n",
      "Init: initializing centroids\n",
      "Init: initializing clusters\n",
      "Starting iterations...\n",
      "Run 1, iteration: 1/20, moves: 0, cost: 16832.0\n",
      "For n_clusters = 2 the Hamming distance is: 16832.0\n",
      "Initialization method and algorithm are deterministic. Setting n_init to 1.\n",
      "Init: initializing centroids\n",
      "Init: initializing clusters\n",
      "Starting iterations...\n",
      "Run 1, iteration: 1/20, moves: 2108, cost: 13603.0\n",
      "For n_clusters = 3 the Hamming distance is: 13603.0\n",
      "Initialization method and algorithm are deterministic. Setting n_init to 1.\n",
      "Init: initializing centroids\n",
      "Init: initializing clusters\n",
      "Starting iterations...\n",
      "Run 1, iteration: 1/20, moves: 1817, cost: 13098.0\n",
      "For n_clusters = 4 the Hamming distance is: 13098.0\n",
      "Initialization method and algorithm are deterministic. Setting n_init to 1.\n",
      "Init: initializing centroids\n",
      "Init: initializing clusters\n",
      "Starting iterations...\n",
      "Run 1, iteration: 1/20, moves: 1458, cost: 12575.0\n",
      "For n_clusters = 5 the Hamming distance is: 12575.0\n",
      "Initialization method and algorithm are deterministic. Setting n_init to 1.\n",
      "Init: initializing centroids\n",
      "Init: initializing clusters\n",
      "Starting iterations...\n",
      "Run 1, iteration: 1/20, moves: 1846, cost: 11575.0\n",
      "Run 1, iteration: 2/20, moves: 344, cost: 11575.0\n",
      "For n_clusters = 6 the Hamming distance is: 11575.0\n",
      "Initialization method and algorithm are deterministic. Setting n_init to 1.\n",
      "Init: initializing centroids\n",
      "Init: initializing clusters\n",
      "Starting iterations...\n",
      "Run 1, iteration: 1/20, moves: 1441, cost: 11717.0\n",
      "For n_clusters = 7 the Hamming distance is: 11717.0\n",
      "Initialization method and algorithm are deterministic. Setting n_init to 1.\n",
      "Init: initializing centroids\n",
      "Init: initializing clusters\n",
      "Starting iterations...\n",
      "Run 1, iteration: 1/20, moves: 1441, cost: 11241.0\n",
      "For n_clusters = 8 the Hamming distance is: 11241.0\n",
      "Initialization method and algorithm are deterministic. Setting n_init to 1.\n",
      "Init: initializing centroids\n",
      "Init: initializing clusters\n",
      "Starting iterations...\n",
      "Run 1, iteration: 1/20, moves: 1441, cost: 11085.0\n",
      "For n_clusters = 9 the Hamming distance is: 11085.0\n"
     ]
    }
   ],
   "source": [
    "# Choosing K by comparing Cost against each K\n",
    "\n",
    "Hamming_distance = []\n",
    "K = range(1,10)\n",
    "for k in K:\n",
    "    kmode = KModes(n_clusters=k, init = \"Cao\", n_init = 11, verbose=1, max_iter=20)\n",
    "    kmode.fit_predict(dataset_few2)\n",
    "    Hamming_distance.append(kmode.cost_)\n",
    "    print(\"For n_clusters =\", k,\n",
    "          \"the Hamming distance is:\", kmode.cost_)"
   ]
  },
  {
   "cell_type": "code",
   "execution_count": 535,
   "metadata": {
    "ExecuteTime": {
     "end_time": "2020-05-25T22:49:34.718579Z",
     "start_time": "2020-05-25T22:49:34.599904Z"
    }
   },
   "outputs": [
    {
     "data": {
      "image/png": "[encoded data removed]",
      "text/plain": [
       "<Figure size 640x480 with 1 Axes>"
      ]
     },
     "metadata": {
      "needs_background": "light"
     },
     "output_type": "display_data"
    }
   ],
   "source": [
    "plt.figure(figsize=(8, 6), dpi=80)\n",
    "plt.plot(K, Hamming_distance, 'b*-')\n",
    "plt.xlabel('k')\n",
    "plt.xticks(np.linspace(1, 10, 10))\n",
    "plt.ylabel('Hamming Distance')\n",
    "plt.title(\"Elbow Method\")\n",
    "plt.grid()\n",
    "plt.show()"
   ]
  },
  {
   "cell_type": "code",
   "execution_count": 523,
   "metadata": {
    "ExecuteTime": {
     "end_time": "2020-05-25T22:33:07.560555Z",
     "start_time": "2020-05-25T22:33:07.557593Z"
    }
   },
   "outputs": [],
   "source": [
    "## Choosing K=6\n",
    "k = 6"
   ]
  },
  {
   "cell_type": "code",
   "execution_count": 524,
   "metadata": {
    "ExecuteTime": {
     "end_time": "2020-05-25T22:33:09.434233Z",
     "start_time": "2020-05-25T22:33:07.749738Z"
    }
   },
   "outputs": [
    {
     "name": "stdout",
     "output_type": "stream",
     "text": [
      "Initialization method and algorithm are deterministic. Setting n_init to 1.\n",
      "Init: initializing centroids\n",
      "Init: initializing clusters\n",
      "Starting iterations...\n",
      "Run 1, iteration: 1/100, moves: 1846, cost: 11575.0\n",
      "Run 1, iteration: 2/100, moves: 344, cost: 11575.0\n"
     ]
    }
   ],
   "source": [
    "km_cao = KModes(n_clusters=k, init = \"Cao\", n_init = 11, verbose=2)\n",
    "fitClusters_cao = km_cao.fit_predict(dataset_few2)"
   ]
  },
  {
   "cell_type": "code",
   "execution_count": 525,
   "metadata": {
    "ExecuteTime": {
     "end_time": "2020-05-25T22:33:09.440244Z",
     "start_time": "2020-05-25T22:33:09.435264Z"
    }
   },
   "outputs": [
    {
     "data": {
      "text/plain": [
       "array([0, 0, 4, ..., 0, 4, 0], dtype=uint16)"
      ]
     },
     "execution_count": 525,
     "metadata": {},
     "output_type": "execute_result"
    }
   ],
   "source": [
    "fitClusters_cao"
   ]
  },
  {
   "cell_type": "code",
   "execution_count": 526,
   "metadata": {
    "ExecuteTime": {
     "end_time": "2020-05-25T22:33:09.446231Z",
     "start_time": "2020-05-25T22:33:09.442212Z"
    }
   },
   "outputs": [],
   "source": [
    "data_few = dataset_few2_copy.reset_index()"
   ]
  },
  {
   "cell_type": "code",
   "execution_count": 527,
   "metadata": {
    "ExecuteTime": {
     "end_time": "2020-05-25T22:33:09.456198Z",
     "start_time": "2020-05-25T22:33:09.447198Z"
    }
   },
   "outputs": [],
   "source": [
    "clustersDf = pd.DataFrame(fitClusters_cao)\n",
    "clustersDf.columns = ['cluster_predicted']\n",
    "combinedDf = pd.concat([data_few, clustersDf], axis = 1).reset_index()\n",
    "combinedDf = combinedDf.drop(['index', 'level_0'], axis = 1)"
   ]
  },
  {
   "cell_type": "code",
   "execution_count": 528,
   "metadata": {
    "ExecuteTime": {
     "end_time": "2020-05-25T22:33:09.471138Z",
     "start_time": "2020-05-25T22:33:09.457172Z"
    }
   },
   "outputs": [
    {
     "data": {
      "text/html": [
       "<div>\n",
       "<style scoped>\n",
       "    .dataframe tbody tr th:only-of-type {\n",
       "        vertical-align: middle;\n",
       "    }\n",
       "\n",
       "    .dataframe tbody tr th {\n",
       "        vertical-align: top;\n",
       "    }\n",
       "\n",
       "    .dataframe thead th {\n",
       "        text-align: right;\n",
       "    }\n",
       "</style>\n",
       "<table border=\"1\" class=\"dataframe\">\n",
       "  <thead>\n",
       "    <tr style=\"text-align: right;\">\n",
       "      <th></th>\n",
       "      <th>Zona</th>\n",
       "      <th>Móvil Agresor</th>\n",
       "      <th>Móvil Victima</th>\n",
       "      <th>Sexo</th>\n",
       "      <th>Hora_bin</th>\n",
       "      <th>cluster_predicted</th>\n",
       "    </tr>\n",
       "  </thead>\n",
       "  <tbody>\n",
       "    <tr>\n",
       "      <th>0</th>\n",
       "      <td>URBANA</td>\n",
       "      <td>A PIE</td>\n",
       "      <td>A PIE</td>\n",
       "      <td>MASCULINO</td>\n",
       "      <td>6-9</td>\n",
       "      <td>0</td>\n",
       "    </tr>\n",
       "    <tr>\n",
       "      <th>1</th>\n",
       "      <td>URBANA</td>\n",
       "      <td>A PIE</td>\n",
       "      <td>A PIE</td>\n",
       "      <td>MASCULINO</td>\n",
       "      <td>6-9</td>\n",
       "      <td>0</td>\n",
       "    </tr>\n",
       "    <tr>\n",
       "      <th>2</th>\n",
       "      <td>RURAL</td>\n",
       "      <td>A PIE</td>\n",
       "      <td>A PIE</td>\n",
       "      <td>MASCULINO</td>\n",
       "      <td>6-9</td>\n",
       "      <td>4</td>\n",
       "    </tr>\n",
       "    <tr>\n",
       "      <th>3</th>\n",
       "      <td>RURAL</td>\n",
       "      <td>A PIE</td>\n",
       "      <td>A PIE</td>\n",
       "      <td>MASCULINO</td>\n",
       "      <td>0-3</td>\n",
       "      <td>1</td>\n",
       "    </tr>\n",
       "    <tr>\n",
       "      <th>4</th>\n",
       "      <td>RURAL</td>\n",
       "      <td>A PIE</td>\n",
       "      <td>A PIE</td>\n",
       "      <td>MASCULINO</td>\n",
       "      <td>0-3</td>\n",
       "      <td>1</td>\n",
       "    </tr>\n",
       "  </tbody>\n",
       "</table>\n",
       "</div>"
      ],
      "text/plain": [
       "     Zona Móvil Agresor Móvil Victima       Sexo Hora_bin  cluster_predicted\n",
       "0  URBANA         A PIE         A PIE  MASCULINO      6-9                  0\n",
       "1  URBANA         A PIE         A PIE  MASCULINO      6-9                  0\n",
       "2   RURAL         A PIE         A PIE  MASCULINO      6-9                  4\n",
       "3   RURAL         A PIE         A PIE  MASCULINO      0-3                  1\n",
       "4   RURAL         A PIE         A PIE  MASCULINO      0-3                  1"
      ]
     },
     "execution_count": 528,
     "metadata": {},
     "output_type": "execute_result"
    }
   ],
   "source": [
    "combinedDf.head()"
   ]
  },
  {
   "cell_type": "code",
   "execution_count": 529,
   "metadata": {
    "ExecuteTime": {
     "end_time": "2020-05-25T22:33:09.487126Z",
     "start_time": "2020-05-25T22:33:09.472132Z"
    }
   },
   "outputs": [],
   "source": [
    "# Cluster Identification\n",
    "\n",
    "cluster_0 = combinedDf[combinedDf['cluster_predicted'] == 0]\n",
    "cluster_1 = combinedDf[combinedDf['cluster_predicted'] == 1]\n",
    "cluster_2 = combinedDf[combinedDf['cluster_predicted'] == 2]\n",
    "cluster_3 = combinedDf[combinedDf['cluster_predicted'] == 3]\n",
    "cluster_4 = combinedDf[combinedDf['cluster_predicted'] == 4]\n",
    "cluster_5 = combinedDf[combinedDf['cluster_predicted'] == 5]\n",
    "#cluster_6 = combinedDf[combinedDf['cluster_predicted'] == 6]\n",
    "#cluster_7 = combinedDf[combinedDf['cluster_predicted'] == 7]\n",
    "#cluster_8 = combinedDf[combinedDf['cluster_predicted'] == 8]"
   ]
  },
  {
   "cell_type": "code",
   "execution_count": 530,
   "metadata": {
    "ExecuteTime": {
     "end_time": "2020-05-25T22:33:09.772317Z",
     "start_time": "2020-05-25T22:33:09.763333Z"
    }
   },
   "outputs": [
    {
     "name": "stdout",
     "output_type": "stream",
     "text": [
      "<class 'pandas.core.frame.DataFrame'>\n",
      "Int64Index: 8083 entries, 0 to 12497\n",
      "Data columns (total 6 columns):\n",
      " #   Column             Non-Null Count  Dtype   \n",
      "---  ------             --------------  -----   \n",
      " 0   Zona               8083 non-null   object  \n",
      " 1   Móvil Agresor      8083 non-null   object  \n",
      " 2   Móvil Victima      8083 non-null   object  \n",
      " 3   Sexo               8083 non-null   object  \n",
      " 4   Hora_bin           8083 non-null   category\n",
      " 5   cluster_predicted  8083 non-null   uint16  \n",
      "dtypes: category(1), object(4), uint16(1)\n",
      "memory usage: 339.8+ KB\n"
     ]
    }
   ],
   "source": [
    "cluster_0.info()"
   ]
  },
  {
   "cell_type": "code",
   "execution_count": 531,
   "metadata": {
    "ExecuteTime": {
     "end_time": "2020-05-25T22:33:10.536873Z",
     "start_time": "2020-05-25T22:33:10.393257Z"
    }
   },
   "outputs": [
    {
     "data": {
      "image/png": "[encoded data removed]",
      "text/plain": [
       "<Figure size 1080x360 with 1 Axes>"
      ]
     },
     "metadata": {
      "needs_background": "light"
     },
     "output_type": "display_data"
    }
   ],
   "source": [
    "plt.subplots(figsize = (15,5))\n",
    "sns.countplot(x=combinedDf['Sexo'],order=combinedDf['Sexo'].value_counts().index,hue=combinedDf['cluster_predicted'])\n",
    "plt.show()"
   ]
  },
  {
   "cell_type": "code",
   "execution_count": 534,
   "metadata": {
    "ExecuteTime": {
     "end_time": "2020-05-25T22:33:33.356379Z",
     "start_time": "2020-05-25T22:33:33.051196Z"
    }
   },
   "outputs": [
    {
     "data": {
      "image/png": "[encoded data removed]",
      "text/plain": [
       "<Figure size 1800x360 with 1 Axes>"
      ]
     },
     "metadata": {
      "needs_background": "light"
     },
     "output_type": "display_data"
    }
   ],
   "source": [
    "plt.subplots(figsize = (25,5))\n",
    "sns.countplot(x=combinedDf['Móvil Agresor'],order=combinedDf['Móvil Agresor'].value_counts().index,hue=combinedDf['cluster_predicted'])\n",
    "plt.show()"
   ]
  },
  {
   "cell_type": "code",
   "execution_count": 510,
   "metadata": {
    "ExecuteTime": {
     "end_time": "2020-05-25T22:30:31.059339Z",
     "start_time": "2020-05-25T22:30:30.833967Z"
    }
   },
   "outputs": [
    {
     "data": {
      "image/png": "[encoded data removed]",
      "text/plain": [
       "<Figure size 2160x360 with 1 Axes>"
      ]
     },
     "metadata": {
      "needs_background": "light"
     },
     "output_type": "display_data"
    }
   ],
   "source": [
    "plt.subplots(figsize = (30,5))\n",
    "sns.countplot(x=combinedDf['Móvil Victima'],order=combinedDf['Móvil Victima'].value_counts().index,hue=combinedDf['cluster_predicted'])\n",
    "plt.show()"
   ]
  },
  {
   "cell_type": "code",
   "execution_count": 513,
   "metadata": {
    "ExecuteTime": {
     "end_time": "2020-05-25T22:31:16.529128Z",
     "start_time": "2020-05-25T22:31:16.399443Z"
    }
   },
   "outputs": [
    {
     "data": {
      "image/png": "[encoded data removed]",
      "text/plain": [
       "<Figure size 1800x360 with 1 Axes>"
      ]
     },
     "metadata": {
      "needs_background": "light"
     },
     "output_type": "display_data"
    }
   ],
   "source": [
    "plt.subplots(figsize = (25,5))\n",
    "sns.countplot(x=combinedDf['Zona'],order=combinedDf['Zona'].value_counts().index,hue=combinedDf['cluster_predicted'])\n",
    "plt.show()"
   ]
  },
  {
   "cell_type": "markdown",
   "metadata": {},
   "source": [
    "* **DON'T WORK REALLY WELL**\n",
    "* There is not much important information that can be extracted from these groups\n",
    "* From the sex and the transportation of the aggressor it can be extracted that the murderers who use motorcycles are men\n",
    "* Men who die in rural areas, their perpetrators usually travel on foot."
   ]
  },
  {
   "cell_type": "markdown",
   "metadata": {},
   "source": [
    "* The K-mode model is quite limited in the amount of data it can receive and the way it can be grouped (A better strategy might have been established).\n",
    "\n",
    "* It is necessary to use **deep learning algorithms** to create micro clusterings that allow to relate the regions of one map and to be able to establish relations between the studied variables"
   ]
  },
  {
   "cell_type": "markdown",
   "metadata": {},
   "source": [
    "## <font style=\"color:rgb(50,120,229)\">8) Experiments 2: SOM(Self-organizing map) + kMode</font>\n"
   ]
  },
  {
   "cell_type": "code",
   "execution_count": null,
   "metadata": {},
   "outputs": [],
   "source": []
  },
  {
   "cell_type": "code",
   "execution_count": null,
   "metadata": {},
   "outputs": [],
   "source": []
  },
  {
   "cell_type": "code",
   "execution_count": null,
   "metadata": {},
   "outputs": [],
   "source": []
  }
 ],
 "metadata": {
  "kernelspec": {
   "display_name": "Python 3",
   "language": "python",
   "name": "python3"
  },
  "language_info": {
   "codemirror_mode": {
    "name": "ipython",
    "version": 3
   },
   "file_extension": ".py",
   "mimetype": "text/x-python",
   "name": "python",
   "nbconvert_exporter": "python",
   "pygments_lexer": "ipython3",
   "version": "3.7.7"
  }
 },
 "nbformat": 4,
 "nbformat_minor": 4
}
